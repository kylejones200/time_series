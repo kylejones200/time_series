{
 "cells": [
  {
   "cell_type": "code",
   "execution_count": 17,
   "id": "57341566-ddf7-4ad6-bd29-7a3950837ea7",
   "metadata": {},
   "outputs": [
    {
     "name": "stdout",
     "output_type": "stream",
     "text": [
      "        date      value  trend.unemploy  trend.filling  trend.job     sp500  \\\n",
      "0 2010-01-03  13.386595        0.219882      -0.318452   0.117500 -0.417633   \n",
      "1 2010-01-10  13.624218        0.219882      -0.194838   0.168794 -0.425480   \n",
      "2 2010-01-17  13.398741        0.236143      -0.292477   0.117500 -0.465229   \n",
      "3 2010-01-24  13.137549        0.203353      -0.194838   0.106918 -0.481751   \n",
      "4 2010-01-31  13.196760        0.134360      -0.242466   0.074483 -0.488929   \n",
      "\n",
      "        vix  \n",
      "0  0.122654  \n",
      "1  0.110445  \n",
      "2  0.532339  \n",
      "3  0.428645  \n",
      "4  0.487404  \n"
     ]
    }
   ],
   "source": [
    "import pandas as pd\n",
    "from orbit.utils.dataset import load_iclaims\n",
    "\n",
    "# Load sample data\n",
    "df = load_iclaims()\n",
    "df[\"week\"] = pd.to_datetime(df[\"week\"])\n",
    "df = df.rename(columns={\"week\": \"date\", \"claims\": \"value\"})\n",
    "\n",
    "print(df.head())"
   ]
  },
  {
   "cell_type": "code",
   "execution_count": 25,
   "id": "c8d9efaf-03b3-4f12-94a4-47c6fa759eb6",
   "metadata": {},
   "outputs": [
    {
     "name": "stderr",
     "output_type": "stream",
     "text": [
      "2025-01-13 17:04:56 - orbit - INFO - Sampling (CmdStanPy) with chains: 4, cores: 8, temperature: 1.000, warmups (per chain): 225 and samples(per chain): 25.\n",
      "2025-01-13 17:04:56 - orbit - INFO - Compiling stan model:/opt/anaconda3/lib/python3.12/site-packages/orbit/stan/dlt.stan. ETA 3 - 5 mins.\n"
     ]
    },
    {
     "ename": "ValueError",
     "evalue": "Failed to compile Stan model '/opt/anaconda3/lib/python3.12/site-packages/orbit/stan/dlt.stan'. Console:\nclang++ -pipe   -Wno-unknown-warning-option -Wno-tautological-compare -Wno-sign-compare -D_REENTRANT -ffp-contract=off  -O3 -I stan/lib/stan_math/lib/sundials_6.1.1/include -I stan/lib/stan_math/lib/sundials_6.1.1/src/sundials -DNO_FPRINTF_OUTPUT     -O3  -c -x c -include stan/lib/stan_math/lib/sundials_6.1.1/include/stan_sundials_printf_override.hpp stan/lib/stan_math/lib/sundials_6.1.1/src/nvector/serial/nvector_serial.c -o stan/lib/stan_math/lib/sundials_6.1.1/src/nvector/serial/nvector_serial.o\nstan/lib/stan_math/lib/sundials_6.1.1/src/nvector/serial/nvector_serial.c:19:10: fatal error: 'stdio.h' file not found\n#include <stdio.h>\n         ^~~~~~~~~\n1 error generated.\nmake: *** [stan/lib/stan_math/make/libraries:65: stan/lib/stan_math/lib/sundials_6.1.1/src/nvector/serial/nvector_serial.o] Error 1\n\nCommand ['make', 'STANCFLAGS+=--filename-in-msg=dlt.stan', '/opt/anaconda3/lib/python3.12/site-packages/orbit/stan/dlt']\n\terror during processing No such file or directory\n",
     "output_type": "error",
     "traceback": [
      "\u001b[0;31m---------------------------------------------------------------------------\u001b[0m",
      "\u001b[0;31mValueError\u001b[0m                                Traceback (most recent call last)",
      "Cell \u001b[0;32mIn[25], line 12\u001b[0m\n\u001b[1;32m      5\u001b[0m model \u001b[38;5;241m=\u001b[39m DLT(\n\u001b[1;32m      6\u001b[0m     response_col\u001b[38;5;241m=\u001b[39m\u001b[38;5;124m\"\u001b[39m\u001b[38;5;124mvalue\u001b[39m\u001b[38;5;124m\"\u001b[39m,\n\u001b[1;32m      7\u001b[0m     date_col\u001b[38;5;241m=\u001b[39m\u001b[38;5;124m\"\u001b[39m\u001b[38;5;124mdate\u001b[39m\u001b[38;5;124m\"\u001b[39m,\n\u001b[1;32m      8\u001b[0m     seasonality\u001b[38;5;241m=\u001b[39m\u001b[38;5;241m52\u001b[39m,  \u001b[38;5;66;03m# Weekly seasonality\u001b[39;00m\n\u001b[1;32m      9\u001b[0m )\n\u001b[1;32m     11\u001b[0m \u001b[38;5;66;03m# Fit the model\u001b[39;00m\n\u001b[0;32m---> 12\u001b[0m model\u001b[38;5;241m.\u001b[39mfit(df)\n",
      "File \u001b[0;32m/opt/anaconda3/lib/python3.12/site-packages/orbit/forecaster/full_bayes.py:36\u001b[0m, in \u001b[0;36mFullBayesianForecaster.fit\u001b[0;34m(self, df, point_method, keep_samples, sampling_temperature, **kwargs)\u001b[0m\n\u001b[1;32m     28\u001b[0m \u001b[38;5;28;01mdef\u001b[39;00m \u001b[38;5;21mfit\u001b[39m(\n\u001b[1;32m     29\u001b[0m     \u001b[38;5;28mself\u001b[39m,\n\u001b[1;32m     30\u001b[0m     df,\n\u001b[0;32m   (...)\u001b[0m\n\u001b[1;32m     34\u001b[0m     \u001b[38;5;241m*\u001b[39m\u001b[38;5;241m*\u001b[39mkwargs,\n\u001b[1;32m     35\u001b[0m ):\n\u001b[0;32m---> 36\u001b[0m     \u001b[38;5;28msuper\u001b[39m()\u001b[38;5;241m.\u001b[39mfit(df, sampling_temperature\u001b[38;5;241m=\u001b[39msampling_temperature, \u001b[38;5;241m*\u001b[39m\u001b[38;5;241m*\u001b[39mkwargs)\n\u001b[1;32m     37\u001b[0m     \u001b[38;5;28mself\u001b[39m\u001b[38;5;241m.\u001b[39m_point_method \u001b[38;5;241m=\u001b[39m point_method\n\u001b[1;32m     39\u001b[0m     \u001b[38;5;28;01mif\u001b[39;00m point_method \u001b[38;5;129;01mis\u001b[39;00m \u001b[38;5;129;01mnot\u001b[39;00m \u001b[38;5;28;01mNone\u001b[39;00m:\n",
      "File \u001b[0;32m/opt/anaconda3/lib/python3.12/site-packages/orbit/forecaster/forecaster.py:164\u001b[0m, in \u001b[0;36mForecaster.fit\u001b[0;34m(self, df, **kwargs)\u001b[0m\n\u001b[1;32m    160\u001b[0m model_param_names \u001b[38;5;241m=\u001b[39m \u001b[38;5;28mself\u001b[39m\u001b[38;5;241m.\u001b[39m_model\u001b[38;5;241m.\u001b[39mget_model_param_names()\n\u001b[1;32m    162\u001b[0m \u001b[38;5;66;03m# note that estimator will search for the .stan, .pyro model file based on the\u001b[39;00m\n\u001b[1;32m    163\u001b[0m \u001b[38;5;66;03m# estimator type and model_name provided\u001b[39;00m\n\u001b[0;32m--> 164\u001b[0m _posterior_samples, training_metrics \u001b[38;5;241m=\u001b[39m estimator\u001b[38;5;241m.\u001b[39mfit(\n\u001b[1;32m    165\u001b[0m     model_name\u001b[38;5;241m=\u001b[39mmodel_name,\n\u001b[1;32m    166\u001b[0m     model_param_names\u001b[38;5;241m=\u001b[39mmodel_param_names,\n\u001b[1;32m    167\u001b[0m     data_input\u001b[38;5;241m=\u001b[39mdata_input,\n\u001b[1;32m    168\u001b[0m     fitter\u001b[38;5;241m=\u001b[39m\u001b[38;5;28mself\u001b[39m\u001b[38;5;241m.\u001b[39m_model\u001b[38;5;241m.\u001b[39mget_fitter(),\n\u001b[1;32m    169\u001b[0m     init_values\u001b[38;5;241m=\u001b[39minit_values,\n\u001b[1;32m    170\u001b[0m     \u001b[38;5;241m*\u001b[39m\u001b[38;5;241m*\u001b[39mkwargs,\n\u001b[1;32m    171\u001b[0m )\n\u001b[1;32m    172\u001b[0m \u001b[38;5;28mself\u001b[39m\u001b[38;5;241m.\u001b[39m_posterior_samples \u001b[38;5;241m=\u001b[39m _posterior_samples\n\u001b[1;32m    173\u001b[0m \u001b[38;5;28mself\u001b[39m\u001b[38;5;241m.\u001b[39m_training_metrics \u001b[38;5;241m=\u001b[39m training_metrics\n",
      "File \u001b[0;32m/opt/anaconda3/lib/python3.12/site-packages/orbit/estimators/stan_estimator.py:139\u001b[0m, in \u001b[0;36mStanEstimatorMCMC.fit\u001b[0;34m(self, model_name, model_param_names, sampling_temperature, data_input, fitter, init_values)\u001b[0m\n\u001b[1;32m    130\u001b[0m     msg \u001b[38;5;241m=\u001b[39m msg_template\u001b[38;5;241m.\u001b[39mformat(\n\u001b[1;32m    131\u001b[0m         \u001b[38;5;28mself\u001b[39m\u001b[38;5;241m.\u001b[39mchains,\n\u001b[1;32m    132\u001b[0m         \u001b[38;5;28mself\u001b[39m\u001b[38;5;241m.\u001b[39mcores,\n\u001b[0;32m   (...)\u001b[0m\n\u001b[1;32m    135\u001b[0m         \u001b[38;5;28mself\u001b[39m\u001b[38;5;241m.\u001b[39m_num_sample_per_chain,\n\u001b[1;32m    136\u001b[0m     )\n\u001b[1;32m    137\u001b[0m     logger\u001b[38;5;241m.\u001b[39minfo(msg)\n\u001b[0;32m--> 139\u001b[0m compiled_mod \u001b[38;5;241m=\u001b[39m get_compiled_stan_model(stan_model_name\u001b[38;5;241m=\u001b[39mmodel_name)\n\u001b[1;32m    141\u001b[0m \u001b[38;5;66;03m# check https://mc-stan.org/cmdstanpy/api.html#cmdstanpy.CmdStanModel.sample\u001b[39;00m\n\u001b[1;32m    142\u001b[0m \u001b[38;5;66;03m# for additional args\u001b[39;00m\n\u001b[1;32m    143\u001b[0m stan_mcmc_fit \u001b[38;5;241m=\u001b[39m compiled_mod\u001b[38;5;241m.\u001b[39msample(\n\u001b[1;32m    144\u001b[0m     data\u001b[38;5;241m=\u001b[39mdata_input,\n\u001b[1;32m    145\u001b[0m     iter_sampling\u001b[38;5;241m=\u001b[39m\u001b[38;5;28mself\u001b[39m\u001b[38;5;241m.\u001b[39m_num_sample_per_chain,\n\u001b[0;32m   (...)\u001b[0m\n\u001b[1;32m    151\u001b[0m     \u001b[38;5;241m*\u001b[39m\u001b[38;5;241m*\u001b[39m\u001b[38;5;28mself\u001b[39m\u001b[38;5;241m.\u001b[39m_stan_mcmc_args,\n\u001b[1;32m    152\u001b[0m )\n",
      "File \u001b[0;32m/opt/anaconda3/lib/python3.12/site-packages/orbit/utils/stan.py:80\u001b[0m, in \u001b[0;36mget_compiled_stan_model\u001b[0;34m(stan_model_name, stan_file_path, exe_file_path, force_compile)\u001b[0m\n\u001b[1;32m     78\u001b[0m \u001b[38;5;28;01mif\u001b[39;00m \u001b[38;5;129;01mnot\u001b[39;00m os\u001b[38;5;241m.\u001b[39mpath\u001b[38;5;241m.\u001b[39misfile(exe_file) \u001b[38;5;129;01mor\u001b[39;00m force_compile:\n\u001b[1;32m     79\u001b[0m     logger\u001b[38;5;241m.\u001b[39minfo(\u001b[38;5;124mf\u001b[39m\u001b[38;5;124m\"\u001b[39m\u001b[38;5;124mCompiling stan model:\u001b[39m\u001b[38;5;132;01m{\u001b[39;00mstan_file\u001b[38;5;132;01m}\u001b[39;00m\u001b[38;5;124m. ETA 3 - 5 mins.\u001b[39m\u001b[38;5;124m\"\u001b[39m)\n\u001b[0;32m---> 80\u001b[0m     sm \u001b[38;5;241m=\u001b[39m CmdStanModel(stan_file\u001b[38;5;241m=\u001b[39mstan_file)\n\u001b[1;32m     81\u001b[0m \u001b[38;5;28;01melse\u001b[39;00m:\n\u001b[1;32m     82\u001b[0m     sm \u001b[38;5;241m=\u001b[39m CmdStanModel(stan_file\u001b[38;5;241m=\u001b[39mstan_file, exe_file\u001b[38;5;241m=\u001b[39mexe_file)\n",
      "File \u001b[0;32m/opt/anaconda3/lib/python3.12/site-packages/cmdstanpy/model.py:257\u001b[0m, in \u001b[0;36mCmdStanModel.__init__\u001b[0;34m(self, model_name, stan_file, exe_file, force_compile, stanc_options, cpp_options, user_header, compile)\u001b[0m\n\u001b[1;32m    254\u001b[0m         get_logger()\u001b[38;5;241m.\u001b[39mdebug(\u001b[38;5;124m\"\u001b[39m\u001b[38;5;124mTBB already found in load path\u001b[39m\u001b[38;5;124m\"\u001b[39m)\n\u001b[1;32m    256\u001b[0m \u001b[38;5;28;01mif\u001b[39;00m \u001b[38;5;28mcompile\u001b[39m \u001b[38;5;129;01mand\u001b[39;00m \u001b[38;5;28mself\u001b[39m\u001b[38;5;241m.\u001b[39m_exe_file \u001b[38;5;129;01mis\u001b[39;00m \u001b[38;5;28;01mNone\u001b[39;00m:\n\u001b[0;32m--> 257\u001b[0m     \u001b[38;5;28mself\u001b[39m\u001b[38;5;241m.\u001b[39mcompile(force\u001b[38;5;241m=\u001b[39m\u001b[38;5;28mstr\u001b[39m(\u001b[38;5;28mcompile\u001b[39m)\u001b[38;5;241m.\u001b[39mlower() \u001b[38;5;241m==\u001b[39m \u001b[38;5;124m'\u001b[39m\u001b[38;5;124mforce\u001b[39m\u001b[38;5;124m'\u001b[39m, _internal\u001b[38;5;241m=\u001b[39m\u001b[38;5;28;01mTrue\u001b[39;00m)\n",
      "File \u001b[0;32m/opt/anaconda3/lib/python3.12/site-packages/cmdstanpy/model.py:465\u001b[0m, in \u001b[0;36mCmdStanModel.compile\u001b[0;34m(self, force, stanc_options, cpp_options, user_header, override_options, _internal)\u001b[0m\n\u001b[1;32m    462\u001b[0m         \u001b[38;5;28;01melse\u001b[39;00m:\n\u001b[1;32m    463\u001b[0m             \u001b[38;5;28mself\u001b[39m\u001b[38;5;241m.\u001b[39m_compiler_options\u001b[38;5;241m.\u001b[39madd(compiler_options)\n\u001b[0;32m--> 465\u001b[0m \u001b[38;5;28mself\u001b[39m\u001b[38;5;241m.\u001b[39m_exe_file \u001b[38;5;241m=\u001b[39m compilation\u001b[38;5;241m.\u001b[39mcompile_stan_file(\n\u001b[1;32m    466\u001b[0m     \u001b[38;5;28mstr\u001b[39m(\u001b[38;5;28mself\u001b[39m\u001b[38;5;241m.\u001b[39mstan_file),\n\u001b[1;32m    467\u001b[0m     force\u001b[38;5;241m=\u001b[39mforce,\n\u001b[1;32m    468\u001b[0m     stanc_options\u001b[38;5;241m=\u001b[39m\u001b[38;5;28mself\u001b[39m\u001b[38;5;241m.\u001b[39m_compiler_options\u001b[38;5;241m.\u001b[39mstanc_options,\n\u001b[1;32m    469\u001b[0m     cpp_options\u001b[38;5;241m=\u001b[39m\u001b[38;5;28mself\u001b[39m\u001b[38;5;241m.\u001b[39m_compiler_options\u001b[38;5;241m.\u001b[39mcpp_options,\n\u001b[1;32m    470\u001b[0m     user_header\u001b[38;5;241m=\u001b[39m\u001b[38;5;28mself\u001b[39m\u001b[38;5;241m.\u001b[39m_compiler_options\u001b[38;5;241m.\u001b[39muser_header,\n\u001b[1;32m    471\u001b[0m )\n",
      "File \u001b[0;32m/opt/anaconda3/lib/python3.12/site-packages/cmdstanpy/compilation.py:481\u001b[0m, in \u001b[0;36mcompile_stan_file\u001b[0;34m(src, force, stanc_options, cpp_options, user_header)\u001b[0m\n\u001b[1;32m    474\u001b[0m     \u001b[38;5;28;01mif\u001b[39;00m \u001b[38;5;124m'\u001b[39m\u001b[38;5;124mPCH\u001b[39m\u001b[38;5;124m'\u001b[39m \u001b[38;5;129;01min\u001b[39;00m console \u001b[38;5;129;01mor\u001b[39;00m \u001b[38;5;124m'\u001b[39m\u001b[38;5;124mprecompiled header\u001b[39m\u001b[38;5;124m'\u001b[39m \u001b[38;5;129;01min\u001b[39;00m console:\n\u001b[1;32m    475\u001b[0m         get_logger()\u001b[38;5;241m.\u001b[39mwarning(\n\u001b[1;32m    476\u001b[0m             \u001b[38;5;124m\"\u001b[39m\u001b[38;5;124mCmdStan\u001b[39m\u001b[38;5;124m'\u001b[39m\u001b[38;5;124ms precompiled header (PCH) files \u001b[39m\u001b[38;5;124m\"\u001b[39m\n\u001b[1;32m    477\u001b[0m             \u001b[38;5;124m\"\u001b[39m\u001b[38;5;124mmay need to be rebuilt.\u001b[39m\u001b[38;5;124m\"\u001b[39m\n\u001b[1;32m    478\u001b[0m             \u001b[38;5;124m\"\u001b[39m\u001b[38;5;124mPlease run cmdstanpy.rebuild_cmdstan().\u001b[39m\u001b[38;5;130;01m\\n\u001b[39;00m\u001b[38;5;124m\"\u001b[39m\n\u001b[1;32m    479\u001b[0m             \u001b[38;5;124m\"\u001b[39m\u001b[38;5;124mIf the issue persists please open a bug report\u001b[39m\u001b[38;5;124m\"\u001b[39m\n\u001b[1;32m    480\u001b[0m         )\n\u001b[0;32m--> 481\u001b[0m     \u001b[38;5;28;01mraise\u001b[39;00m \u001b[38;5;167;01mValueError\u001b[39;00m(\n\u001b[1;32m    482\u001b[0m         \u001b[38;5;124mf\u001b[39m\u001b[38;5;124m\"\u001b[39m\u001b[38;5;124mFailed to compile Stan model \u001b[39m\u001b[38;5;124m'\u001b[39m\u001b[38;5;132;01m{\u001b[39;00msrc\u001b[38;5;132;01m}\u001b[39;00m\u001b[38;5;124m'\u001b[39m\u001b[38;5;124m. \u001b[39m\u001b[38;5;124m\"\u001b[39m \u001b[38;5;124mf\u001b[39m\u001b[38;5;124m\"\u001b[39m\u001b[38;5;124mConsole:\u001b[39m\u001b[38;5;130;01m\\n\u001b[39;00m\u001b[38;5;132;01m{\u001b[39;00mconsole\u001b[38;5;132;01m}\u001b[39;00m\u001b[38;5;124m\"\u001b[39m\n\u001b[1;32m    483\u001b[0m     )\n\u001b[1;32m    484\u001b[0m \u001b[38;5;28;01mreturn\u001b[39;00m \u001b[38;5;28mstr\u001b[39m(exe_target)\n",
      "\u001b[0;31mValueError\u001b[0m: Failed to compile Stan model '/opt/anaconda3/lib/python3.12/site-packages/orbit/stan/dlt.stan'. Console:\nclang++ -pipe   -Wno-unknown-warning-option -Wno-tautological-compare -Wno-sign-compare -D_REENTRANT -ffp-contract=off  -O3 -I stan/lib/stan_math/lib/sundials_6.1.1/include -I stan/lib/stan_math/lib/sundials_6.1.1/src/sundials -DNO_FPRINTF_OUTPUT     -O3  -c -x c -include stan/lib/stan_math/lib/sundials_6.1.1/include/stan_sundials_printf_override.hpp stan/lib/stan_math/lib/sundials_6.1.1/src/nvector/serial/nvector_serial.c -o stan/lib/stan_math/lib/sundials_6.1.1/src/nvector/serial/nvector_serial.o\nstan/lib/stan_math/lib/sundials_6.1.1/src/nvector/serial/nvector_serial.c:19:10: fatal error: 'stdio.h' file not found\n#include <stdio.h>\n         ^~~~~~~~~\n1 error generated.\nmake: *** [stan/lib/stan_math/make/libraries:65: stan/lib/stan_math/lib/sundials_6.1.1/src/nvector/serial/nvector_serial.o] Error 1\n\nCommand ['make', 'STANCFLAGS+=--filename-in-msg=dlt.stan', '/opt/anaconda3/lib/python3.12/site-packages/orbit/stan/dlt']\n\terror during processing No such file or directory\n"
     ]
    }
   ],
   "source": [
    "from orbit.models import DLT\n",
    "from orbit.diagnostics.plot import plot_predicted_data\n",
    "\n",
    "# Initialize the DLT model\n",
    "model = DLT(\n",
    "    response_col=\"value\",\n",
    "    date_col=\"date\",\n",
    "    seasonality=52,  # Weekly seasonality\n",
    ")\n",
    "\n",
    "# Fit the model\n",
    "model.fit(df)"
   ]
  },
  {
   "cell_type": "code",
   "execution_count": null,
   "id": "2b60c5b9-93c1-44d1-a2d8-a3fd11f99c50",
   "metadata": {},
   "outputs": [],
   "source": [
    "import pandas as pd\n",
    "from orbit.utils.dataset import load_iclaims\n",
    "from orbit.models import DLT\n",
    "from orbit.diagnostics.plot import plot_predicted_data\n",
    "\n",
    "# Load sample data\n",
    "df = load_iclaims()\n",
    "df[\"week\"] = pd.to_datetime(df[\"week\"])\n",
    "df = df.rename(columns={\"week\": \"date\", \"claims\": \"value\"})\n",
    "\n",
    "print(df.head())\n",
    "\n",
    "# Split data into train and test\n",
    "train_df = df.iloc[:-20]  # Use all but the last 20 rows for training\n",
    "test_df = df.iloc[-20:]  # Use the last 20 rows for testing\n",
    "\n",
    "# Initialize the DLT model\n",
    "model = DLT(\n",
    "    response_col=\"value\",\n",
    "    date_col=\"date\",\n",
    "    seasonality=52,  # Weekly seasonality\n",
    ")\n",
    "\n",
    "# Fit the model\n",
    "model.fit(df=train_df)\n",
    "\n",
    "# Make predictions\n",
    "forecast = model.predict(df=test_df)\n",
    "\n",
    "# Plot actual vs predicted values\n",
    "plot_predicted_data(\n",
    "    training_actual_df=train_df,\n",
    "    predicted_df=forecast,\n",
    "    date_col=\"date\",\n",
    "    actual_col=\"value\",\n",
    "    pred_col=\"prediction\",\n",
    "    test_actual_df=test_df,\n",
    ")\n"
   ]
  },
  {
   "cell_type": "code",
   "execution_count": null,
   "id": "a1eeff2e-301c-4677-9982-3c4656123302",
   "metadata": {},
   "outputs": [],
   "source": [
    "from cmdstanpy import install_cmdstan\n",
    "\n",
    "# Install or overwrite the existing installation\n",
    "install_cmdstan(overwrite=True)\n"
   ]
  },
  {
   "cell_type": "code",
   "execution_count": null,
   "id": "0bbecf61-f8e6-4638-905f-b991a3919cd6",
   "metadata": {},
   "outputs": [],
   "source": [
    "# Predict future values\n",
    "predictions = model.predict(df=data)\n",
    "\n",
    "# Plot the predicted data\n",
    "plot_predicted_data(data, predictions, date_col=\"date\", actual_col=\"value\", pred_col=\"prediction\")"
   ]
  },
  {
   "cell_type": "code",
   "execution_count": null,
   "id": "2a291a4d-5278-4b9f-a356-c4996d4ad715",
   "metadata": {},
   "outputs": [],
   "source": [
    "# Extract prediction intervals\n",
    "predictions[[\"prediction\", \"prediction_5\", \"prediction_95\"]].head()"
   ]
  },
  {
   "cell_type": "code",
   "execution_count": null,
   "id": "3573004d-03f8-4a53-a0fc-70c20541fea5",
   "metadata": {},
   "outputs": [],
   "source": [
    "# Initialize a model with custom parameters\n",
    "model = DLT(\n",
    "    response_col=\"value\",\n",
    "    date_col=\"date\",\n",
    "    seasonality=52,\n",
    "    damped=True,  # Damped trend\n",
    ")\n",
    "model.fit(train_df=data)"
   ]
  },
  {
   "cell_type": "code",
   "execution_count": null,
   "id": "d34e2342-4b9b-41c6-b2b4-8c2dc79969a7",
   "metadata": {},
   "outputs": [],
   "source": [
    "from orbit.models import KTR\n",
    "\n",
    "# Use Kernel Trend Regression (KTR) with custom priors\n",
    "model = KTR(\n",
    "    response_col=\"value\",\n",
    "    date_col=\"date\",\n",
    "    seasonality=52,\n",
    "    level_knot_prior=0.5,\n",
    ")\n",
    "model.fit(train_df=data)"
   ]
  },
  {
   "cell_type": "code",
   "execution_count": null,
   "id": "531e139a-8d6f-4279-b1be-426e3c69c7c9",
   "metadata": {},
   "outputs": [],
   "source": [
    "from orbit.diagnostics.metrics import smape, rmse\n",
    "\n",
    "# Calculate SMAPE and RMSE\n",
    "true_values = data[\"value\"]\n",
    "predicted_values = predictions[\"prediction\"]\n",
    "print(\"SMAPE:\", smape(true_values, predicted_values))\n",
    "print(\"RMSE:\", rmse(true_values, predicted_values))"
   ]
  },
  {
   "cell_type": "code",
   "execution_count": null,
   "id": "c11a380e-aa72-4120-a129-2ecb6a62d688",
   "metadata": {},
   "outputs": [],
   "source": [
    "# Add external regressors (e.g., economic indicators)\n",
    "data[\"recession\"] = [1 if x % 12 < 3 else 0 for x in range(len(data))]  # Simulated example\n",
    "\n",
    "# Initialize the model with regressors\n",
    "model = DLT(\n",
    "    response_col=\"value\",\n",
    "    date_col=\"date\",\n",
    "    seasonality=52,\n",
    "    regressor_col=[\"recession\"]\n",
    ")\n",
    "model.fit(train_df=data)"
   ]
  },
  {
   "cell_type": "code",
   "execution_count": null,
   "id": "ebf5d05c-29d0-443b-9ccb-fd307e48032a",
   "metadata": {},
   "outputs": [],
   "source": []
  },
  {
   "cell_type": "code",
   "execution_count": null,
   "id": "bd85a276-a43a-4255-9fc5-a5dfa08b5024",
   "metadata": {},
   "outputs": [],
   "source": []
  }
 ],
 "metadata": {
  "kernelspec": {
   "display_name": "datascience",
   "language": "python",
   "name": "datascience"
  },
  "language_info": {
   "codemirror_mode": {
    "name": "ipython",
    "version": 3
   },
   "file_extension": ".py",
   "mimetype": "text/x-python",
   "name": "python",
   "nbconvert_exporter": "python",
   "pygments_lexer": "ipython3",
   "version": "3.12.2"
  }
 },
 "nbformat": 4,
 "nbformat_minor": 5
}
