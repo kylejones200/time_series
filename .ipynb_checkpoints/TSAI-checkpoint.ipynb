{
 "cells": [
  {
   "cell_type": "code",
   "execution_count": null,
   "id": "8de34015-00de-4286-8021-423541892c84",
   "metadata": {},
   "outputs": [],
   "source": [
    "!pip install tsai\n"
   ]
  },
  {
   "cell_type": "code",
   "execution_count": null,
   "id": "45956bee-a1e1-445c-93c2-1f37f1f0459a",
   "metadata": {},
   "outputs": [],
   "source": [
    "\n",
    "from tsai.data.external import get_UCR_data\n",
    "# Download and load the ArrowHead dataset\n",
    "X, y, splits = get_UCR_data(\"ArrowHead\", split_data=True)\n",
    "print(X.shape, y.shape)  # (Samples, Timesteps, Features)"
   ]
  },
  {
   "cell_type": "code",
   "execution_count": null,
   "id": "5dbf11dc-df19-4261-81b0-5e30e0c2d01a",
   "metadata": {},
   "outputs": [],
   "source": [
    "dsid = 'OliveOil'\n",
    "X_train, y_train, X_valid, y_valid = get_UCR_data(dsid, on_disk=True, force_download=True)\n",
    "X_on_disk, y_on_disk, splits = get_UCR_data(dsid, on_disk=True, return_split=False, force_download=True)\n",
    "X_in_memory, y_in_memory, splits = get_UCR_data(dsid, on_disk=False, return_split=False, force_download=True)\n",
    "y_tensor = cat2int(y_on_disk)\n",
    "y_array = y_tensor.numpy()"
   ]
  },
  {
   "cell_type": "code",
   "execution_count": 5,
   "id": "b6b77f38-5da0-43db-aa54-89750eb876fa",
   "metadata": {},
   "outputs": [
    {
     "ename": "AttributeError",
     "evalue": "module 'tsai.basics' has no attribute 'RNN'",
     "output_type": "error",
     "traceback": [
      "\u001b[0;31m---------------------------------------------------------------------------\u001b[0m",
      "\u001b[0;31mAttributeError\u001b[0m                            Traceback (most recent call last)",
      "Cell \u001b[0;32mIn[5], line 9\u001b[0m\n\u001b[1;32m      7\u001b[0m dsets \u001b[38;5;241m=\u001b[39m ts\u001b[38;5;241m.\u001b[39mTSDatasets(X, y, tfms\u001b[38;5;241m=\u001b[39mtfms, splits\u001b[38;5;241m=\u001b[39msplits)\n\u001b[1;32m      8\u001b[0m dls   \u001b[38;5;241m=\u001b[39m ts\u001b[38;5;241m.\u001b[39mTSDataLoaders\u001b[38;5;241m.\u001b[39mfrom_dsets(dsets\u001b[38;5;241m.\u001b[39mtrain, dsets\u001b[38;5;241m.\u001b[39mvalid, bs\u001b[38;5;241m=\u001b[39mbs, num_workers\u001b[38;5;241m=\u001b[39m\u001b[38;5;241m0\u001b[39m, shuffle\u001b[38;5;241m=\u001b[39m\u001b[38;5;28;01mFalse\u001b[39;00m)\n\u001b[0;32m----> 9\u001b[0m model \u001b[38;5;241m=\u001b[39m ts\u001b[38;5;241m.\u001b[39mRNN(c_in, c_out, hidden_size\u001b[38;5;241m=\u001b[39m\u001b[38;5;241m100\u001b[39m,n_layers\u001b[38;5;241m=\u001b[39m\u001b[38;5;241m2\u001b[39m,bidirectional\u001b[38;5;241m=\u001b[39m\u001b[38;5;28;01mTrue\u001b[39;00m,rnn_dropout\u001b[38;5;241m=\u001b[39m\u001b[38;5;241m.5\u001b[39m,fc_dropout\u001b[38;5;241m=\u001b[39m\u001b[38;5;241m.5\u001b[39m)\n\u001b[1;32m     10\u001b[0m learn \u001b[38;5;241m=\u001b[39m ts\u001b[38;5;241m.\u001b[39mLearner(dls, model,  metrics\u001b[38;5;241m=\u001b[39maccuracy)\n\u001b[1;32m     11\u001b[0m ts\u001b[38;5;241m.\u001b[39mlearn\u001b[38;5;241m.\u001b[39mfit_one_cycle(\u001b[38;5;241m1\u001b[39m, \u001b[38;5;241m3e-3\u001b[39m)\n",
      "\u001b[0;31mAttributeError\u001b[0m: module 'tsai.basics' has no attribute 'RNN'"
     ]
    }
   ],
   "source": [
    "import tsai.basics as ts\n",
    "\n",
    "dsid = 'NATOPS' \n",
    "bs = 16\n",
    "X, y, splits = ts.get_UCR_data(dsid, return_split=False)\n",
    "tfms  = [None, [TSCategorize()]]\n",
    "dsets = ts.TSDatasets(X, y, tfms=tfms, splits=splits)\n",
    "dls   = ts.TSDataLoaders.from_dsets(dsets.train, dsets.valid, bs=bs, num_workers=0, shuffle=False)\n",
    "model = ts.RNN(c_in, c_out, hidden_size=100,n_layers=2,bidirectional=True,rnn_dropout=.5,fc_dropout=.5)\n",
    "learn = ts.Learner(dls, model,  metrics=accuracy)\n",
    "ts.learn.fit_one_cycle(1, 3e-3)"
   ]
  }
 ],
 "metadata": {
  "kernelspec": {
   "display_name": "datascience",
   "language": "python",
   "name": "datascience"
  },
  "language_info": {
   "codemirror_mode": {
    "name": "ipython",
    "version": 3
   },
   "file_extension": ".py",
   "mimetype": "text/x-python",
   "name": "python",
   "nbconvert_exporter": "python",
   "pygments_lexer": "ipython3",
   "version": "3.12.2"
  }
 },
 "nbformat": 4,
 "nbformat_minor": 5
}
