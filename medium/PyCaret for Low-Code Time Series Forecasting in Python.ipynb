{
 "cells": [
  {
   "cell_type": "markdown",
   "id": "37dece5f",
   "metadata": {},
   "source": [
    "# PyCaret for Time Series Forecasting in Python"
   ]
  },
  {
   "cell_type": "code",
   "execution_count": 1,
   "id": "5d507087",
   "metadata": {},
   "outputs": [
    {
     "name": "stdout",
     "output_type": "stream",
     "text": [
      "Requirement already satisfied: pycaret[time_series] in /Users/jnesnky/opt/anaconda3/lib/python3.8/site-packages (2.3.10)\n",
      "\u001b[33mWARNING: pycaret 2.3.10 does not provide the extra 'time-series'\u001b[0m\u001b[33m\n",
      "\u001b[0mRequirement already satisfied: pandas in /Users/jnesnky/opt/anaconda3/lib/python3.8/site-packages (from pycaret[time_series]) (1.5.3)\n",
      "Requirement already satisfied: scipy<=1.5.4 in /Users/jnesnky/opt/anaconda3/lib/python3.8/site-packages (from pycaret[time_series]) (1.5.4)\n",
      "Requirement already satisfied: seaborn in /Users/jnesnky/opt/anaconda3/lib/python3.8/site-packages (from pycaret[time_series]) (0.11.1)\n",
      "Requirement already satisfied: matplotlib in /Users/jnesnky/opt/anaconda3/lib/python3.8/site-packages (from pycaret[time_series]) (3.6.0)\n",
      "Requirement already satisfied: IPython in /Users/jnesnky/opt/anaconda3/lib/python3.8/site-packages (from pycaret[time_series]) (7.22.0)\n",
      "Requirement already satisfied: joblib in /Users/jnesnky/opt/anaconda3/lib/python3.8/site-packages (from pycaret[time_series]) (1.4.2)\n",
      "Requirement already satisfied: scikit-learn==0.23.2 in /Users/jnesnky/opt/anaconda3/lib/python3.8/site-packages (from pycaret[time_series]) (0.23.2)\n",
      "Requirement already satisfied: ipywidgets in /Users/jnesnky/opt/anaconda3/lib/python3.8/site-packages (from pycaret[time_series]) (8.1.5)\n",
      "Requirement already satisfied: yellowbrick>=1.0.1 in /Users/jnesnky/opt/anaconda3/lib/python3.8/site-packages (from pycaret[time_series]) (1.2.1)\n",
      "Requirement already satisfied: lightgbm>=2.3.1 in /Users/jnesnky/opt/anaconda3/lib/python3.8/site-packages (from pycaret[time_series]) (4.5.0)\n",
      "Requirement already satisfied: plotly>=4.4.1 in /Users/jnesnky/opt/anaconda3/lib/python3.8/site-packages (from pycaret[time_series]) (5.24.1)\n",
      "Requirement already satisfied: wordcloud in /Users/jnesnky/opt/anaconda3/lib/python3.8/site-packages (from pycaret[time_series]) (1.9.4)\n",
      "Requirement already satisfied: textblob in /Users/jnesnky/opt/anaconda3/lib/python3.8/site-packages (from pycaret[time_series]) (0.18.0.post0)\n",
      "Requirement already satisfied: cufflinks>=0.17.0 in /Users/jnesnky/opt/anaconda3/lib/python3.8/site-packages (from pycaret[time_series]) (0.17.3)\n",
      "Requirement already satisfied: umap-learn in /Users/jnesnky/opt/anaconda3/lib/python3.8/site-packages (from pycaret[time_series]) (0.5.7)\n",
      "Requirement already satisfied: pyLDAvis in /Users/jnesnky/opt/anaconda3/lib/python3.8/site-packages (from pycaret[time_series]) (3.3.1)\n",
      "Requirement already satisfied: gensim<4.0.0 in /Users/jnesnky/opt/anaconda3/lib/python3.8/site-packages (from pycaret[time_series]) (3.8.3)\n",
      "Requirement already satisfied: spacy<2.4.0 in /Users/jnesnky/opt/anaconda3/lib/python3.8/site-packages (from pycaret[time_series]) (2.3.9)\n",
      "Requirement already satisfied: nltk in /Users/jnesnky/opt/anaconda3/lib/python3.8/site-packages (from pycaret[time_series]) (3.9.1)\n",
      "Requirement already satisfied: mlxtend>=0.17.0 in /Users/jnesnky/opt/anaconda3/lib/python3.8/site-packages (from pycaret[time_series]) (0.19.0)\n",
      "Requirement already satisfied: pyod in /Users/jnesnky/opt/anaconda3/lib/python3.8/site-packages (from pycaret[time_series]) (2.0.3)\n",
      "Requirement already satisfied: pandas-profiling>=2.8.0 in /Users/jnesnky/opt/anaconda3/lib/python3.8/site-packages (from pycaret[time_series]) (3.6.6)\n",
      "Requirement already satisfied: kmodes>=0.10.1 in /Users/jnesnky/opt/anaconda3/lib/python3.8/site-packages (from pycaret[time_series]) (0.12.2)\n",
      "Requirement already satisfied: mlflow in /Users/jnesnky/opt/anaconda3/lib/python3.8/site-packages (from pycaret[time_series]) (2.17.2)\n",
      "Requirement already satisfied: imbalanced-learn==0.7.0 in /Users/jnesnky/opt/anaconda3/lib/python3.8/site-packages (from pycaret[time_series]) (0.7.0)\n",
      "Requirement already satisfied: scikit-plot in /Users/jnesnky/opt/anaconda3/lib/python3.8/site-packages (from pycaret[time_series]) (0.3.7)\n",
      "Requirement already satisfied: Boruta in /Users/jnesnky/opt/anaconda3/lib/python3.8/site-packages (from pycaret[time_series]) (0.4.3)\n",
      "Requirement already satisfied: pyyaml<6.0.0 in /Users/jnesnky/opt/anaconda3/lib/python3.8/site-packages (from pycaret[time_series]) (5.4.1)\n",
      "Requirement already satisfied: numba<0.55 in /Users/jnesnky/opt/anaconda3/lib/python3.8/site-packages (from pycaret[time_series]) (0.54.1)\n",
      "Requirement already satisfied: numpy>=1.13.3 in /Users/jnesnky/opt/anaconda3/lib/python3.8/site-packages (from imbalanced-learn==0.7.0->pycaret[time_series]) (1.20.3)\n",
      "Requirement already satisfied: threadpoolctl>=2.0.0 in /Users/jnesnky/opt/anaconda3/lib/python3.8/site-packages (from scikit-learn==0.23.2->pycaret[time_series]) (3.5.0)\n",
      "Requirement already satisfied: six>=1.9.0 in /Users/jnesnky/opt/anaconda3/lib/python3.8/site-packages (from cufflinks>=0.17.0->pycaret[time_series]) (1.14.0)\n",
      "Requirement already satisfied: colorlover>=0.2.1 in /Users/jnesnky/opt/anaconda3/lib/python3.8/site-packages (from cufflinks>=0.17.0->pycaret[time_series]) (0.3.0)\n",
      "Requirement already satisfied: setuptools>=34.4.1 in /Users/jnesnky/opt/anaconda3/lib/python3.8/site-packages (from cufflinks>=0.17.0->pycaret[time_series]) (75.3.0)\n",
      "Requirement already satisfied: smart-open>=1.8.1 in /Users/jnesnky/opt/anaconda3/lib/python3.8/site-packages (from gensim<4.0.0->pycaret[time_series]) (7.1.0)\n",
      "Requirement already satisfied: jedi>=0.16 in /Users/jnesnky/opt/anaconda3/lib/python3.8/site-packages (from IPython->pycaret[time_series]) (0.17.2)\n",
      "Requirement already satisfied: decorator in /Users/jnesnky/opt/anaconda3/lib/python3.8/site-packages (from IPython->pycaret[time_series]) (5.0.6)\n",
      "Requirement already satisfied: pickleshare in /Users/jnesnky/opt/anaconda3/lib/python3.8/site-packages (from IPython->pycaret[time_series]) (0.7.5)\n",
      "Requirement already satisfied: traitlets>=4.2 in /Users/jnesnky/opt/anaconda3/lib/python3.8/site-packages (from IPython->pycaret[time_series]) (5.0.5)\n",
      "Requirement already satisfied: prompt-toolkit!=3.0.0,!=3.0.1,<3.1.0,>=2.0.0 in /Users/jnesnky/opt/anaconda3/lib/python3.8/site-packages (from IPython->pycaret[time_series]) (3.0.17)\n",
      "Requirement already satisfied: pygments in /Users/jnesnky/opt/anaconda3/lib/python3.8/site-packages (from IPython->pycaret[time_series]) (2.18.0)\n",
      "Requirement already satisfied: backcall in /Users/jnesnky/opt/anaconda3/lib/python3.8/site-packages (from IPython->pycaret[time_series]) (0.2.0)\n",
      "Requirement already satisfied: pexpect>4.3 in /Users/jnesnky/opt/anaconda3/lib/python3.8/site-packages (from IPython->pycaret[time_series]) (4.8.0)\n",
      "Requirement already satisfied: appnope in /Users/jnesnky/opt/anaconda3/lib/python3.8/site-packages (from IPython->pycaret[time_series]) (0.1.2)\n",
      "Requirement already satisfied: comm>=0.1.3 in /Users/jnesnky/opt/anaconda3/lib/python3.8/site-packages (from ipywidgets->pycaret[time_series]) (0.2.2)\n",
      "Requirement already satisfied: widgetsnbextension~=4.0.12 in /Users/jnesnky/opt/anaconda3/lib/python3.8/site-packages (from ipywidgets->pycaret[time_series]) (4.0.13)\n",
      "Requirement already satisfied: jupyterlab-widgets~=3.0.12 in /Users/jnesnky/opt/anaconda3/lib/python3.8/site-packages (from ipywidgets->pycaret[time_series]) (3.0.13)\n",
      "Requirement already satisfied: contourpy>=1.0.1 in /Users/jnesnky/opt/anaconda3/lib/python3.8/site-packages (from matplotlib->pycaret[time_series]) (1.1.1)\n",
      "Requirement already satisfied: cycler>=0.10 in /Users/jnesnky/opt/anaconda3/lib/python3.8/site-packages (from matplotlib->pycaret[time_series]) (0.10.0)\n",
      "Requirement already satisfied: fonttools>=4.22.0 in /Users/jnesnky/opt/anaconda3/lib/python3.8/site-packages (from matplotlib->pycaret[time_series]) (4.55.0)\n",
      "Requirement already satisfied: kiwisolver>=1.0.1 in /Users/jnesnky/opt/anaconda3/lib/python3.8/site-packages (from matplotlib->pycaret[time_series]) (1.3.1)\n",
      "Requirement already satisfied: packaging>=20.0 in /Users/jnesnky/opt/anaconda3/lib/python3.8/site-packages (from matplotlib->pycaret[time_series]) (23.2)\n",
      "Requirement already satisfied: pillow>=6.2.0 in /Users/jnesnky/opt/anaconda3/lib/python3.8/site-packages (from matplotlib->pycaret[time_series]) (10.4.0)\n",
      "Requirement already satisfied: pyparsing>=2.2.1 in /Users/jnesnky/opt/anaconda3/lib/python3.8/site-packages (from matplotlib->pycaret[time_series]) (3.1.4)\n",
      "Requirement already satisfied: python-dateutil>=2.7 in /Users/jnesnky/opt/anaconda3/lib/python3.8/site-packages (from matplotlib->pycaret[time_series]) (2.8.2)\n",
      "Requirement already satisfied: llvmlite<0.38,>=0.37.0rc1 in /Users/jnesnky/opt/anaconda3/lib/python3.8/site-packages (from numba<0.55->pycaret[time_series]) (0.37.0)\n"
     ]
    },
    {
     "name": "stdout",
     "output_type": "stream",
     "text": [
      "Requirement already satisfied: pytz>=2020.1 in /Users/jnesnky/opt/anaconda3/lib/python3.8/site-packages (from pandas->pycaret[time_series]) (2024.1)\n",
      "Requirement already satisfied: ydata-profiling in /Users/jnesnky/opt/anaconda3/lib/python3.8/site-packages (from pandas-profiling>=2.8.0->pycaret[time_series]) (4.5.1)\n",
      "Requirement already satisfied: tenacity>=6.2.0 in /Users/jnesnky/opt/anaconda3/lib/python3.8/site-packages (from plotly>=4.4.1->pycaret[time_series]) (8.0.1)\n",
      "Requirement already satisfied: murmurhash<1.1.0,>=0.28.0 in /Users/jnesnky/opt/anaconda3/lib/python3.8/site-packages (from spacy<2.4.0->pycaret[time_series]) (1.0.11)\n",
      "Requirement already satisfied: cymem<2.1.0,>=2.0.2 in /Users/jnesnky/opt/anaconda3/lib/python3.8/site-packages (from spacy<2.4.0->pycaret[time_series]) (2.0.10)\n",
      "Requirement already satisfied: preshed<3.1.0,>=3.0.2 in /Users/jnesnky/opt/anaconda3/lib/python3.8/site-packages (from spacy<2.4.0->pycaret[time_series]) (3.0.9)\n",
      "Requirement already satisfied: thinc<7.5.0,>=7.4.1 in /Users/jnesnky/opt/anaconda3/lib/python3.8/site-packages (from spacy<2.4.0->pycaret[time_series]) (7.4.6)\n",
      "Requirement already satisfied: blis<0.8.0,>=0.4.0 in /Users/jnesnky/opt/anaconda3/lib/python3.8/site-packages (from spacy<2.4.0->pycaret[time_series]) (0.7.11)\n",
      "Requirement already satisfied: wasabi<1.1.0,>=0.4.0 in /Users/jnesnky/opt/anaconda3/lib/python3.8/site-packages (from spacy<2.4.0->pycaret[time_series]) (0.10.1)\n",
      "Requirement already satisfied: srsly<1.1.0,>=1.0.2 in /Users/jnesnky/opt/anaconda3/lib/python3.8/site-packages (from spacy<2.4.0->pycaret[time_series]) (1.0.7)\n",
      "Requirement already satisfied: catalogue<1.1.0,>=0.0.7 in /Users/jnesnky/opt/anaconda3/lib/python3.8/site-packages (from spacy<2.4.0->pycaret[time_series]) (1.0.2)\n",
      "Requirement already satisfied: tqdm<5.0.0,>=4.38.0 in /Users/jnesnky/opt/anaconda3/lib/python3.8/site-packages (from spacy<2.4.0->pycaret[time_series]) (4.67.1)\n",
      "Requirement already satisfied: plac<1.2.0,>=0.9.6 in /Users/jnesnky/opt/anaconda3/lib/python3.8/site-packages (from spacy<2.4.0->pycaret[time_series]) (1.1.3)\n",
      "Requirement already satisfied: requests<3.0.0,>=2.13.0 in /Users/jnesnky/opt/anaconda3/lib/python3.8/site-packages (from spacy<2.4.0->pycaret[time_series]) (2.31.0)\n",
      "Requirement already satisfied: mlflow-skinny==2.17.2 in /Users/jnesnky/opt/anaconda3/lib/python3.8/site-packages (from mlflow->pycaret[time_series]) (2.17.2)\n",
      "Requirement already satisfied: Flask<4 in /Users/jnesnky/opt/anaconda3/lib/python3.8/site-packages (from mlflow->pycaret[time_series]) (2.0.1)\n",
      "Requirement already satisfied: alembic!=1.10.0,<2 in /Users/jnesnky/opt/anaconda3/lib/python3.8/site-packages (from mlflow->pycaret[time_series]) (1.14.0)\n",
      "Requirement already satisfied: docker<8,>=4.0.0 in /Users/jnesnky/opt/anaconda3/lib/python3.8/site-packages (from mlflow->pycaret[time_series]) (4.4.4)\n",
      "Requirement already satisfied: graphene<4 in /Users/jnesnky/opt/anaconda3/lib/python3.8/site-packages (from mlflow->pycaret[time_series]) (3.4.3)\n",
      "Requirement already satisfied: markdown<4,>=3.3 in /Users/jnesnky/opt/anaconda3/lib/python3.8/site-packages (from mlflow->pycaret[time_series]) (3.7)\n",
      "Requirement already satisfied: pyarrow<18,>=4.0.0 in /Users/jnesnky/opt/anaconda3/lib/python3.8/site-packages (from mlflow->pycaret[time_series]) (12.0.1)\n",
      "Requirement already satisfied: sqlalchemy<3,>=1.4.0 in /Users/jnesnky/opt/anaconda3/lib/python3.8/site-packages (from mlflow->pycaret[time_series]) (1.4.7)\n",
      "Requirement already satisfied: Jinja2<4,>=2.11 in /Users/jnesnky/opt/anaconda3/lib/python3.8/site-packages (from mlflow->pycaret[time_series]) (3.0.1)\n",
      "Requirement already satisfied: gunicorn<24 in /Users/jnesnky/opt/anaconda3/lib/python3.8/site-packages (from mlflow->pycaret[time_series]) (23.0.0)\n",
      "Requirement already satisfied: cachetools<6,>=5.0.0 in /Users/jnesnky/opt/anaconda3/lib/python3.8/site-packages (from mlflow-skinny==2.17.2->mlflow->pycaret[time_series]) (5.5.0)\n",
      "Requirement already satisfied: click<9,>=7.0 in /Users/jnesnky/opt/anaconda3/lib/python3.8/site-packages (from mlflow-skinny==2.17.2->mlflow->pycaret[time_series]) (8.0.1)\n",
      "Requirement already satisfied: cloudpickle<4 in /Users/jnesnky/opt/anaconda3/lib/python3.8/site-packages (from mlflow-skinny==2.17.2->mlflow->pycaret[time_series]) (2.2.1)\n",
      "Requirement already satisfied: databricks-sdk<1,>=0.20.0 in /Users/jnesnky/opt/anaconda3/lib/python3.8/site-packages (from mlflow-skinny==2.17.2->mlflow->pycaret[time_series]) (0.40.0)\n",
      "Requirement already satisfied: gitpython<4,>=3.1.9 in /Users/jnesnky/opt/anaconda3/lib/python3.8/site-packages (from mlflow-skinny==2.17.2->mlflow->pycaret[time_series]) (3.1.44)\n",
      "Requirement already satisfied: importlib-metadata!=4.7.0,<9,>=3.7.0 in /Users/jnesnky/opt/anaconda3/lib/python3.8/site-packages (from mlflow-skinny==2.17.2->mlflow->pycaret[time_series]) (8.5.0)\n",
      "Requirement already satisfied: opentelemetry-api<3,>=1.9.0 in /Users/jnesnky/opt/anaconda3/lib/python3.8/site-packages (from mlflow-skinny==2.17.2->mlflow->pycaret[time_series]) (1.29.0)\n",
      "Requirement already satisfied: opentelemetry-sdk<3,>=1.9.0 in /Users/jnesnky/opt/anaconda3/lib/python3.8/site-packages (from mlflow-skinny==2.17.2->mlflow->pycaret[time_series]) (1.29.0)\n",
      "Requirement already satisfied: protobuf<6,>=3.12.0 in /Users/jnesnky/opt/anaconda3/lib/python3.8/site-packages (from mlflow-skinny==2.17.2->mlflow->pycaret[time_series]) (4.25.5)\n",
      "Requirement already satisfied: sqlparse<1,>=0.4.0 in /Users/jnesnky/opt/anaconda3/lib/python3.8/site-packages (from mlflow-skinny==2.17.2->mlflow->pycaret[time_series]) (0.5.3)\n",
      "Requirement already satisfied: regex>=2021.8.3 in /Users/jnesnky/opt/anaconda3/lib/python3.8/site-packages (from nltk->pycaret[time_series]) (2024.11.6)\n",
      "Requirement already satisfied: numexpr in /Users/jnesnky/opt/anaconda3/lib/python3.8/site-packages (from pyLDAvis->pycaret[time_series]) (2.7.3)\n",
      "Requirement already satisfied: future in /Users/jnesnky/opt/anaconda3/lib/python3.8/site-packages (from pyLDAvis->pycaret[time_series]) (0.16.0)\n",
      "Requirement already satisfied: funcy in /Users/jnesnky/opt/anaconda3/lib/python3.8/site-packages (from pyLDAvis->pycaret[time_series]) (2.0)\n",
      "Requirement already satisfied: sklearn in /Users/jnesnky/opt/anaconda3/lib/python3.8/site-packages (from pyLDAvis->pycaret[time_series]) (0.0.post7)\n",
      "Requirement already satisfied: pynndescent>=0.5 in /Users/jnesnky/opt/anaconda3/lib/python3.8/site-packages (from umap-learn->pycaret[time_series]) (0.5.13)\n",
      "Requirement already satisfied: Mako in /Users/jnesnky/opt/anaconda3/lib/python3.8/site-packages (from alembic!=1.10.0,<2->mlflow->pycaret[time_series]) (1.3.8)\n",
      "Requirement already satisfied: typing-extensions>=4 in /Users/jnesnky/opt/anaconda3/lib/python3.8/site-packages (from alembic!=1.10.0,<2->mlflow->pycaret[time_series]) (4.12.2)\n",
      "Requirement already satisfied: importlib-resources in /Users/jnesnky/opt/anaconda3/lib/python3.8/site-packages (from alembic!=1.10.0,<2->mlflow->pycaret[time_series]) (5.12.0)\n",
      "Requirement already satisfied: websocket-client>=0.32.0 in /Users/jnesnky/opt/anaconda3/lib/python3.8/site-packages (from docker<8,>=4.0.0->mlflow->pycaret[time_series]) (0.59.0)\n",
      "Requirement already satisfied: Werkzeug>=2.0 in /Users/jnesnky/opt/anaconda3/lib/python3.8/site-packages (from Flask<4->mlflow->pycaret[time_series]) (2.0.1)\n",
      "Requirement already satisfied: itsdangerous>=2.0 in /Users/jnesnky/opt/anaconda3/lib/python3.8/site-packages (from Flask<4->mlflow->pycaret[time_series]) (2.0.1)\n",
      "Requirement already satisfied: graphql-core<3.3,>=3.1 in /Users/jnesnky/opt/anaconda3/lib/python3.8/site-packages (from graphene<4->mlflow->pycaret[time_series]) (3.2.5)\n",
      "Requirement already satisfied: graphql-relay<3.3,>=3.1 in /Users/jnesnky/opt/anaconda3/lib/python3.8/site-packages (from graphene<4->mlflow->pycaret[time_series]) (3.2.0)\n",
      "Requirement already satisfied: parso<0.8.0,>=0.7.0 in /Users/jnesnky/opt/anaconda3/lib/python3.8/site-packages (from jedi>=0.16->IPython->pycaret[time_series]) (0.7.0)\n",
      "Requirement already satisfied: MarkupSafe>=2.0 in /Users/jnesnky/opt/anaconda3/lib/python3.8/site-packages (from Jinja2<4,>=2.11->mlflow->pycaret[time_series]) (2.0.1)\n",
      "Requirement already satisfied: ptyprocess>=0.5 in /Users/jnesnky/opt/anaconda3/lib/python3.8/site-packages (from pexpect>4.3->IPython->pycaret[time_series]) (0.7.0)\n"
     ]
    },
    {
     "name": "stdout",
     "output_type": "stream",
     "text": [
      "Requirement already satisfied: wcwidth in /Users/jnesnky/opt/anaconda3/lib/python3.8/site-packages (from prompt-toolkit!=3.0.0,!=3.0.1,<3.1.0,>=2.0.0->IPython->pycaret[time_series]) (0.1.9)\n",
      "Requirement already satisfied: charset-normalizer<4,>=2 in /Users/jnesnky/opt/anaconda3/lib/python3.8/site-packages (from requests<3.0.0,>=2.13.0->spacy<2.4.0->pycaret[time_series]) (2.0.7)\n",
      "Requirement already satisfied: idna<4,>=2.5 in /Users/jnesnky/opt/anaconda3/lib/python3.8/site-packages (from requests<3.0.0,>=2.13.0->spacy<2.4.0->pycaret[time_series]) (2.10)\n",
      "Requirement already satisfied: urllib3<3,>=1.21.1 in /Users/jnesnky/opt/anaconda3/lib/python3.8/site-packages (from requests<3.0.0,>=2.13.0->spacy<2.4.0->pycaret[time_series]) (1.26.20)\n",
      "Requirement already satisfied: certifi>=2017.4.17 in /Users/jnesnky/opt/anaconda3/lib/python3.8/site-packages (from requests<3.0.0,>=2.13.0->spacy<2.4.0->pycaret[time_series]) (2020.12.5)\n",
      "Requirement already satisfied: wrapt in /Users/jnesnky/opt/anaconda3/lib/python3.8/site-packages (from smart-open>=1.8.1->gensim<4.0.0->pycaret[time_series]) (1.12.1)\n",
      "Requirement already satisfied: greenlet!=0.4.17 in /Users/jnesnky/opt/anaconda3/lib/python3.8/site-packages (from sqlalchemy<3,>=1.4.0->mlflow->pycaret[time_series]) (1.0.0)\n",
      "Requirement already satisfied: ipython-genutils in /Users/jnesnky/opt/anaconda3/lib/python3.8/site-packages (from traitlets>=4.2->IPython->pycaret[time_series]) (0.2.0)\n",
      "Requirement already satisfied: pydantic<2,>=1.8.1 in /Users/jnesnky/opt/anaconda3/lib/python3.8/site-packages (from ydata-profiling->pandas-profiling>=2.8.0->pycaret[time_series]) (1.10.20)\n",
      "Requirement already satisfied: visions==0.7.5 in /Users/jnesnky/opt/anaconda3/lib/python3.8/site-packages (from visions[type_image_path]==0.7.5->ydata-profiling->pandas-profiling>=2.8.0->pycaret[time_series]) (0.7.5)\n",
      "Requirement already satisfied: htmlmin==0.1.12 in /Users/jnesnky/opt/anaconda3/lib/python3.8/site-packages (from ydata-profiling->pandas-profiling>=2.8.0->pycaret[time_series]) (0.1.12)\n",
      "Requirement already satisfied: phik<0.13,>=0.11.1 in /Users/jnesnky/opt/anaconda3/lib/python3.8/site-packages (from ydata-profiling->pandas-profiling>=2.8.0->pycaret[time_series]) (0.12.4)\n",
      "Requirement already satisfied: multimethod<2,>=1.4 in /Users/jnesnky/opt/anaconda3/lib/python3.8/site-packages (from ydata-profiling->pandas-profiling>=2.8.0->pycaret[time_series]) (1.10)\n",
      "Requirement already satisfied: statsmodels<1,>=0.13.2 in /Users/jnesnky/opt/anaconda3/lib/python3.8/site-packages (from ydata-profiling->pandas-profiling>=2.8.0->pycaret[time_series]) (0.14.0)\n",
      "Requirement already satisfied: typeguard<3,>=2.13.2 in /Users/jnesnky/opt/anaconda3/lib/python3.8/site-packages (from ydata-profiling->pandas-profiling>=2.8.0->pycaret[time_series]) (2.13.3)\n",
      "Requirement already satisfied: imagehash==4.3.1 in /Users/jnesnky/opt/anaconda3/lib/python3.8/site-packages (from ydata-profiling->pandas-profiling>=2.8.0->pycaret[time_series]) (4.3.1)\n",
      "Requirement already satisfied: dacite>=1.8 in /Users/jnesnky/opt/anaconda3/lib/python3.8/site-packages (from ydata-profiling->pandas-profiling>=2.8.0->pycaret[time_series]) (1.8.1)\n",
      "Requirement already satisfied: PyWavelets in /Users/jnesnky/opt/anaconda3/lib/python3.8/site-packages (from imagehash==4.3.1->ydata-profiling->pandas-profiling>=2.8.0->pycaret[time_series]) (1.1.1)\n",
      "Requirement already satisfied: attrs>=19.3.0 in /Users/jnesnky/opt/anaconda3/lib/python3.8/site-packages (from visions==0.7.5->visions[type_image_path]==0.7.5->ydata-profiling->pandas-profiling>=2.8.0->pycaret[time_series]) (23.2.0)\n",
      "Requirement already satisfied: networkx>=2.4 in /Users/jnesnky/opt/anaconda3/lib/python3.8/site-packages (from visions==0.7.5->visions[type_image_path]==0.7.5->ydata-profiling->pandas-profiling>=2.8.0->pycaret[time_series]) (2.5)\n",
      "Requirement already satisfied: tangled-up-in-unicode>=0.0.4 in /Users/jnesnky/opt/anaconda3/lib/python3.8/site-packages (from visions==0.7.5->visions[type_image_path]==0.7.5->ydata-profiling->pandas-profiling>=2.8.0->pycaret[time_series]) (0.2.0)\n",
      "\u001b[33mWARNING: visions 0.7.5 does not provide the extra 'type-image-path'\u001b[0m\u001b[33m\n",
      "\u001b[0mRequirement already satisfied: google-auth~=2.0 in /Users/jnesnky/opt/anaconda3/lib/python3.8/site-packages (from databricks-sdk<1,>=0.20.0->mlflow-skinny==2.17.2->mlflow->pycaret[time_series]) (2.37.0)\n",
      "Requirement already satisfied: gitdb<5,>=4.0.1 in /Users/jnesnky/opt/anaconda3/lib/python3.8/site-packages (from gitpython<4,>=3.1.9->mlflow-skinny==2.17.2->mlflow->pycaret[time_series]) (4.0.12)\n",
      "Requirement already satisfied: zipp>=3.20 in /Users/jnesnky/opt/anaconda3/lib/python3.8/site-packages (from importlib-metadata!=4.7.0,<9,>=3.7.0->mlflow-skinny==2.17.2->mlflow->pycaret[time_series]) (3.20.2)\n",
      "Requirement already satisfied: deprecated>=1.2.6 in /Users/jnesnky/opt/anaconda3/lib/python3.8/site-packages (from opentelemetry-api<3,>=1.9.0->mlflow-skinny==2.17.2->mlflow->pycaret[time_series]) (1.2.13)\n",
      "Requirement already satisfied: opentelemetry-semantic-conventions==0.50b0 in /Users/jnesnky/opt/anaconda3/lib/python3.8/site-packages (from opentelemetry-sdk<3,>=1.9.0->mlflow-skinny==2.17.2->mlflow->pycaret[time_series]) (0.50b0)\n",
      "Requirement already satisfied: patsy>=0.5.2 in /Users/jnesnky/opt/anaconda3/lib/python3.8/site-packages (from statsmodels<1,>=0.13.2->ydata-profiling->pandas-profiling>=2.8.0->pycaret[time_series]) (0.5.4)\n",
      "Requirement already satisfied: smmap<6,>=3.0.1 in /Users/jnesnky/opt/anaconda3/lib/python3.8/site-packages (from gitdb<5,>=4.0.1->gitpython<4,>=3.1.9->mlflow-skinny==2.17.2->mlflow->pycaret[time_series]) (5.0.2)\n",
      "Requirement already satisfied: pyasn1-modules>=0.2.1 in /Users/jnesnky/opt/anaconda3/lib/python3.8/site-packages (from google-auth~=2.0->databricks-sdk<1,>=0.20.0->mlflow-skinny==2.17.2->mlflow->pycaret[time_series]) (0.4.1)\n",
      "Requirement already satisfied: rsa<5,>=3.1.4 in /Users/jnesnky/opt/anaconda3/lib/python3.8/site-packages (from google-auth~=2.0->databricks-sdk<1,>=0.20.0->mlflow-skinny==2.17.2->mlflow->pycaret[time_series]) (4.9)\n",
      "Requirement already satisfied: pyasn1<0.7.0,>=0.4.6 in /Users/jnesnky/opt/anaconda3/lib/python3.8/site-packages (from pyasn1-modules>=0.2.1->google-auth~=2.0->databricks-sdk<1,>=0.20.0->mlflow-skinny==2.17.2->mlflow->pycaret[time_series]) (0.6.1)\n",
      "\u001b[33mDEPRECATION: pyodbc 4.0.0-unsupported has a non-standard version number. pip 24.0 will enforce this behaviour change. A possible replacement is to upgrade to a newer version of pyodbc or contact the author to suggest that they release a version with a conforming version number. Discussion can be found at https://github.com/pypa/pip/issues/12063\u001b[0m\u001b[33m\n",
      "\u001b[0m"
     ]
    }
   ],
   "source": [
    "! pip install pycaret[time_series]"
   ]
  },
  {
   "cell_type": "code",
   "execution_count": null,
   "id": "2e761a6b",
   "metadata": {
    "scrolled": true
   },
   "outputs": [],
   "source": [
    "import pandas as pd\n",
    "\n",
    "# Create a sample time series dataset\n",
    "data = pd.Series(\n",
    "    [112, 118, 132, 129, 121, 135, 148, 148, 136, 119, 104, 118] * 10, \n",
    "    name=\"Sales\"\n",
    ")\n",
    "data.index = pd.date_range(start=\"2010-01-01\", periods=len(data), freq=\"M\")\n",
    "\n",
    "# Convert to DataFrame\n",
    "df = data.to_frame()\n",
    "\n",
    "df.head()"
   ]
  },
  {
   "cell_type": "code",
   "execution_count": null,
   "id": "cc730ae6",
   "metadata": {},
   "outputs": [],
   "source": [
    "!pip install --pre pycaret"
   ]
  },
  {
   "cell_type": "code",
   "execution_count": null,
   "id": "f381650f",
   "metadata": {},
   "outputs": [],
   "source": [
    "import warnings\n",
    "\n",
    "import matplotlib.pyplot as plt\n",
    "\n",
    "\n",
    "\n",
    "warnings.filterwarnings(\"ignore\")\n",
    "import logging\n",
    "\n",
    "logging.disable(logging.CRITICAL)"
   ]
  },
  {
   "cell_type": "code",
   "execution_count": null,
   "id": "f41f063d",
   "metadata": {},
   "outputs": [],
   "source": [
    "from pycaret.time_series import setup\n",
    "\n",
    "# Initialize PyCaret\n",
    "s = setup(\n",
    "    data=df,\n",
    "    target=\"Sales\",\n",
    "    session_id=123,  # For reproducibility\n",
    "    seasonal_period=12  # Monthly data (12 periods per year)\n",
    ")"
   ]
  },
  {
   "cell_type": "code",
   "execution_count": null,
   "id": "21a6912c",
   "metadata": {},
   "outputs": [],
   "source": [
    "import pandas as pd\n",
    "from pycaret.time_series import TSForecastingExperiment\n",
    "\n",
    "# Create a sample time series dataset\n",
    "data = pd.Series(\n",
    "    [112, 118, 132, 129, 121, 135, 148, 148, 136, 119, 104, 118] * 10, \n",
    "    name=\"Sales\"\n",
    ")\n",
    "data.index = pd.date_range(start=\"2010-01-01\", periods=len(data), freq=\"M\")\n",
    "\n",
    "# Convert to DataFrame\n",
    "df = data.to_frame()\n",
    "\n",
    "# Initialize the PyCaret Time Series Forecasting Experiment\n",
    "exp = TSForecastingExperiment()\n",
    "\n",
    "# Set up the experiment\n",
    "exp.setup(data=df, target='Sales', fold=3, seasonal_period=12)\n",
    "\n",
    "# Compare different models\n",
    "best_model = exp.compare_models()\n",
    "\n",
    "# Generate future forecasts\n",
    "future_forecasts = exp.predict_model(best_model, fh=12)  # Forecast next 12 months\n",
    "\n",
    "# Print the forecasts\n",
    "print(future_forecasts)\n"
   ]
  },
  {
   "cell_type": "code",
   "execution_count": null,
   "id": "1796d7a9",
   "metadata": {},
   "outputs": [],
   "source": [
    "!pip install joblib==0.16.0  # Or another version that's known to work with your PyCaret version\n"
   ]
  },
  {
   "cell_type": "code",
   "execution_count": null,
   "id": "e1426ba0",
   "metadata": {},
   "outputs": [],
   "source": [
    "import pandas as pd\n",
    "from pycaret.time_series import *\n",
    "\n",
    "# Create a sample time series dataset\n",
    "data = pd.Series(\n",
    "    [112, 118, 132, 129, 121, 135, 148, 148, 136, 119, 104, 118] * 10, \n",
    "    name=\"Sales\"\n",
    ")\n",
    "data.index = pd.date_range(start=\"2010-01-01\", periods=len(data), freq=\"M\")\n",
    "\n",
    "# Convert to DataFrame\n",
    "df = data.to_frame()\n",
    "\n",
    "# Initialize the PyCaret setup\n",
    "s = setup(data=df, target='Sales', train_size=0.8, fold=3, seasonal_period='M')\n",
    "\n",
    "# Compare different models\n",
    "best_model = compare_models()\n",
    "\n",
    "# Generate future forecasts\n",
    "future_forecasts = predict_model(best_model, fh=12)  # Forecast next 12 months\n",
    "\n",
    "# Print the forecasts\n",
    "print(future_forecasts)\n"
   ]
  },
  {
   "cell_type": "code",
   "execution_count": null,
   "id": "87704c7f",
   "metadata": {},
   "outputs": [],
   "source": []
  },
  {
   "cell_type": "code",
   "execution_count": null,
   "id": "752a3658",
   "metadata": {},
   "outputs": [],
   "source": []
  },
  {
   "cell_type": "code",
   "execution_count": null,
   "id": "ec8b75eb",
   "metadata": {},
   "outputs": [],
   "source": []
  },
  {
   "cell_type": "code",
   "execution_count": null,
   "id": "9c4f8400",
   "metadata": {},
   "outputs": [],
   "source": [
    "from pycaret.time_series import compare_models\n",
    "\n",
    "# Compare models\n",
    "best_model = compare_models()"
   ]
  },
  {
   "cell_type": "code",
   "execution_count": null,
   "id": "f71af759",
   "metadata": {},
   "outputs": [],
   "source": [
    "! pip install pycaret[full]"
   ]
  },
  {
   "cell_type": "code",
   "execution_count": null,
   "id": "0df52ddf",
   "metadata": {},
   "outputs": [],
   "source": [
    "from pycaret.time_series import tune_model\n",
    "\n",
    "# Tune the best model\n",
    "tuned_model = tune_model(best_model)"
   ]
  },
  {
   "cell_type": "code",
   "execution_count": null,
   "id": "f8b716d4",
   "metadata": {},
   "outputs": [],
   "source": [
    "from pycaret.time_series import predict_model\n",
    "\n",
    "# Forecast the next 12 months\n",
    "future_forecast = predict_model(tuned_model, fh=12)  # fh = forecast horizon\n",
    "print(future_forecast)"
   ]
  },
  {
   "cell_type": "code",
   "execution_count": null,
   "id": "a9742b17",
   "metadata": {},
   "outputs": [],
   "source": [
    "from pycaret.time_series import plot_model\n",
    "\n",
    "# Plot forecasts\n",
    "plot_model(tuned_model, plot=\"forecast\")"
   ]
  },
  {
   "cell_type": "code",
   "execution_count": null,
   "id": "1cce5bb1",
   "metadata": {},
   "outputs": [],
   "source": [
    "from pycaret.time_series import pull\n",
    "\n",
    "# Get backtesting metrics\n",
    "backtest_metrics = pull()\n",
    "print(backtest_metrics)"
   ]
  },
  {
   "cell_type": "code",
   "execution_count": null,
   "id": "889f66d2",
   "metadata": {},
   "outputs": [],
   "source": [
    "# Inspect generated features\n",
    "print(s.get_config(\"X_train\").head())"
   ]
  },
  {
   "cell_type": "code",
   "execution_count": null,
   "id": "61f1c8c1",
   "metadata": {},
   "outputs": [],
   "source": [
    "from pycaret.time_series import stack_models\n",
    "\n",
    "# Stack the top 3 models\n",
    "stacked_model = stack_models(top_n=3)"
   ]
  },
  {
   "cell_type": "code",
   "execution_count": null,
   "id": "20fa15c6",
   "metadata": {},
   "outputs": [],
   "source": [
    "from pycaret.time_series import save_model\n",
    "\n",
    "# Save the model\n",
    "save_model(tuned_model, \"time_series_model\")"
   ]
  },
  {
   "cell_type": "code",
   "execution_count": null,
   "id": "1d0ee235",
   "metadata": {},
   "outputs": [],
   "source": [
    "from pycaret.time_series import load_model\n",
    "\n",
    "# Load the model\n",
    "loaded_model = load_model(\"time_series_model\")"
   ]
  },
  {
   "cell_type": "code",
   "execution_count": null,
   "id": "f54684fc",
   "metadata": {},
   "outputs": [],
   "source": [
    "# Add a secondary feature (e.g., marketing spend)\n",
    "df[\"Marketing_Spend\"] = [50 + (i % 10) for i in range(len(df))]\n",
    "\n",
    "# Reinitialize setup for multivariate forecasting\n",
    "s = setup(data=df, target=\"Sales\", session_id=123)"
   ]
  }
 ],
 "metadata": {
  "kernelspec": {
   "display_name": "Python 3",
   "language": "python",
   "name": "python3"
  },
  "language_info": {
   "codemirror_mode": {
    "name": "ipython",
    "version": 3
   },
   "file_extension": ".py",
   "mimetype": "text/x-python",
   "name": "python",
   "nbconvert_exporter": "python",
   "pygments_lexer": "ipython3",
   "version": "3.8.8"
  }
 },
 "nbformat": 4,
 "nbformat_minor": 5
}
