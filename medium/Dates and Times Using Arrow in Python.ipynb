{
 "cells": [
  {
   "cell_type": "markdown",
   "id": "6b7f19ec",
   "metadata": {},
   "source": [
    "[Using Arrow to wrangle dates and times in Python](https://medium.com/@kylejones_47003/using-arrow-to-wrangle-dates-and-times-in-python-05f2e08de508?source=your_stories_page-------------------------------------)\n",
    "===================================================================================================================================================================================================================\n",
    "\n",
    "by: Kyle Jones\\\n",
    "published: 2025-01-08"
   ]
  },
  {
   "cell_type": "code",
   "execution_count": null,
   "id": "5f98cf98",
   "metadata": {},
   "outputs": [],
   "source": [
    "!pip install arrow"
   ]
  },
  {
   "cell_type": "code",
   "execution_count": 1,
   "id": "2569b04b",
   "metadata": {},
   "outputs": [
    {
     "name": "stdout",
     "output_type": "stream",
     "text": [
      "2025-01-07T16:15:12.374752-06:00\n",
      "2024-12-20T15:30:00+00:00\n",
      "2024-12-20T15:30:00+00:00\n",
      "2025-01-07T17:15:12.374752-05:00\n",
      "2025-01-07T22:15:12.374752+00:00\n"
     ]
    }
   ],
   "source": [
    "\"\"\"\n",
    "Creating Dates and Times\n",
    "\"\"\"\n",
    "import arrow\n",
    "\n",
    "# Get the current time\n",
    "now = arrow.now()\n",
    "print(now)\n",
    "\n",
    "# Create a specific date and time\n",
    "specific = arrow.get(2024, 12, 20, 15, 30)\n",
    "print(specific)\n",
    "\n",
    "# Parse a date string\n",
    "parsed = arrow.get(\"2024-12-20T15:30:00\", \"YYYY-MM-DDTHH:mm:ss\")\n",
    "print(parsed)\n",
    "\n",
    "# Convert to a specific time zone\n",
    "ny_time = now.to(\"America/New_York\")\n",
    "print(ny_time)\n",
    "\n",
    "# Convert to UTC\n",
    "utc_time = ny_time.to(\"UTC\")\n",
    "print(utc_time)\n"
   ]
  },
  {
   "cell_type": "code",
   "execution_count": 2,
   "id": "dbc4e996",
   "metadata": {},
   "outputs": [
    {
     "name": "stdout",
     "output_type": "stream",
     "text": [
      "2025-01-14T21:15:12.374752-06:00\n",
      "2024-12-07T16:15:12.374752-06:00\n"
     ]
    }
   ],
   "source": [
    "\"\"\"\n",
    "Manipulating Dates and Times. Example: adding or subtracting time.\n",
    "\"\"\"\n",
    "# Add time\n",
    "future = now.shift(days=7, hours=5)\n",
    "print(future)\n",
    "\n",
    "# Subtract time\n",
    "past = now.shift(months=-1)\n",
    "print(past)"
   ]
  },
  {
   "cell_type": "code",
   "execution_count": 3,
   "id": "5b68948a",
   "metadata": {},
   "outputs": [
    {
     "name": "stdout",
     "output_type": "stream",
     "text": [
      "2025-01-07T16:59:59.999999-06:00\n",
      "2025-01-07T00:00:00-06:00\n"
     ]
    }
   ],
   "source": [
    "\"\"\"\n",
    "Rounding and Flooring\n",
    "You can round or floor dates to specific time units.\n",
    "\"\"\"\n",
    "# Round to the nearest hour\n",
    "rounded = now.ceil(\"hour\")\n",
    "print(rounded)\n",
    "\n",
    "# Floor to the start of the day\n",
    "floored = now.floor(\"day\")\n",
    "print(floored)"
   ]
  },
  {
   "cell_type": "code",
   "execution_count": 4,
   "id": "6dc1d3d0",
   "metadata": {},
   "outputs": [
    {
     "name": "stdout",
     "output_type": "stream",
     "text": [
      "2025-01-07 16:15:12\n",
      "just now\n",
      "in a week\n"
     ]
    }
   ],
   "source": [
    "\"\"\"\n",
    "Formatting Dates and Times. Example: Custom Formats\n",
    "\"\"\"\n",
    "\n",
    "formatted = now.format(\"YYYY-MM-DD HH:mm:ss\")\n",
    "print(formatted)\n",
    "# Human-Readable Formats\n",
    "# Natural language output\n",
    "readable = now.humanize()\n",
    "print(readable)  # e.g., \"just now\"\n",
    "\n",
    "# Humanize a specific time\n",
    "future_readable = future.humanize()\n",
    "print(future_readable)  # e.g., \"in 7 days\""
   ]
  },
  {
   "cell_type": "code",
   "execution_count": 5,
   "id": "9630e7e7",
   "metadata": {},
   "outputs": [
    {
     "name": "stdout",
     "output_type": "stream",
     "text": [
      "2023-12-20T15:30:00+00:00\n",
      "12/20/2023\n"
     ]
    }
   ],
   "source": [
    "\"\"\"\n",
    "Parsing and Converting Dates\n",
    "\"\"\"\n",
    "# Parse a date string with a custom format\n",
    "parsed = arrow.get(\"20-12-2023 15:30\", \"DD-MM-YYYY HH:mm\")\n",
    "print(parsed)\n",
    "\n",
    "# Format back to a string\n",
    "formatted_back = parsed.format(\"MM/DD/YYYY\")\n",
    "print(formatted_back)"
   ]
  },
  {
   "cell_type": "code",
   "execution_count": 6,
   "id": "121fa5a1",
   "metadata": {},
   "outputs": [
    {
     "name": "stdout",
     "output_type": "stream",
     "text": [
      "['Africa/Abidjan', 'Africa/Accra', 'Africa/Addis_Ababa', 'Africa/Algiers', 'Africa/Asmara']\n",
      "2025-01-08T07:15:14.047557+09:00\n"
     ]
    }
   ],
   "source": [
    "\"\"\"\n",
    "Working with Time Zones\n",
    "\"\"\"\n",
    "# List all available time zones\n",
    "from pytz import all_timezones\n",
    "print(all_timezones[:5])  # Display the first five time zones\n",
    "\n",
    "# Get the current time in a specific time zone\n",
    "tokyo_time = arrow.now(\"Asia/Tokyo\")\n",
    "print(tokyo_time)"
   ]
  },
  {
   "cell_type": "code",
   "execution_count": 7,
   "id": "e89cd71b",
   "metadata": {},
   "outputs": [
    {
     "name": "stdout",
     "output_type": "stream",
     "text": [
      "             timestamp            arrow_timestamp\n",
      "0  2023-12-20 15:30:00  2023-12-20T15:30:00+00:00\n",
      "1  2023-12-21 16:00:00  2023-12-21T16:00:00+00:00\n",
      "             timestamp            arrow_timestamp                  converted\n",
      "0  2023-12-20 15:30:00  2023-12-20T15:30:00+00:00  2023-12-20T10:30:00-05:00\n",
      "1  2023-12-21 16:00:00  2023-12-21T16:00:00+00:00  2023-12-21T11:00:00-05:00\n"
     ]
    }
   ],
   "source": [
    "\"\"\"\n",
    "Arrow and Pandas.\n",
    "Example: Converting Timestamps in a DataFrame\n",
    "\"\"\"\n",
    "import pandas as pd\n",
    "\n",
    "# Sample data\n",
    "data = {\"timestamp\": [\"2023-12-20 15:30:00\", \"2023-12-21 16:00:00\"]}\n",
    "df = pd.DataFrame(data)\n",
    "\n",
    "# Convert to Arrow objects\n",
    "df[\"arrow_timestamp\"] = df[\"timestamp\"].apply(lambda x: arrow.get(x))\n",
    "print(df)\n",
    "\n",
    "# Time Zone Conversion in DataFrames\n",
    "# Convert to a different time zone\n",
    "df[\"converted\"] = df[\"arrow_timestamp\"].apply(lambda x: x.to(\"America/New_York\"))\n",
    "print(df)"
   ]
  },
  {
   "cell_type": "code",
   "execution_count": 9,
   "id": "557f0a2f",
   "metadata": {},
   "outputs": [
    {
     "name": "stdout",
     "output_type": "stream",
     "text": [
      "Duration: 18000 seconds\n"
     ]
    }
   ],
   "source": [
    "\"\"\"\n",
    "Handling Intervals. \n",
    "Example: Calculate Duration\n",
    "\"\"\"\n",
    "start = arrow.get(\"2024-12-20 10:00:00\", \"YYYY-MM-DD HH:mm:ss\")\n",
    "end = arrow.get(\"2024-12-20 15:00:00\", \"YYYY-MM-DD HH:mm:ss\")\n",
    "\n",
    "# Duration in seconds\n",
    "duration = (end - start).seconds\n",
    "print(f\"Duration: {duration} seconds\")"
   ]
  },
  {
   "cell_type": "code",
   "execution_count": null,
   "id": "eefc78d8",
   "metadata": {},
   "outputs": [],
   "source": []
  }
 ],
 "metadata": {
  "kernelspec": {
   "display_name": "datascience",
   "language": "python",
   "name": "datascience"
  },
  "language_info": {
   "codemirror_mode": {
    "name": "ipython",
    "version": 3
   },
   "file_extension": ".py",
   "mimetype": "text/x-python",
   "name": "python",
   "nbconvert_exporter": "python",
   "pygments_lexer": "ipython3",
   "version": "3.12.2"
  }
 },
 "nbformat": 4,
 "nbformat_minor": 5
}
