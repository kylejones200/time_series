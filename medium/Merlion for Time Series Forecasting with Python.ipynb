{
 "cells": [
  {
   "cell_type": "code",
   "execution_count": 1,
   "id": "83e32af5",
   "metadata": {},
   "outputs": [
    {
     "name": "stdout",
     "output_type": "stream",
     "text": [
      "Collecting salesforce-merlion\n",
      "  Downloading salesforce_merlion-2.0.4-py3-none-any.whl.metadata (18 kB)\n",
      "Requirement already satisfied: cython in /Users/jnesnky/opt/anaconda3/lib/python3.8/site-packages (from salesforce-merlion) (0.29.23)\n",
      "Requirement already satisfied: dill in /Users/jnesnky/opt/anaconda3/lib/python3.8/site-packages (from salesforce-merlion) (0.3.9)\n",
      "Collecting GitPython (from salesforce-merlion)\n",
      "  Using cached GitPython-3.1.44-py3-none-any.whl.metadata (13 kB)\n",
      "Collecting py4j (from salesforce-merlion)\n",
      "  Using cached py4j-0.10.9.8-py2.py3-none-any.whl.metadata (1.3 kB)\n",
      "Requirement already satisfied: matplotlib in /Users/jnesnky/opt/anaconda3/lib/python3.8/site-packages (from salesforce-merlion) (3.6.0)\n",
      "Requirement already satisfied: plotly>=4.13 in /Users/jnesnky/opt/anaconda3/lib/python3.8/site-packages (from salesforce-merlion) (5.24.1)\n",
      "Requirement already satisfied: numpy<2.0,>=1.21 in /Users/jnesnky/opt/anaconda3/lib/python3.8/site-packages (from salesforce-merlion) (1.24.3)\n",
      "Requirement already satisfied: packaging in /Users/jnesnky/opt/anaconda3/lib/python3.8/site-packages (from salesforce-merlion) (23.2)\n",
      "Requirement already satisfied: pandas>=1.1.0 in /Users/jnesnky/opt/anaconda3/lib/python3.8/site-packages (from salesforce-merlion) (1.5.3)\n",
      "Requirement already satisfied: prophet>=1.1 in /Users/jnesnky/opt/anaconda3/lib/python3.8/site-packages (from salesforce-merlion) (1.1.4)\n",
      "Requirement already satisfied: scikit-learn>=0.22 in /Users/jnesnky/opt/anaconda3/lib/python3.8/site-packages (from salesforce-merlion) (1.1.1)\n",
      "Requirement already satisfied: scipy>=1.6.0 in /Users/jnesnky/opt/anaconda3/lib/python3.8/site-packages (from salesforce-merlion) (1.10.1)\n",
      "Requirement already satisfied: statsmodels>=0.12.2 in /Users/jnesnky/opt/anaconda3/lib/python3.8/site-packages (from salesforce-merlion) (0.14.0)\n",
      "Requirement already satisfied: lightgbm in /Users/jnesnky/opt/anaconda3/lib/python3.8/site-packages (from salesforce-merlion) (4.5.0)\n",
      "Requirement already satisfied: tqdm in /Users/jnesnky/opt/anaconda3/lib/python3.8/site-packages (from salesforce-merlion) (4.67.1)\n",
      "Requirement already satisfied: python-dateutil>=2.8.1 in /Users/jnesnky/opt/anaconda3/lib/python3.8/site-packages (from pandas>=1.1.0->salesforce-merlion) (2.8.2)\n",
      "Requirement already satisfied: pytz>=2020.1 in /Users/jnesnky/opt/anaconda3/lib/python3.8/site-packages (from pandas>=1.1.0->salesforce-merlion) (2024.1)\n",
      "Requirement already satisfied: tenacity>=6.2.0 in /Users/jnesnky/opt/anaconda3/lib/python3.8/site-packages (from plotly>=4.13->salesforce-merlion) (8.0.1)\n",
      "Requirement already satisfied: cmdstanpy>=1.0.4 in /Users/jnesnky/opt/anaconda3/lib/python3.8/site-packages (from prophet>=1.1->salesforce-merlion) (1.1.0)\n",
      "Requirement already satisfied: LunarCalendar>=0.0.9 in /Users/jnesnky/opt/anaconda3/lib/python3.8/site-packages (from prophet>=1.1->salesforce-merlion) (0.0.9)\n",
      "Requirement already satisfied: convertdate>=2.1.2 in /Users/jnesnky/opt/anaconda3/lib/python3.8/site-packages (from prophet>=1.1->salesforce-merlion) (2.4.0)\n",
      "Requirement already satisfied: holidays>=0.25 in /Users/jnesnky/opt/anaconda3/lib/python3.8/site-packages (from prophet>=1.1->salesforce-merlion) (0.28)\n",
      "Requirement already satisfied: importlib-resources in /Users/jnesnky/opt/anaconda3/lib/python3.8/site-packages (from prophet>=1.1->salesforce-merlion) (5.12.0)\n",
      "Requirement already satisfied: contourpy>=1.0.1 in /Users/jnesnky/opt/anaconda3/lib/python3.8/site-packages (from matplotlib->salesforce-merlion) (1.1.1)\n",
      "Requirement already satisfied: cycler>=0.10 in /Users/jnesnky/opt/anaconda3/lib/python3.8/site-packages (from matplotlib->salesforce-merlion) (0.10.0)\n",
      "Requirement already satisfied: fonttools>=4.22.0 in /Users/jnesnky/opt/anaconda3/lib/python3.8/site-packages (from matplotlib->salesforce-merlion) (4.55.0)\n",
      "Requirement already satisfied: kiwisolver>=1.0.1 in /Users/jnesnky/opt/anaconda3/lib/python3.8/site-packages (from matplotlib->salesforce-merlion) (1.3.1)\n",
      "Requirement already satisfied: pillow>=6.2.0 in /Users/jnesnky/opt/anaconda3/lib/python3.8/site-packages (from matplotlib->salesforce-merlion) (8.2.0)\n",
      "Requirement already satisfied: pyparsing>=2.2.1 in /Users/jnesnky/opt/anaconda3/lib/python3.8/site-packages (from matplotlib->salesforce-merlion) (2.4.7)\n",
      "Requirement already satisfied: joblib>=1.0.0 in /Users/jnesnky/opt/anaconda3/lib/python3.8/site-packages (from scikit-learn>=0.22->salesforce-merlion) (1.4.2)\n",
      "Requirement already satisfied: threadpoolctl>=2.0.0 in /Users/jnesnky/opt/anaconda3/lib/python3.8/site-packages (from scikit-learn>=0.22->salesforce-merlion) (3.5.0)\n",
      "Requirement already satisfied: patsy>=0.5.2 in /Users/jnesnky/opt/anaconda3/lib/python3.8/site-packages (from statsmodels>=0.12.2->salesforce-merlion) (0.5.4)\n",
      "Collecting gitdb<5,>=4.0.1 (from GitPython->salesforce-merlion)\n",
      "  Using cached gitdb-4.0.12-py3-none-any.whl.metadata (1.2 kB)\n",
      "Requirement already satisfied: pymeeus<=1,>=0.3.13 in /Users/jnesnky/opt/anaconda3/lib/python3.8/site-packages (from convertdate>=2.1.2->prophet>=1.1->salesforce-merlion) (0.5.12)\n",
      "Requirement already satisfied: six in /Users/jnesnky/opt/anaconda3/lib/python3.8/site-packages (from cycler>=0.10->matplotlib->salesforce-merlion) (1.14.0)\n",
      "Collecting smmap<6,>=3.0.1 (from gitdb<5,>=4.0.1->GitPython->salesforce-merlion)\n",
      "  Using cached smmap-5.0.2-py3-none-any.whl.metadata (4.3 kB)\n",
      "Requirement already satisfied: ephem>=3.7.5.3 in /Users/jnesnky/opt/anaconda3/lib/python3.8/site-packages (from LunarCalendar>=0.0.9->prophet>=1.1->salesforce-merlion) (4.1.4)\n",
      "Requirement already satisfied: zipp>=3.1.0 in /Users/jnesnky/opt/anaconda3/lib/python3.8/site-packages (from importlib-resources->prophet>=1.1->salesforce-merlion) (3.20.2)\n",
      "Downloading salesforce_merlion-2.0.4-py3-none-any.whl (1.3 MB)\n",
      "\u001b[2K   \u001b[90m━━━━━━━━━━━━━━━━━━━━━━━━━━━━━━━━━━━━━━━━\u001b[0m \u001b[32m1.3/1.3 MB\u001b[0m \u001b[31m2.4 MB/s\u001b[0m eta \u001b[36m0:00:00\u001b[0m00:01\u001b[0m00:01\u001b[0m0m\n",
      "\u001b[?25hUsing cached GitPython-3.1.44-py3-none-any.whl (207 kB)\n",
      "Using cached py4j-0.10.9.8-py2.py3-none-any.whl (202 kB)\n",
      "Using cached gitdb-4.0.12-py3-none-any.whl (62 kB)\n",
      "Using cached smmap-5.0.2-py3-none-any.whl (24 kB)\n",
      "\u001b[33mDEPRECATION: pyodbc 4.0.0-unsupported has a non-standard version number. pip 24.0 will enforce this behaviour change. A possible replacement is to upgrade to a newer version of pyodbc or contact the author to suggest that they release a version with a conforming version number. Discussion can be found at https://github.com/pypa/pip/issues/12063\u001b[0m\u001b[33m\n",
      "\u001b[0mInstalling collected packages: py4j, smmap, gitdb, GitPython, salesforce-merlion\n",
      "Successfully installed GitPython-3.1.44 gitdb-4.0.12 py4j-0.10.9.8 salesforce-merlion-2.0.4 smmap-5.0.2\n"
     ]
    }
   ],
   "source": [
    "!pip install salesforce-merlion"
   ]
  },
  {
   "cell_type": "code",
   "execution_count": 44,
   "id": "d47b84f1",
   "metadata": {},
   "outputs": [
    {
     "ename": "ValueError",
     "evalue": "All arrays must be of the same length",
     "output_type": "error",
     "traceback": [
      "\u001b[0;31m---------------------------------------------------------------------------\u001b[0m",
      "\u001b[0;31mValueError\u001b[0m                                Traceback (most recent call last)",
      "\u001b[0;32m<ipython-input-44-aa9dced55f69>\u001b[0m in \u001b[0;36m<module>\u001b[0;34m\u001b[0m\n\u001b[1;32m      3\u001b[0m \u001b[0;34m\u001b[0m\u001b[0m\n\u001b[1;32m      4\u001b[0m \u001b[0;31m# Assuming your data and values are already defined\u001b[0m\u001b[0;34m\u001b[0m\u001b[0;34m\u001b[0m\u001b[0;34m\u001b[0m\u001b[0m\n\u001b[0;32m----> 5\u001b[0;31m \u001b[0mdf\u001b[0m \u001b[0;34m=\u001b[0m \u001b[0mpd\u001b[0m\u001b[0;34m.\u001b[0m\u001b[0mDataFrame\u001b[0m\u001b[0;34m(\u001b[0m\u001b[0;34m{\u001b[0m\u001b[0;34m\"timestamp\"\u001b[0m\u001b[0;34m:\u001b[0m \u001b[0mdata\u001b[0m\u001b[0;34m,\u001b[0m \u001b[0;34m\"value\"\u001b[0m\u001b[0;34m:\u001b[0m \u001b[0mvalues\u001b[0m\u001b[0;34m}\u001b[0m\u001b[0;34m)\u001b[0m\u001b[0;34m\u001b[0m\u001b[0;34m\u001b[0m\u001b[0m\n\u001b[0m\u001b[1;32m      6\u001b[0m \u001b[0;34m\u001b[0m\u001b[0m\n\u001b[1;32m      7\u001b[0m \u001b[0;31m# Convert timestamp to datetime if it's not already\u001b[0m\u001b[0;34m\u001b[0m\u001b[0;34m\u001b[0m\u001b[0;34m\u001b[0m\u001b[0m\n",
      "\u001b[0;32m~/opt/anaconda3/lib/python3.8/site-packages/pandas/core/frame.py\u001b[0m in \u001b[0;36m__init__\u001b[0;34m(self, data, index, columns, dtype, copy)\u001b[0m\n\u001b[1;32m    662\u001b[0m         \u001b[0;32melif\u001b[0m \u001b[0misinstance\u001b[0m\u001b[0;34m(\u001b[0m\u001b[0mdata\u001b[0m\u001b[0;34m,\u001b[0m \u001b[0mdict\u001b[0m\u001b[0;34m)\u001b[0m\u001b[0;34m:\u001b[0m\u001b[0;34m\u001b[0m\u001b[0;34m\u001b[0m\u001b[0m\n\u001b[1;32m    663\u001b[0m             \u001b[0;31m# GH#38939 de facto copy defaults to False only in non-dict cases\u001b[0m\u001b[0;34m\u001b[0m\u001b[0;34m\u001b[0m\u001b[0;34m\u001b[0m\u001b[0m\n\u001b[0;32m--> 664\u001b[0;31m             \u001b[0mmgr\u001b[0m \u001b[0;34m=\u001b[0m \u001b[0mdict_to_mgr\u001b[0m\u001b[0;34m(\u001b[0m\u001b[0mdata\u001b[0m\u001b[0;34m,\u001b[0m \u001b[0mindex\u001b[0m\u001b[0;34m,\u001b[0m \u001b[0mcolumns\u001b[0m\u001b[0;34m,\u001b[0m \u001b[0mdtype\u001b[0m\u001b[0;34m=\u001b[0m\u001b[0mdtype\u001b[0m\u001b[0;34m,\u001b[0m \u001b[0mcopy\u001b[0m\u001b[0;34m=\u001b[0m\u001b[0mcopy\u001b[0m\u001b[0;34m,\u001b[0m \u001b[0mtyp\u001b[0m\u001b[0;34m=\u001b[0m\u001b[0mmanager\u001b[0m\u001b[0;34m)\u001b[0m\u001b[0;34m\u001b[0m\u001b[0;34m\u001b[0m\u001b[0m\n\u001b[0m\u001b[1;32m    665\u001b[0m         \u001b[0;32melif\u001b[0m \u001b[0misinstance\u001b[0m\u001b[0;34m(\u001b[0m\u001b[0mdata\u001b[0m\u001b[0;34m,\u001b[0m \u001b[0mma\u001b[0m\u001b[0;34m.\u001b[0m\u001b[0mMaskedArray\u001b[0m\u001b[0;34m)\u001b[0m\u001b[0;34m:\u001b[0m\u001b[0;34m\u001b[0m\u001b[0;34m\u001b[0m\u001b[0m\n\u001b[1;32m    666\u001b[0m             \u001b[0;32mimport\u001b[0m \u001b[0mnumpy\u001b[0m\u001b[0;34m.\u001b[0m\u001b[0mma\u001b[0m\u001b[0;34m.\u001b[0m\u001b[0mmrecords\u001b[0m \u001b[0;32mas\u001b[0m \u001b[0mmrecords\u001b[0m\u001b[0;34m\u001b[0m\u001b[0;34m\u001b[0m\u001b[0m\n",
      "\u001b[0;32m~/opt/anaconda3/lib/python3.8/site-packages/pandas/core/internals/construction.py\u001b[0m in \u001b[0;36mdict_to_mgr\u001b[0;34m(data, index, columns, dtype, typ, copy)\u001b[0m\n\u001b[1;32m    491\u001b[0m             \u001b[0marrays\u001b[0m \u001b[0;34m=\u001b[0m \u001b[0;34m[\u001b[0m\u001b[0mx\u001b[0m\u001b[0;34m.\u001b[0m\u001b[0mcopy\u001b[0m\u001b[0;34m(\u001b[0m\u001b[0;34m)\u001b[0m \u001b[0;32mif\u001b[0m \u001b[0mhasattr\u001b[0m\u001b[0;34m(\u001b[0m\u001b[0mx\u001b[0m\u001b[0;34m,\u001b[0m \u001b[0;34m\"dtype\"\u001b[0m\u001b[0;34m)\u001b[0m \u001b[0;32melse\u001b[0m \u001b[0mx\u001b[0m \u001b[0;32mfor\u001b[0m \u001b[0mx\u001b[0m \u001b[0;32min\u001b[0m \u001b[0marrays\u001b[0m\u001b[0;34m]\u001b[0m\u001b[0;34m\u001b[0m\u001b[0;34m\u001b[0m\u001b[0m\n\u001b[1;32m    492\u001b[0m \u001b[0;34m\u001b[0m\u001b[0m\n\u001b[0;32m--> 493\u001b[0;31m     \u001b[0;32mreturn\u001b[0m \u001b[0marrays_to_mgr\u001b[0m\u001b[0;34m(\u001b[0m\u001b[0marrays\u001b[0m\u001b[0;34m,\u001b[0m \u001b[0mcolumns\u001b[0m\u001b[0;34m,\u001b[0m \u001b[0mindex\u001b[0m\u001b[0;34m,\u001b[0m \u001b[0mdtype\u001b[0m\u001b[0;34m=\u001b[0m\u001b[0mdtype\u001b[0m\u001b[0;34m,\u001b[0m \u001b[0mtyp\u001b[0m\u001b[0;34m=\u001b[0m\u001b[0mtyp\u001b[0m\u001b[0;34m,\u001b[0m \u001b[0mconsolidate\u001b[0m\u001b[0;34m=\u001b[0m\u001b[0mcopy\u001b[0m\u001b[0;34m)\u001b[0m\u001b[0;34m\u001b[0m\u001b[0;34m\u001b[0m\u001b[0m\n\u001b[0m\u001b[1;32m    494\u001b[0m \u001b[0;34m\u001b[0m\u001b[0m\n\u001b[1;32m    495\u001b[0m \u001b[0;34m\u001b[0m\u001b[0m\n",
      "\u001b[0;32m~/opt/anaconda3/lib/python3.8/site-packages/pandas/core/internals/construction.py\u001b[0m in \u001b[0;36marrays_to_mgr\u001b[0;34m(arrays, columns, index, dtype, verify_integrity, typ, consolidate)\u001b[0m\n\u001b[1;32m    116\u001b[0m         \u001b[0;31m# figure out the index, if necessary\u001b[0m\u001b[0;34m\u001b[0m\u001b[0;34m\u001b[0m\u001b[0;34m\u001b[0m\u001b[0m\n\u001b[1;32m    117\u001b[0m         \u001b[0;32mif\u001b[0m \u001b[0mindex\u001b[0m \u001b[0;32mis\u001b[0m \u001b[0;32mNone\u001b[0m\u001b[0;34m:\u001b[0m\u001b[0;34m\u001b[0m\u001b[0;34m\u001b[0m\u001b[0m\n\u001b[0;32m--> 118\u001b[0;31m             \u001b[0mindex\u001b[0m \u001b[0;34m=\u001b[0m \u001b[0m_extract_index\u001b[0m\u001b[0;34m(\u001b[0m\u001b[0marrays\u001b[0m\u001b[0;34m)\u001b[0m\u001b[0;34m\u001b[0m\u001b[0;34m\u001b[0m\u001b[0m\n\u001b[0m\u001b[1;32m    119\u001b[0m         \u001b[0;32melse\u001b[0m\u001b[0;34m:\u001b[0m\u001b[0;34m\u001b[0m\u001b[0;34m\u001b[0m\u001b[0m\n\u001b[1;32m    120\u001b[0m             \u001b[0mindex\u001b[0m \u001b[0;34m=\u001b[0m \u001b[0mensure_index\u001b[0m\u001b[0;34m(\u001b[0m\u001b[0mindex\u001b[0m\u001b[0;34m)\u001b[0m\u001b[0;34m\u001b[0m\u001b[0;34m\u001b[0m\u001b[0m\n",
      "\u001b[0;32m~/opt/anaconda3/lib/python3.8/site-packages/pandas/core/internals/construction.py\u001b[0m in \u001b[0;36m_extract_index\u001b[0;34m(data)\u001b[0m\n\u001b[1;32m    664\u001b[0m             \u001b[0mlengths\u001b[0m \u001b[0;34m=\u001b[0m \u001b[0mlist\u001b[0m\u001b[0;34m(\u001b[0m\u001b[0mset\u001b[0m\u001b[0;34m(\u001b[0m\u001b[0mraw_lengths\u001b[0m\u001b[0;34m)\u001b[0m\u001b[0;34m)\u001b[0m\u001b[0;34m\u001b[0m\u001b[0;34m\u001b[0m\u001b[0m\n\u001b[1;32m    665\u001b[0m             \u001b[0;32mif\u001b[0m \u001b[0mlen\u001b[0m\u001b[0;34m(\u001b[0m\u001b[0mlengths\u001b[0m\u001b[0;34m)\u001b[0m \u001b[0;34m>\u001b[0m \u001b[0;36m1\u001b[0m\u001b[0;34m:\u001b[0m\u001b[0;34m\u001b[0m\u001b[0;34m\u001b[0m\u001b[0m\n\u001b[0;32m--> 666\u001b[0;31m                 \u001b[0;32mraise\u001b[0m \u001b[0mValueError\u001b[0m\u001b[0;34m(\u001b[0m\u001b[0;34m\"All arrays must be of the same length\"\u001b[0m\u001b[0;34m)\u001b[0m\u001b[0;34m\u001b[0m\u001b[0;34m\u001b[0m\u001b[0m\n\u001b[0m\u001b[1;32m    667\u001b[0m \u001b[0;34m\u001b[0m\u001b[0m\n\u001b[1;32m    668\u001b[0m             \u001b[0;32mif\u001b[0m \u001b[0mhave_dicts\u001b[0m\u001b[0;34m:\u001b[0m\u001b[0;34m\u001b[0m\u001b[0;34m\u001b[0m\u001b[0m\n",
      "\u001b[0;31mValueError\u001b[0m: All arrays must be of the same length"
     ]
    }
   ],
   "source": [
    "import pandas as pd\n",
    "from merlion.utils import TimeSeries\n",
    "\n",
    "# Assuming your data and values are already defined\n",
    "df = pd.DataFrame({\"timestamp\": data, \"value\": values})\n",
    "\n",
    "# Convert timestamp to datetime if it's not already\n",
    "df['timestamp'] = pd.to_datetime(df['timestamp'])\n",
    "\n",
    "# Set timestamp as index\n",
    "df.set_index('timestamp', inplace=True)\n",
    "\n",
    "# Now create the TimeSeries object\n",
    "ts = TimeSeries.from_pd(df)\n",
    "print(ts)\n"
   ]
  },
  {
   "cell_type": "code",
   "execution_count": 4,
   "id": "95380814",
   "metadata": {},
   "outputs": [
    {
     "ename": "AttributeError",
     "evalue": "type object 'Arima' has no attribute 'Config'",
     "output_type": "error",
     "traceback": [
      "\u001b[0;31m---------------------------------------------------------------------------\u001b[0m",
      "\u001b[0;31mAttributeError\u001b[0m                            Traceback (most recent call last)",
      "\u001b[0;32m<ipython-input-4-61b2b54f14d3>\u001b[0m in \u001b[0;36m<module>\u001b[0;34m\u001b[0m\n\u001b[1;32m      2\u001b[0m \u001b[0;32mfrom\u001b[0m \u001b[0mmerlion\u001b[0m\u001b[0;34m.\u001b[0m\u001b[0mevaluate\u001b[0m\u001b[0;34m.\u001b[0m\u001b[0mforecast\u001b[0m \u001b[0;32mimport\u001b[0m \u001b[0mForecastEvaluator\u001b[0m\u001b[0;34m\u001b[0m\u001b[0;34m\u001b[0m\u001b[0m\n\u001b[1;32m      3\u001b[0m \u001b[0;31m# Initialize an ARIMA model\u001b[0m\u001b[0;34m\u001b[0m\u001b[0;34m\u001b[0m\u001b[0;34m\u001b[0m\u001b[0m\n\u001b[0;32m----> 4\u001b[0;31m \u001b[0mconfig\u001b[0m \u001b[0;34m=\u001b[0m \u001b[0mArima\u001b[0m\u001b[0;34m.\u001b[0m\u001b[0mConfig\u001b[0m\u001b[0;34m(\u001b[0m\u001b[0morder\u001b[0m\u001b[0;34m=\u001b[0m\u001b[0;34m(\u001b[0m\u001b[0;36m5\u001b[0m\u001b[0;34m,\u001b[0m \u001b[0;36m1\u001b[0m\u001b[0;34m,\u001b[0m \u001b[0;36m0\u001b[0m\u001b[0;34m)\u001b[0m\u001b[0;34m)\u001b[0m  \u001b[0;31m# ARIMA(p=5, d=1, q=0)\u001b[0m\u001b[0;34m\u001b[0m\u001b[0;34m\u001b[0m\u001b[0m\n\u001b[0m\u001b[1;32m      5\u001b[0m \u001b[0mmodel\u001b[0m \u001b[0;34m=\u001b[0m \u001b[0mArima\u001b[0m\u001b[0;34m(\u001b[0m\u001b[0mconfig\u001b[0m\u001b[0;34m)\u001b[0m\u001b[0;34m\u001b[0m\u001b[0;34m\u001b[0m\u001b[0m\n",
      "\u001b[0;31mAttributeError\u001b[0m: type object 'Arima' has no attribute 'Config'"
     ]
    }
   ],
   "source": [
    "from merlion.models.forecast.arima import Arima\n",
    "from merlion.evaluate.forecast import ForecastEvaluator\n",
    "# Initialize an ARIMA model\n",
    "config = Arima.Config(order=(5, 1, 0))  # ARIMA(p=5, d=1, q=0)\n",
    "model = Arima(config)"
   ]
  },
  {
   "cell_type": "code",
   "execution_count": 45,
   "id": "f1bf6fc0",
   "metadata": {},
   "outputs": [],
   "source": [
    "import pandas as pd\n",
    "import numpy as np\n",
    "from merlion.utils import TimeSeries\n",
    "from merlion.models.forecast.arima import Arima\n",
    "from merlion.evaluate.forecast import ForecastEvaluator\n",
    "\n",
    "# Create some sample data\n",
    "dates = pd.date_range(start='2020-01-01', end='2022-12-31', freq='D')\n",
    "values = np.random.randn(len(dates)).cumsum()  # random walk\n",
    "\n",
    "# Create a DataFrame\n",
    "df = pd.DataFrame({'timestamp': dates, 'value': values})\n",
    "df.set_index('timestamp', inplace=True)\n"
   ]
  },
  {
   "cell_type": "code",
   "execution_count": 48,
   "id": "06eef53a",
   "metadata": {},
   "outputs": [
    {
     "ename": "ModuleNotFoundError",
     "evalue": "No module named 'merlion.models.automl.seasonality_mixin'",
     "output_type": "error",
     "traceback": [
      "\u001b[0;31m---------------------------------------------------------------------------\u001b[0m",
      "\u001b[0;31mModuleNotFoundError\u001b[0m                       Traceback (most recent call last)",
      "\u001b[0;32m<ipython-input-48-3ef555039687>\u001b[0m in \u001b[0;36m<module>\u001b[0;34m\u001b[0m\n\u001b[1;32m      8\u001b[0m \u001b[0;32mfrom\u001b[0m \u001b[0mmerlion\u001b[0m\u001b[0;34m.\u001b[0m\u001b[0mevaluate\u001b[0m\u001b[0;34m.\u001b[0m\u001b[0mforecast\u001b[0m \u001b[0;32mimport\u001b[0m \u001b[0mForecastMetric\u001b[0m\u001b[0;34m\u001b[0m\u001b[0;34m\u001b[0m\u001b[0m\n\u001b[1;32m      9\u001b[0m \u001b[0;32mfrom\u001b[0m \u001b[0mmerlion\u001b[0m\u001b[0;34m.\u001b[0m\u001b[0mmodels\u001b[0m\u001b[0;34m.\u001b[0m\u001b[0mautoml\u001b[0m\u001b[0;34m.\u001b[0m\u001b[0mautosarima\u001b[0m \u001b[0;32mimport\u001b[0m \u001b[0mAutoSarima\u001b[0m\u001b[0;34m,\u001b[0m \u001b[0mAutoSarimaConfig\u001b[0m\u001b[0;34m\u001b[0m\u001b[0;34m\u001b[0m\u001b[0m\n\u001b[0;32m---> 10\u001b[0;31m \u001b[0;32mfrom\u001b[0m \u001b[0mmerlion\u001b[0m\u001b[0;34m.\u001b[0m\u001b[0mmodels\u001b[0m\u001b[0;34m.\u001b[0m\u001b[0mautoml\u001b[0m\u001b[0;34m.\u001b[0m\u001b[0mseasonality_mixin\u001b[0m \u001b[0;32mimport\u001b[0m \u001b[0mSeasonalityLayer\u001b[0m\u001b[0;34m\u001b[0m\u001b[0;34m\u001b[0m\u001b[0m\n\u001b[0m\u001b[1;32m     11\u001b[0m \u001b[0;32mfrom\u001b[0m \u001b[0mmerlion\u001b[0m\u001b[0;34m.\u001b[0m\u001b[0mmodels\u001b[0m\u001b[0;34m.\u001b[0m\u001b[0mforecast\u001b[0m\u001b[0;34m.\u001b[0m\u001b[0msarima\u001b[0m \u001b[0;32mimport\u001b[0m \u001b[0mSarima\u001b[0m\u001b[0;34m\u001b[0m\u001b[0;34m\u001b[0m\u001b[0m\n\u001b[1;32m     12\u001b[0m \u001b[0;34m\u001b[0m\u001b[0m\n",
      "\u001b[0;31mModuleNotFoundError\u001b[0m: No module named 'merlion.models.automl.seasonality_mixin'"
     ]
    }
   ],
   "source": [
    "import matplotlib.pyplot as plt\n",
    "import numpy as np\n",
    "import pandas as pd\n",
    "from scipy.stats import norm\n",
    "import logging\n",
    "\n",
    "from merlion.utils.time_series import TimeSeries\n",
    "from merlion.evaluate.forecast import ForecastMetric\n",
    "from merlion.models.automl.autosarima import AutoSarima, AutoSarimaConfig\n",
    "from merlion.models.automl.seasonality_mixin import SeasonalityLayer\n",
    "from merlion.models.forecast.sarima import Sarima\n",
    "\n",
    "from ts_datasets.forecast import M4\n",
    "\n",
    "logging.basicConfig(level=logging.DEBUG)\n",
    "\n",
    "time_series, metadata = M4(\"Hourly\")[0]\n",
    "train_data = TimeSeries.from_pd(time_series[metadata.trainval])\n",
    "test_data = TimeSeries.from_pd(time_series[~metadata.trainval])\n",
    "\n",
    "# Visualize the time series and draw a dotted line to indicate the train/test split\n",
    "fig = plt.figure(figsize=(10, 6))\n",
    "ax = fig.add_subplot(111)\n",
    "ax.plot(time_series)\n",
    "ax.axvline(metadata[metadata.trainval].index[-1], ls=\"--\", lw=\"2\", c=\"k\")\n",
    "plt.show()\n",
    "\n",
    "# Print the length of training data and test data\n",
    "print(f\"{len(train_data)} points in train split, \"\n",
    "      f\"{len(test_data)} points in test split.\")\n",
    "\n",
    "# Specify the configuration of AutoSarima with approximation\n",
    "config1 = AutoSarimaConfig(max_forecast_steps=len(train_data), order=(\"auto\", \"auto\", \"auto\"),\n",
    "                           seasonal_order=(\"auto\", \"auto\", \"auto\", \"auto\"), approximation=True, maxiter=5)\n",
    "model1  = SeasonalityLayer(model = AutoSarima(model = Sarima(config1)))\n",
    "\n",
    "# Model training\n",
    "train_pred, train_err = model1.train(\n",
    "    train_data, train_config={\"enforce_stationarity\": True,\"enforce_invertibility\": True})\n",
    "\n",
    "# Model forecasting\n",
    "forecast1, stderr1 = model1.forecast(len(test_data))\n",
    "\n",
    "# Model evaluation\n",
    "smape1 = ForecastMetric.sMAPE.value(ground_truth=test_data, predict=forecast1)\n",
    "print(f\"Full AutoSarima with approximation sMAPE is {smape1:.4f}\")"
   ]
  },
  {
   "cell_type": "code",
   "execution_count": 33,
   "id": "1a07c9a3",
   "metadata": {},
   "outputs": [
    {
     "ename": "Exception",
     "evalue": "Prophet object can only be fit once. Instantiate a new object.",
     "output_type": "error",
     "traceback": [
      "\u001b[0;31m---------------------------------------------------------------------------\u001b[0m",
      "\u001b[0;31mException\u001b[0m                                 Traceback (most recent call last)",
      "\u001b[0;32m<ipython-input-33-c8548a5bbb08>\u001b[0m in \u001b[0;36m<module>\u001b[0;34m\u001b[0m\n\u001b[1;32m      1\u001b[0m \u001b[0;31m# Train the model on the dataset\u001b[0m\u001b[0;34m\u001b[0m\u001b[0;34m\u001b[0m\u001b[0;34m\u001b[0m\u001b[0m\n\u001b[0;32m----> 2\u001b[0;31m \u001b[0mmodel\u001b[0m\u001b[0;34m.\u001b[0m\u001b[0mtrain\u001b[0m\u001b[0;34m(\u001b[0m\u001b[0mts\u001b[0m\u001b[0;34m)\u001b[0m\u001b[0;34m\u001b[0m\u001b[0;34m\u001b[0m\u001b[0m\n\u001b[0m\u001b[1;32m      3\u001b[0m \u001b[0;31m# Evaluate the model's performance\u001b[0m\u001b[0;34m\u001b[0m\u001b[0;34m\u001b[0m\u001b[0;34m\u001b[0m\u001b[0m\n\u001b[1;32m      4\u001b[0m \u001b[0mevaluator\u001b[0m \u001b[0;34m=\u001b[0m \u001b[0mForecastEvaluator\u001b[0m\u001b[0;34m(\u001b[0m\u001b[0mmodel\u001b[0m\u001b[0;34m,\u001b[0m \u001b[0mts\u001b[0m\u001b[0;34m)\u001b[0m\u001b[0;34m\u001b[0m\u001b[0;34m\u001b[0m\u001b[0m\n\u001b[1;32m      5\u001b[0m \u001b[0mforecast\u001b[0m\u001b[0;34m,\u001b[0m \u001b[0merror\u001b[0m \u001b[0;34m=\u001b[0m \u001b[0mevaluator\u001b[0m\u001b[0;34m.\u001b[0m\u001b[0mget_predicted_time_series\u001b[0m\u001b[0;34m(\u001b[0m\u001b[0;34m)\u001b[0m\u001b[0;34m\u001b[0m\u001b[0;34m\u001b[0m\u001b[0m\n",
      "\u001b[0;32m~/opt/anaconda3/lib/python3.8/site-packages/merlion/models/forecast/base.py\u001b[0m in \u001b[0;36mtrain\u001b[0;34m(self, train_data, train_config, exog_data)\u001b[0m\n\u001b[1;32m    225\u001b[0m             \u001b[0mexog_data\u001b[0m \u001b[0;34m=\u001b[0m \u001b[0;32mNone\u001b[0m \u001b[0;32mif\u001b[0m \u001b[0mexog_data\u001b[0m \u001b[0;32mis\u001b[0m \u001b[0;32mNone\u001b[0m \u001b[0;32melse\u001b[0m \u001b[0mexog_data\u001b[0m\u001b[0;34m.\u001b[0m\u001b[0mto_pd\u001b[0m\u001b[0;34m(\u001b[0m\u001b[0;34m)\u001b[0m\u001b[0;34m\u001b[0m\u001b[0;34m\u001b[0m\u001b[0m\n\u001b[1;32m    226\u001b[0m         \u001b[0;32mif\u001b[0m \u001b[0mexog_data\u001b[0m \u001b[0;32mis\u001b[0m \u001b[0;32mNone\u001b[0m\u001b[0;34m:\u001b[0m\u001b[0;34m\u001b[0m\u001b[0;34m\u001b[0m\u001b[0m\n\u001b[0;32m--> 227\u001b[0;31m             \u001b[0mtrain_result\u001b[0m \u001b[0;34m=\u001b[0m \u001b[0mself\u001b[0m\u001b[0;34m.\u001b[0m\u001b[0m_train\u001b[0m\u001b[0;34m(\u001b[0m\u001b[0mtrain_data\u001b[0m\u001b[0;34m=\u001b[0m\u001b[0mtrain_data\u001b[0m\u001b[0;34m,\u001b[0m \u001b[0mtrain_config\u001b[0m\u001b[0;34m=\u001b[0m\u001b[0mtrain_config\u001b[0m\u001b[0;34m)\u001b[0m\u001b[0;34m\u001b[0m\u001b[0;34m\u001b[0m\u001b[0m\n\u001b[0m\u001b[1;32m    228\u001b[0m         \u001b[0;32melse\u001b[0m\u001b[0;34m:\u001b[0m\u001b[0;34m\u001b[0m\u001b[0;34m\u001b[0m\u001b[0m\n\u001b[1;32m    229\u001b[0m             \u001b[0mtrain_result\u001b[0m \u001b[0;34m=\u001b[0m \u001b[0mself\u001b[0m\u001b[0;34m.\u001b[0m\u001b[0m_train_with_exog\u001b[0m\u001b[0;34m(\u001b[0m\u001b[0mtrain_data\u001b[0m\u001b[0;34m=\u001b[0m\u001b[0mtrain_data\u001b[0m\u001b[0;34m,\u001b[0m \u001b[0mtrain_config\u001b[0m\u001b[0;34m=\u001b[0m\u001b[0mtrain_config\u001b[0m\u001b[0;34m,\u001b[0m \u001b[0mexog_data\u001b[0m\u001b[0;34m=\u001b[0m\u001b[0mexog_data\u001b[0m\u001b[0;34m)\u001b[0m\u001b[0;34m\u001b[0m\u001b[0;34m\u001b[0m\u001b[0m\n",
      "\u001b[0;32m~/opt/anaconda3/lib/python3.8/site-packages/merlion/models/forecast/base.py\u001b[0m in \u001b[0;36m_train\u001b[0;34m(self, train_data, train_config)\u001b[0m\n\u001b[1;32m    758\u001b[0m \u001b[0;34m\u001b[0m\u001b[0m\n\u001b[1;32m    759\u001b[0m     \u001b[0;32mdef\u001b[0m \u001b[0m_train\u001b[0m\u001b[0;34m(\u001b[0m\u001b[0mself\u001b[0m\u001b[0;34m,\u001b[0m \u001b[0mtrain_data\u001b[0m\u001b[0;34m:\u001b[0m \u001b[0mpd\u001b[0m\u001b[0;34m.\u001b[0m\u001b[0mDataFrame\u001b[0m\u001b[0;34m,\u001b[0m \u001b[0mtrain_config\u001b[0m\u001b[0;34m=\u001b[0m\u001b[0;32mNone\u001b[0m\u001b[0;34m)\u001b[0m \u001b[0;34m->\u001b[0m \u001b[0mTuple\u001b[0m\u001b[0;34m[\u001b[0m\u001b[0mpd\u001b[0m\u001b[0;34m.\u001b[0m\u001b[0mDataFrame\u001b[0m\u001b[0;34m,\u001b[0m \u001b[0mOptional\u001b[0m\u001b[0;34m[\u001b[0m\u001b[0mpd\u001b[0m\u001b[0;34m.\u001b[0m\u001b[0mDataFrame\u001b[0m\u001b[0;34m]\u001b[0m\u001b[0;34m]\u001b[0m\u001b[0;34m:\u001b[0m\u001b[0;34m\u001b[0m\u001b[0;34m\u001b[0m\u001b[0m\n\u001b[0;32m--> 760\u001b[0;31m         \u001b[0;32mreturn\u001b[0m \u001b[0mself\u001b[0m\u001b[0;34m.\u001b[0m\u001b[0m_train_with_exog\u001b[0m\u001b[0;34m(\u001b[0m\u001b[0mtrain_data\u001b[0m\u001b[0;34m=\u001b[0m\u001b[0mtrain_data\u001b[0m\u001b[0;34m,\u001b[0m \u001b[0mtrain_config\u001b[0m\u001b[0;34m=\u001b[0m\u001b[0mtrain_config\u001b[0m\u001b[0;34m,\u001b[0m \u001b[0mexog_data\u001b[0m\u001b[0;34m=\u001b[0m\u001b[0;32mNone\u001b[0m\u001b[0;34m)\u001b[0m\u001b[0;34m\u001b[0m\u001b[0;34m\u001b[0m\u001b[0m\n\u001b[0m\u001b[1;32m    761\u001b[0m \u001b[0;34m\u001b[0m\u001b[0m\n\u001b[1;32m    762\u001b[0m     \u001b[0;34m@\u001b[0m\u001b[0mabstractmethod\u001b[0m\u001b[0;34m\u001b[0m\u001b[0;34m\u001b[0m\u001b[0m\n",
      "\u001b[0;32m~/opt/anaconda3/lib/python3.8/site-packages/merlion/models/forecast/prophet.py\u001b[0m in \u001b[0;36m_train_with_exog\u001b[0;34m(self, train_data, train_config, exog_data)\u001b[0m\n\u001b[1;32m    207\u001b[0m         \u001b[0mdf\u001b[0m \u001b[0;34m=\u001b[0m \u001b[0mself\u001b[0m\u001b[0;34m.\u001b[0m\u001b[0m_add_exog_data\u001b[0m\u001b[0;34m(\u001b[0m\u001b[0mtrain_data\u001b[0m\u001b[0;34m,\u001b[0m \u001b[0mexog_data\u001b[0m\u001b[0;34m)\u001b[0m\u001b[0;34m\u001b[0m\u001b[0;34m\u001b[0m\u001b[0m\n\u001b[1;32m    208\u001b[0m         \u001b[0;32mwith\u001b[0m \u001b[0m_suppress_stdout_stderr\u001b[0m\u001b[0;34m(\u001b[0m\u001b[0;34m)\u001b[0m\u001b[0;34m:\u001b[0m\u001b[0;34m\u001b[0m\u001b[0;34m\u001b[0m\u001b[0m\n\u001b[0;32m--> 209\u001b[0;31m             \u001b[0mself\u001b[0m\u001b[0;34m.\u001b[0m\u001b[0mmodel\u001b[0m\u001b[0;34m.\u001b[0m\u001b[0mfit\u001b[0m\u001b[0;34m(\u001b[0m\u001b[0mdf\u001b[0m\u001b[0;34m)\u001b[0m\u001b[0;34m\u001b[0m\u001b[0;34m\u001b[0m\u001b[0m\n\u001b[0m\u001b[1;32m    210\u001b[0m \u001b[0;34m\u001b[0m\u001b[0m\n\u001b[1;32m    211\u001b[0m         \u001b[0;31m# Get & return prediction & errors for train data.\u001b[0m\u001b[0;34m\u001b[0m\u001b[0;34m\u001b[0m\u001b[0;34m\u001b[0m\u001b[0m\n",
      "\u001b[0;32m~/opt/anaconda3/lib/python3.8/site-packages/prophet/forecaster.py\u001b[0m in \u001b[0;36mfit\u001b[0;34m(self, df, **kwargs)\u001b[0m\n\u001b[1;32m   1112\u001b[0m         \"\"\"\n\u001b[1;32m   1113\u001b[0m         \u001b[0;32mif\u001b[0m \u001b[0mself\u001b[0m\u001b[0;34m.\u001b[0m\u001b[0mhistory\u001b[0m \u001b[0;32mis\u001b[0m \u001b[0;32mnot\u001b[0m \u001b[0;32mNone\u001b[0m\u001b[0;34m:\u001b[0m\u001b[0;34m\u001b[0m\u001b[0;34m\u001b[0m\u001b[0m\n\u001b[0;32m-> 1114\u001b[0;31m             raise Exception('Prophet object can only be fit once. '\n\u001b[0m\u001b[1;32m   1115\u001b[0m                             'Instantiate a new object.')\n\u001b[1;32m   1116\u001b[0m         \u001b[0;32mif\u001b[0m \u001b[0;34m(\u001b[0m\u001b[0;34m'ds'\u001b[0m \u001b[0;32mnot\u001b[0m \u001b[0;32min\u001b[0m \u001b[0mdf\u001b[0m\u001b[0;34m)\u001b[0m \u001b[0;32mor\u001b[0m \u001b[0;34m(\u001b[0m\u001b[0;34m'y'\u001b[0m \u001b[0;32mnot\u001b[0m \u001b[0;32min\u001b[0m \u001b[0mdf\u001b[0m\u001b[0;34m)\u001b[0m\u001b[0;34m:\u001b[0m\u001b[0;34m\u001b[0m\u001b[0;34m\u001b[0m\u001b[0m\n",
      "\u001b[0;31mException\u001b[0m: Prophet object can only be fit once. Instantiate a new object."
     ]
    }
   ],
   "source": [
    "# Train the model on the dataset\n",
    "model.train(ts)\n",
    "# Evaluate the model's performance\n",
    "evaluator = ForecastEvaluator(model, ts)\n",
    "forecast, error = evaluator.get_predicted_time_series()\n",
    "print(forecast)"
   ]
  },
  {
   "cell_type": "code",
   "execution_count": 19,
   "id": "f2ffb197",
   "metadata": {},
   "outputs": [
    {
     "name": "stderr",
     "output_type": "stream",
     "text": [
      "16:50:15 - cmdstanpy - INFO - Chain [1] start processing\n",
      "16:50:16 - cmdstanpy - INFO - Chain [1] done processing\n"
     ]
    },
    {
     "ename": "TypeError",
     "evalue": "forecast() got an unexpected keyword argument 'n_periods'",
     "output_type": "error",
     "traceback": [
      "\u001b[0;31m---------------------------------------------------------------------------\u001b[0m",
      "\u001b[0;31mTypeError\u001b[0m                                 Traceback (most recent call last)",
      "\u001b[0;32m<ipython-input-19-c767a137ea0b>\u001b[0m in \u001b[0;36m<module>\u001b[0;34m\u001b[0m\n\u001b[1;32m     30\u001b[0m \u001b[0;34m\u001b[0m\u001b[0m\n\u001b[1;32m     31\u001b[0m \u001b[0;31m# Make predictions\u001b[0m\u001b[0;34m\u001b[0m\u001b[0;34m\u001b[0m\u001b[0;34m\u001b[0m\u001b[0m\n\u001b[0;32m---> 32\u001b[0;31m \u001b[0mprediction\u001b[0m \u001b[0;34m=\u001b[0m \u001b[0mmodel\u001b[0m\u001b[0;34m.\u001b[0m\u001b[0mforecast\u001b[0m\u001b[0;34m(\u001b[0m\u001b[0mn_periods\u001b[0m\u001b[0;34m=\u001b[0m\u001b[0mlen\u001b[0m\u001b[0;34m(\u001b[0m\u001b[0mtest_data\u001b[0m\u001b[0;34m)\u001b[0m\u001b[0;34m)\u001b[0m\u001b[0;34m\u001b[0m\u001b[0;34m\u001b[0m\u001b[0m\n\u001b[0m\u001b[1;32m     33\u001b[0m \u001b[0;34m\u001b[0m\u001b[0m\n\u001b[1;32m     34\u001b[0m \u001b[0;31m# Evaluate the model\u001b[0m\u001b[0;34m\u001b[0m\u001b[0;34m\u001b[0m\u001b[0;34m\u001b[0m\u001b[0m\n",
      "\u001b[0;31mTypeError\u001b[0m: forecast() got an unexpected keyword argument 'n_periods'"
     ]
    }
   ],
   "source": [
    "import pandas as pd\n",
    "import numpy as np\n",
    "from merlion.utils import TimeSeries\n",
    "from merlion.models.forecast.prophet import Prophet, ProphetConfig\n",
    "from merlion.evaluate.forecast import ForecastEvaluator\n",
    "\n",
    "# Create some sample data\n",
    "dates = pd.date_range(start='2020-01-01', end='2022-12-31', freq='D')\n",
    "values = np.random.randn(len(dates)).cumsum()  # random walk\n",
    "\n",
    "# Create a DataFrame\n",
    "df = pd.DataFrame({'timestamp': dates, 'value': values})\n",
    "df.set_index('timestamp', inplace=True)\n",
    "\n",
    "# Convert to Merlion TimeSeries\n",
    "ts = TimeSeries.from_pd(df)\n",
    "\n",
    "# Split the data into train and test sets\n",
    "train_data = ts[:int(0.8 * len(ts))]\n",
    "test_data = ts[int(0.8 * len(ts)):]\n",
    "\n",
    "# Initialize a Prophet configuration\n",
    "prophet_config = ProphetConfig()\n",
    "\n",
    "# Initialize a Prophet model with the configuration\n",
    "model = Prophet(prophet_config)\n",
    "\n",
    "# Train the model\n",
    "model.train(train_data)\n",
    "\n",
    "# Make predictions\n",
    "prediction = model.forecast(n_periods=len(test_data))\n",
    "\n",
    "# Evaluate the model\n",
    "evaluator = ForecastEvaluator(model, train_data, test_data)\n",
    "eval_result = evaluator.evaluate()\n",
    "\n",
    "print(eval_result)\n"
   ]
  },
  {
   "cell_type": "code",
   "execution_count": 20,
   "id": "6a448c5b",
   "metadata": {},
   "outputs": [
    {
     "name": "stdout",
     "output_type": "stream",
     "text": [
      "(time_stamps: Union[int, List[int]], time_series_prev: merlion.utils.time_series.TimeSeries = None, exog_data: merlion.utils.time_series.TimeSeries = None, return_iqr: bool = False, return_prev: bool = False) -> Union[Tuple[merlion.utils.time_series.TimeSeries, Union[merlion.utils.time_series.TimeSeries, NoneType]], Tuple[merlion.utils.time_series.TimeSeries, merlion.utils.time_series.TimeSeries, merlion.utils.time_series.TimeSeries]]\n"
     ]
    }
   ],
   "source": [
    "import inspect\n",
    "\n",
    "# After creating and training the model\n",
    "print(inspect.signature(model.forecast))\n"
   ]
  },
  {
   "cell_type": "code",
   "execution_count": 21,
   "id": "c9cbb83b",
   "metadata": {},
   "outputs": [
    {
     "name": "stderr",
     "output_type": "stream",
     "text": [
      "16:51:11 - cmdstanpy - INFO - Chain [1] start processing\n",
      "16:51:12 - cmdstanpy - INFO - Chain [1] done processing\n"
     ]
    },
    {
     "ename": "AssertionError",
     "evalue": "Expected `time_stamps` to be between 2022-05-25 00:00:00 and 1970-08-09 00:00:01.653436800, but `time_stamps` ranges from 1970-01-02 00:00:01.653436800 to 1970-08-09 00:00:01.653436800",
     "output_type": "error",
     "traceback": [
      "\u001b[0;31m---------------------------------------------------------------------------\u001b[0m",
      "\u001b[0;31mAssertionError\u001b[0m                            Traceback (most recent call last)",
      "\u001b[0;32m<ipython-input-21-17d6e47ba9f1>\u001b[0m in \u001b[0;36m<module>\u001b[0;34m\u001b[0m\n\u001b[1;32m     36\u001b[0m \u001b[0;34m\u001b[0m\u001b[0m\n\u001b[1;32m     37\u001b[0m \u001b[0;31m# Make predictions\u001b[0m\u001b[0;34m\u001b[0m\u001b[0;34m\u001b[0m\u001b[0;34m\u001b[0m\u001b[0m\n\u001b[0;32m---> 38\u001b[0;31m \u001b[0mprediction\u001b[0m \u001b[0;34m=\u001b[0m \u001b[0mmodel\u001b[0m\u001b[0;34m.\u001b[0m\u001b[0mforecast\u001b[0m\u001b[0;34m(\u001b[0m\u001b[0mfuture_timestamps\u001b[0m\u001b[0;34m)\u001b[0m\u001b[0;34m\u001b[0m\u001b[0;34m\u001b[0m\u001b[0m\n\u001b[0m\u001b[1;32m     39\u001b[0m \u001b[0;34m\u001b[0m\u001b[0m\n\u001b[1;32m     40\u001b[0m \u001b[0;31m# Evaluate the model\u001b[0m\u001b[0;34m\u001b[0m\u001b[0;34m\u001b[0m\u001b[0;34m\u001b[0m\u001b[0m\n",
      "\u001b[0;32m~/opt/anaconda3/lib/python3.8/site-packages/merlion/models/forecast/base.py\u001b[0m in \u001b[0;36mforecast\u001b[0;34m(self, time_stamps, time_series_prev, exog_data, return_iqr, return_prev)\u001b[0m\n\u001b[1;32m    292\u001b[0m         \u001b[0;31m# Determine the time stamps to forecast for, and resample them if needed\u001b[0m\u001b[0;34m\u001b[0m\u001b[0;34m\u001b[0m\u001b[0;34m\u001b[0m\u001b[0m\n\u001b[1;32m    293\u001b[0m         \u001b[0morig_t\u001b[0m \u001b[0;34m=\u001b[0m \u001b[0;32mNone\u001b[0m \u001b[0;32mif\u001b[0m \u001b[0misinstance\u001b[0m\u001b[0;34m(\u001b[0m\u001b[0mtime_stamps\u001b[0m\u001b[0;34m,\u001b[0m \u001b[0;34m(\u001b[0m\u001b[0mint\u001b[0m\u001b[0;34m,\u001b[0m \u001b[0mfloat\u001b[0m\u001b[0;34m)\u001b[0m\u001b[0;34m)\u001b[0m \u001b[0;32melse\u001b[0m \u001b[0mtime_stamps\u001b[0m\u001b[0;34m\u001b[0m\u001b[0;34m\u001b[0m\u001b[0m\n\u001b[0;32m--> 294\u001b[0;31m         \u001b[0mtime_stamps\u001b[0m \u001b[0;34m=\u001b[0m \u001b[0mself\u001b[0m\u001b[0;34m.\u001b[0m\u001b[0mresample_time_stamps\u001b[0m\u001b[0;34m(\u001b[0m\u001b[0mtime_stamps\u001b[0m\u001b[0;34m,\u001b[0m \u001b[0mtime_series_prev\u001b[0m\u001b[0;34m)\u001b[0m\u001b[0;34m\u001b[0m\u001b[0;34m\u001b[0m\u001b[0m\n\u001b[0m\u001b[1;32m    295\u001b[0m         \u001b[0;32mif\u001b[0m \u001b[0mreturn_prev\u001b[0m \u001b[0;32mand\u001b[0m \u001b[0mtime_series_prev\u001b[0m \u001b[0;32mis\u001b[0m \u001b[0;32mnot\u001b[0m \u001b[0;32mNone\u001b[0m\u001b[0;34m:\u001b[0m\u001b[0;34m\u001b[0m\u001b[0;34m\u001b[0m\u001b[0m\n\u001b[1;32m    296\u001b[0m             \u001b[0;32mif\u001b[0m \u001b[0morig_t\u001b[0m \u001b[0;32mis\u001b[0m \u001b[0;32mNone\u001b[0m\u001b[0;34m:\u001b[0m\u001b[0;34m\u001b[0m\u001b[0;34m\u001b[0m\u001b[0m\n",
      "\u001b[0;32m~/opt/anaconda3/lib/python3.8/site-packages/merlion/models/forecast/base.py\u001b[0m in \u001b[0;36mresample_time_stamps\u001b[0;34m(self, time_stamps, time_series_prev)\u001b[0m\n\u001b[1;32m    155\u001b[0m \u001b[0;34m\u001b[0m\u001b[0m\n\u001b[1;32m    156\u001b[0m         \u001b[0mtf\u001b[0m \u001b[0;34m=\u001b[0m \u001b[0mresampled\u001b[0m\u001b[0;34m[\u001b[0m\u001b[0;34m-\u001b[0m\u001b[0;36m1\u001b[0m\u001b[0;34m]\u001b[0m\u001b[0;34m\u001b[0m\u001b[0;34m\u001b[0m\u001b[0m\n\u001b[0;32m--> 157\u001b[0;31m         assert to_pd_datetime(time_stamps[0]) >= t0 and to_pd_datetime(time_stamps[-1]) <= tf, (\n\u001b[0m\u001b[1;32m    158\u001b[0m             \u001b[0;34mf\"Expected `time_stamps` to be between {t0} and {tf}, but `time_stamps` ranges \"\u001b[0m\u001b[0;34m\u001b[0m\u001b[0;34m\u001b[0m\u001b[0m\n\u001b[1;32m    159\u001b[0m             \u001b[0;34mf\"from {to_pd_datetime(time_stamps[0])} to {to_pd_datetime(time_stamps[-1])}\"\u001b[0m\u001b[0;34m\u001b[0m\u001b[0;34m\u001b[0m\u001b[0m\n",
      "\u001b[0;31mAssertionError\u001b[0m: Expected `time_stamps` to be between 2022-05-25 00:00:00 and 1970-08-09 00:00:01.653436800, but `time_stamps` ranges from 1970-01-02 00:00:01.653436800 to 1970-08-09 00:00:01.653436800"
     ]
    }
   ],
   "source": [
    "import pandas as pd\n",
    "import numpy as np\n",
    "from merlion.utils import TimeSeries\n",
    "from merlion.models.forecast.prophet import Prophet, ProphetConfig\n",
    "from merlion.evaluate.forecast import ForecastEvaluator\n",
    "\n",
    "# Create some sample data\n",
    "dates = pd.date_range(start='2020-01-01', end='2022-12-31', freq='D')\n",
    "values = np.random.randn(len(dates)).cumsum()  # random walk\n",
    "\n",
    "# Create a DataFrame\n",
    "df = pd.DataFrame({'timestamp': dates, 'value': values})\n",
    "df.set_index('timestamp', inplace=True)\n",
    "\n",
    "# Convert to Merlion TimeSeries\n",
    "ts = TimeSeries.from_pd(df)\n",
    "\n",
    "# Split the data into train and test sets\n",
    "train_data = ts[:int(0.8 * len(ts))]\n",
    "test_data = ts[int(0.8 * len(ts)):]\n",
    "\n",
    "# Initialize a Prophet configuration\n",
    "prophet_config = ProphetConfig()\n",
    "\n",
    "# Initialize a Prophet model with the configuration\n",
    "model = Prophet(prophet_config)\n",
    "\n",
    "# Train the model\n",
    "model.train(train_data)\n",
    "\n",
    "# Get the last timestamp from the training data\n",
    "last_timestamp = train_data.time_stamps[-1]\n",
    "\n",
    "# Create a sequence of future timestamps\n",
    "future_timestamps = pd.date_range(start=last_timestamp, periods=len(test_data)+1, freq='D')[1:]\n",
    "\n",
    "# Make predictions\n",
    "prediction = model.forecast(future_timestamps)\n",
    "\n",
    "# Evaluate the model\n",
    "evaluator = ForecastEvaluator(model, train_data, test_data)\n",
    "eval_result = evaluator.evaluate()\n",
    "\n",
    "print(eval_result)\n"
   ]
  },
  {
   "cell_type": "code",
   "execution_count": 30,
   "id": "d53acec4",
   "metadata": {},
   "outputs": [
    {
     "ename": "NameError",
     "evalue": "name 'forecast' is not defined",
     "output_type": "error",
     "traceback": [
      "\u001b[0;31m---------------------------------------------------------------------------\u001b[0m",
      "\u001b[0;31mNameError\u001b[0m                                 Traceback (most recent call last)",
      "\u001b[0;32m<ipython-input-30-b021a234ffb1>\u001b[0m in \u001b[0;36m<module>\u001b[0;34m\u001b[0m\n\u001b[1;32m      3\u001b[0m \u001b[0mplt\u001b[0m\u001b[0;34m.\u001b[0m\u001b[0mfigure\u001b[0m\u001b[0;34m(\u001b[0m\u001b[0mfigsize\u001b[0m\u001b[0;34m=\u001b[0m\u001b[0;34m(\u001b[0m\u001b[0;36m10\u001b[0m\u001b[0;34m,\u001b[0m \u001b[0;36m6\u001b[0m\u001b[0;34m)\u001b[0m\u001b[0;34m)\u001b[0m\u001b[0;34m\u001b[0m\u001b[0;34m\u001b[0m\u001b[0m\n\u001b[1;32m      4\u001b[0m \u001b[0mplt\u001b[0m\u001b[0;34m.\u001b[0m\u001b[0mplot\u001b[0m\u001b[0;34m(\u001b[0m\u001b[0mts\u001b[0m\u001b[0;34m.\u001b[0m\u001b[0mto_pd\u001b[0m\u001b[0;34m(\u001b[0m\u001b[0;34m)\u001b[0m\u001b[0;34m,\u001b[0m \u001b[0mlabel\u001b[0m\u001b[0;34m=\u001b[0m\u001b[0;34m\"Actual\"\u001b[0m\u001b[0;34m)\u001b[0m\u001b[0;34m\u001b[0m\u001b[0;34m\u001b[0m\u001b[0m\n\u001b[0;32m----> 5\u001b[0;31m \u001b[0mplt\u001b[0m\u001b[0;34m.\u001b[0m\u001b[0mplot\u001b[0m\u001b[0;34m(\u001b[0m\u001b[0mforecast\u001b[0m\u001b[0;34m.\u001b[0m\u001b[0mto_pd\u001b[0m\u001b[0;34m(\u001b[0m\u001b[0;34m)\u001b[0m\u001b[0;34m,\u001b[0m \u001b[0mlabel\u001b[0m\u001b[0;34m=\u001b[0m\u001b[0;34m\"Forecast\"\u001b[0m\u001b[0;34m,\u001b[0m \u001b[0mlinestyle\u001b[0m\u001b[0;34m=\u001b[0m\u001b[0;34m\"--\"\u001b[0m\u001b[0;34m)\u001b[0m\u001b[0;34m\u001b[0m\u001b[0;34m\u001b[0m\u001b[0m\n\u001b[0m\u001b[1;32m      6\u001b[0m plt.fill_between(\n\u001b[1;32m      7\u001b[0m     \u001b[0mforecast\u001b[0m\u001b[0;34m.\u001b[0m\u001b[0mtime_stamps\u001b[0m\u001b[0;34m,\u001b[0m\u001b[0;34m\u001b[0m\u001b[0;34m\u001b[0m\u001b[0m\n",
      "\u001b[0;31mNameError\u001b[0m: name 'forecast' is not defined"
     ]
    },
    {
     "data": {
      "image/png": "[encoded data removed]",
      "text/plain": [
       "<Figure size 720x432 with 1 Axes>"
      ]
     },
     "metadata": {
      "needs_background": "light"
     },
     "output_type": "display_data"
    }
   ],
   "source": [
    "import matplotlib.pyplot as plt\n",
    "# Plot the original data and forecast\n",
    "plt.figure(figsize=(10, 6))\n",
    "plt.plot(ts.to_pd(), label=\"Actual\")\n",
    "plt.plot(forecast.to_pd(), label=\"Forecast\", linestyle=\"--\")\n",
    "plt.fill_between(\n",
    "    forecast.time_stamps,\n",
    "    forecast.values - error.values,\n",
    "    forecast.values + error.values,\n",
    "    color=\"gray\",\n",
    "    alpha=0.3,\n",
    "    label=\"Confidence Interval\",\n",
    ")\n",
    "plt.legend()\n",
    "plt.show()"
   ]
  },
  {
   "cell_type": "code",
   "execution_count": 34,
   "id": "6dd1ae85",
   "metadata": {},
   "outputs": [
    {
     "name": "stderr",
     "output_type": "stream",
     "text": [
      "16:56:49 - cmdstanpy - INFO - Chain [1] start processing\n",
      "16:56:50 - cmdstanpy - INFO - Chain [1] done processing\n"
     ]
    },
    {
     "ename": "ValueError",
     "evalue": "too many values to unpack (expected 2)",
     "output_type": "error",
     "traceback": [
      "\u001b[0;31m---------------------------------------------------------------------------\u001b[0m",
      "\u001b[0;31mValueError\u001b[0m                                Traceback (most recent call last)",
      "\u001b[0;32m<ipython-input-34-7128b830466f>\u001b[0m in \u001b[0;36m<module>\u001b[0;34m\u001b[0m\n\u001b[1;32m     41\u001b[0m \u001b[0;34m\u001b[0m\u001b[0m\n\u001b[1;32m     42\u001b[0m \u001b[0;31m# Make predictions\u001b[0m\u001b[0;34m\u001b[0m\u001b[0;34m\u001b[0m\u001b[0;34m\u001b[0m\u001b[0m\n\u001b[0;32m---> 43\u001b[0;31m \u001b[0mforecast\u001b[0m\u001b[0;34m,\u001b[0m \u001b[0merror\u001b[0m \u001b[0;34m=\u001b[0m \u001b[0mmodel\u001b[0m\u001b[0;34m.\u001b[0m\u001b[0mforecast\u001b[0m\u001b[0;34m(\u001b[0m\u001b[0mtime_stamps\u001b[0m\u001b[0;34m=\u001b[0m\u001b[0mfuture_timestamps\u001b[0m\u001b[0;34m,\u001b[0m \u001b[0mreturn_iqr\u001b[0m\u001b[0;34m=\u001b[0m\u001b[0;32mTrue\u001b[0m\u001b[0;34m)\u001b[0m\u001b[0;34m\u001b[0m\u001b[0;34m\u001b[0m\u001b[0m\n\u001b[0m\u001b[1;32m     44\u001b[0m \u001b[0;34m\u001b[0m\u001b[0m\n\u001b[1;32m     45\u001b[0m \u001b[0;31m# Create a ForecastEvaluatorConfig\u001b[0m\u001b[0;34m\u001b[0m\u001b[0;34m\u001b[0m\u001b[0;34m\u001b[0m\u001b[0m\n",
      "\u001b[0;31mValueError\u001b[0m: too many values to unpack (expected 2)"
     ]
    }
   ],
   "source": [
    "import pandas as pd\n",
    "import numpy as np\n",
    "import matplotlib.pyplot as plt\n",
    "from merlion.utils import TimeSeries\n",
    "from merlion.models.forecast.prophet import Prophet, ProphetConfig\n",
    "from merlion.evaluate.forecast import ForecastEvaluator, ForecastEvaluatorConfig\n",
    "\n",
    "# Create some sample data\n",
    "dates = pd.date_range(start='2020-01-01', end='2022-12-31', freq='D')\n",
    "values = np.random.randn(len(dates)).cumsum()  # random walk\n",
    "\n",
    "# Create a DataFrame\n",
    "df = pd.DataFrame({'timestamp': dates, 'value': values})\n",
    "df.set_index('timestamp', inplace=True)\n",
    "\n",
    "# Convert to Merlion TimeSeries\n",
    "ts = TimeSeries.from_pd(df)\n",
    "\n",
    "# Split the data into train and test sets\n",
    "train_data = ts[:int(0.8 * len(ts))]\n",
    "test_data = ts[int(0.8 * len(ts)):]\n",
    "\n",
    "# Initialize a Prophet configuration\n",
    "prophet_config = ProphetConfig()\n",
    "\n",
    "# Initialize a Prophet model with the configuration\n",
    "model = Prophet(prophet_config)\n",
    "\n",
    "# Train the model\n",
    "model.train(train_data)\n",
    "\n",
    "# Get the last timestamp from the training data\n",
    "last_timestamp = train_data.time_stamps[-1]\n",
    "\n",
    "# Create a sequence of future timestamps\n",
    "future_timestamps = np.arange(\n",
    "    last_timestamp + 86400,  # Start from the day after last training timestamp\n",
    "    last_timestamp + 86400 * (len(test_data) + 1),\n",
    "    86400  # Increment by one day (86400 seconds)\n",
    ")\n",
    "\n",
    "# Make predictions\n",
    "forecast, error = model.forecast(time_stamps=future_timestamps, return_iqr=True)\n",
    "\n",
    "# Create a ForecastEvaluatorConfig\n",
    "eval_config = ForecastEvaluatorConfig()\n",
    "\n",
    "# Initialize the evaluator with the model and config\n",
    "evaluator = ForecastEvaluator(model, eval_config)\n",
    "\n",
    "# Evaluate the model\n",
    "eval_result = evaluator.evaluate(ground_truth=test_data, predict=forecast)\n",
    "\n",
    "print(eval_result)\n",
    "\n",
    "# Plot the original data and forecast\n",
    "plt.figure(figsize=(12, 6))\n",
    "plt.plot(ts.to_pd(), label=\"Actual\", color='blue')\n",
    "plt.plot(forecast.to_pd(), label=\"Forecast\", linestyle=\"--\", color='red')\n",
    "plt.fill_between(\n",
    "    forecast.to_pd().index,\n",
    "    (forecast - error).to_pd().iloc[:, 0],\n",
    "    (forecast + error).to_pd().iloc[:, 0],\n",
    "    color=\"gray\",\n",
    "    alpha=0.3,\n",
    "    label=\"Confidence Interval\",\n",
    ")\n",
    "plt.title(\"Time Series Forecast\")\n",
    "plt.xlabel(\"Date\")\n",
    "plt.ylabel(\"Value\")\n",
    "plt.legend()\n",
    "plt.grid(True)\n",
    "plt.tight_layout()\n",
    "plt.show()\n"
   ]
  },
  {
   "cell_type": "code",
   "execution_count": 35,
   "id": "3cf1da1f",
   "metadata": {},
   "outputs": [
    {
     "name": "stderr",
     "output_type": "stream",
     "text": [
      "16:57:48 - cmdstanpy - INFO - Chain [1] start processing\n",
      "16:57:49 - cmdstanpy - INFO - Chain [1] done processing\n"
     ]
    },
    {
     "name": "stdout",
     "output_type": "stream",
     "text": [
      "119.27827530797947\n"
     ]
    },
    {
     "ename": "AttributeError",
     "evalue": "'tuple' object has no attribute 'to_pd'",
     "output_type": "error",
     "traceback": [
      "\u001b[0;31m---------------------------------------------------------------------------\u001b[0m",
      "\u001b[0;31mAttributeError\u001b[0m                            Traceback (most recent call last)",
      "\u001b[0;32m<ipython-input-35-a0b6345277a9>\u001b[0m in \u001b[0;36m<module>\u001b[0;34m\u001b[0m\n\u001b[1;32m     57\u001b[0m \u001b[0mplt\u001b[0m\u001b[0;34m.\u001b[0m\u001b[0mfigure\u001b[0m\u001b[0;34m(\u001b[0m\u001b[0mfigsize\u001b[0m\u001b[0;34m=\u001b[0m\u001b[0;34m(\u001b[0m\u001b[0;36m12\u001b[0m\u001b[0;34m,\u001b[0m \u001b[0;36m6\u001b[0m\u001b[0;34m)\u001b[0m\u001b[0;34m)\u001b[0m\u001b[0;34m\u001b[0m\u001b[0;34m\u001b[0m\u001b[0m\n\u001b[1;32m     58\u001b[0m \u001b[0mplt\u001b[0m\u001b[0;34m.\u001b[0m\u001b[0mplot\u001b[0m\u001b[0;34m(\u001b[0m\u001b[0mts\u001b[0m\u001b[0;34m.\u001b[0m\u001b[0mto_pd\u001b[0m\u001b[0;34m(\u001b[0m\u001b[0;34m)\u001b[0m\u001b[0;34m,\u001b[0m \u001b[0mlabel\u001b[0m\u001b[0;34m=\u001b[0m\u001b[0;34m\"Actual\"\u001b[0m\u001b[0;34m,\u001b[0m \u001b[0mcolor\u001b[0m\u001b[0;34m=\u001b[0m\u001b[0;34m'blue'\u001b[0m\u001b[0;34m)\u001b[0m\u001b[0;34m\u001b[0m\u001b[0;34m\u001b[0m\u001b[0m\n\u001b[0;32m---> 59\u001b[0;31m \u001b[0mplt\u001b[0m\u001b[0;34m.\u001b[0m\u001b[0mplot\u001b[0m\u001b[0;34m(\u001b[0m\u001b[0mforecast\u001b[0m\u001b[0;34m.\u001b[0m\u001b[0mto_pd\u001b[0m\u001b[0;34m(\u001b[0m\u001b[0;34m)\u001b[0m\u001b[0;34m,\u001b[0m \u001b[0mlabel\u001b[0m\u001b[0;34m=\u001b[0m\u001b[0;34m\"Forecast\"\u001b[0m\u001b[0;34m,\u001b[0m \u001b[0mlinestyle\u001b[0m\u001b[0;34m=\u001b[0m\u001b[0;34m\"--\"\u001b[0m\u001b[0;34m,\u001b[0m \u001b[0mcolor\u001b[0m\u001b[0;34m=\u001b[0m\u001b[0;34m'red'\u001b[0m\u001b[0;34m)\u001b[0m\u001b[0;34m\u001b[0m\u001b[0;34m\u001b[0m\u001b[0m\n\u001b[0m\u001b[1;32m     60\u001b[0m \u001b[0;34m\u001b[0m\u001b[0m\n\u001b[1;32m     61\u001b[0m \u001b[0;31m# Calculate a simple confidence interval (you might want to adjust this)\u001b[0m\u001b[0;34m\u001b[0m\u001b[0;34m\u001b[0m\u001b[0;34m\u001b[0m\u001b[0m\n",
      "\u001b[0;31mAttributeError\u001b[0m: 'tuple' object has no attribute 'to_pd'"
     ]
    },
    {
     "data": {
      "image/png": "[encoded data removed]",
      "text/plain": [
       "<Figure size 864x432 with 1 Axes>"
      ]
     },
     "metadata": {
      "needs_background": "light"
     },
     "output_type": "display_data"
    }
   ],
   "source": [
    "import pandas as pd\n",
    "import numpy as np\n",
    "import matplotlib.pyplot as plt\n",
    "from merlion.utils import TimeSeries\n",
    "from merlion.models.forecast.prophet import Prophet, ProphetConfig\n",
    "from merlion.evaluate.forecast import ForecastEvaluator, ForecastEvaluatorConfig\n",
    "\n",
    "# Create some sample data\n",
    "dates = pd.date_range(start='2020-01-01', end='2022-12-31', freq='D')\n",
    "values = np.random.randn(len(dates)).cumsum()  # random walk\n",
    "\n",
    "# Create a DataFrame\n",
    "df = pd.DataFrame({'timestamp': dates, 'value': values})\n",
    "df.set_index('timestamp', inplace=True)\n",
    "\n",
    "# Convert to Merlion TimeSeries\n",
    "ts = TimeSeries.from_pd(df)\n",
    "\n",
    "# Split the data into train and test sets\n",
    "train_data = ts[:int(0.8 * len(ts))]\n",
    "test_data = ts[int(0.8 * len(ts)):]\n",
    "\n",
    "# Initialize a Prophet configuration\n",
    "prophet_config = ProphetConfig()\n",
    "\n",
    "# Initialize a Prophet model with the configuration\n",
    "model = Prophet(prophet_config)\n",
    "\n",
    "# Train the model\n",
    "model.train(train_data)\n",
    "\n",
    "# Get the last timestamp from the training data\n",
    "last_timestamp = train_data.time_stamps[-1]\n",
    "\n",
    "# Create a sequence of future timestamps\n",
    "future_timestamps = np.arange(\n",
    "    last_timestamp + 86400,  # Start from the day after last training timestamp\n",
    "    last_timestamp + 86400 * (len(test_data) + 1),\n",
    "    86400  # Increment by one day (86400 seconds)\n",
    ")\n",
    "\n",
    "# Make predictions\n",
    "forecast = model.forecast(time_stamps=future_timestamps)\n",
    "\n",
    "# Create a ForecastEvaluatorConfig\n",
    "eval_config = ForecastEvaluatorConfig()\n",
    "\n",
    "# Initialize the evaluator with the model and config\n",
    "evaluator = ForecastEvaluator(model, eval_config)\n",
    "\n",
    "# Evaluate the model\n",
    "eval_result = evaluator.evaluate(ground_truth=test_data, predict=forecast)\n",
    "\n",
    "print(eval_result)\n",
    "\n",
    "# Plot the original data and forecast\n",
    "plt.figure(figsize=(12, 6))\n",
    "plt.plot(ts.to_pd(), label=\"Actual\", color='blue')\n",
    "plt.plot(forecast.to_pd(), label=\"Forecast\", linestyle=\"--\", color='red')\n",
    "\n",
    "# Calculate a simple confidence interval (you might want to adjust this)\n",
    "confidence_interval = forecast.to_pd().std() * 1.96\n",
    "plt.fill_between(\n",
    "    forecast.to_pd().index,\n",
    "    forecast.to_pd().iloc[:, 0] - confidence_interval,\n",
    "    forecast.to_pd().iloc[:, 0] + confidence_interval,\n",
    "    color=\"gray\",\n",
    "    alpha=0.3,\n",
    "    label=\"Confidence Interval\",\n",
    ")\n",
    "\n",
    "plt.title(\"Time Series Forecast\")\n",
    "plt.xlabel(\"Date\")\n",
    "plt.ylabel(\"Value\")\n",
    "plt.legend()\n",
    "plt.grid(True)\n",
    "plt.tight_layout()\n",
    "plt.show()\n"
   ]
  },
  {
   "cell_type": "code",
   "execution_count": 36,
   "id": "7671ebe0",
   "metadata": {},
   "outputs": [
    {
     "name": "stderr",
     "output_type": "stream",
     "text": [
      "16:58:38 - cmdstanpy - INFO - Chain [1] start processing\n",
      "16:58:39 - cmdstanpy - INFO - Chain [1] done processing\n"
     ]
    },
    {
     "name": "stdout",
     "output_type": "stream",
     "text": [
      "16.293082078661673\n"
     ]
    },
    {
     "ename": "ValueError",
     "evalue": "operands could not be broadcast together with shapes (220,) (221,) ",
     "output_type": "error",
     "traceback": [
      "\u001b[0;31m---------------------------------------------------------------------------\u001b[0m",
      "\u001b[0;31mValueError\u001b[0m                                Traceback (most recent call last)",
      "\u001b[0;32m<ipython-input-36-0fb93d4db2da>\u001b[0m in \u001b[0;36m<module>\u001b[0;34m\u001b[0m\n\u001b[1;32m     62\u001b[0m \u001b[0;31m# Calculate a simple confidence interval (you might want to adjust this)\u001b[0m\u001b[0;34m\u001b[0m\u001b[0;34m\u001b[0m\u001b[0;34m\u001b[0m\u001b[0m\n\u001b[1;32m     63\u001b[0m \u001b[0mconfidence_interval\u001b[0m \u001b[0;34m=\u001b[0m \u001b[0mforecast\u001b[0m\u001b[0;34m.\u001b[0m\u001b[0mto_pd\u001b[0m\u001b[0;34m(\u001b[0m\u001b[0;34m)\u001b[0m\u001b[0;34m.\u001b[0m\u001b[0mstd\u001b[0m\u001b[0;34m(\u001b[0m\u001b[0;34m)\u001b[0m \u001b[0;34m*\u001b[0m \u001b[0;36m1.96\u001b[0m\u001b[0;34m\u001b[0m\u001b[0;34m\u001b[0m\u001b[0m\n\u001b[0;32m---> 64\u001b[0;31m plt.fill_between(\n\u001b[0m\u001b[1;32m     65\u001b[0m     \u001b[0mforecast\u001b[0m\u001b[0;34m.\u001b[0m\u001b[0mto_pd\u001b[0m\u001b[0;34m(\u001b[0m\u001b[0;34m)\u001b[0m\u001b[0;34m.\u001b[0m\u001b[0mindex\u001b[0m\u001b[0;34m,\u001b[0m\u001b[0;34m\u001b[0m\u001b[0;34m\u001b[0m\u001b[0m\n\u001b[1;32m     66\u001b[0m     \u001b[0mforecast\u001b[0m\u001b[0;34m.\u001b[0m\u001b[0mto_pd\u001b[0m\u001b[0;34m(\u001b[0m\u001b[0;34m)\u001b[0m\u001b[0;34m.\u001b[0m\u001b[0miloc\u001b[0m\u001b[0;34m[\u001b[0m\u001b[0;34m:\u001b[0m\u001b[0;34m,\u001b[0m \u001b[0;36m0\u001b[0m\u001b[0;34m]\u001b[0m \u001b[0;34m-\u001b[0m \u001b[0mconfidence_interval\u001b[0m\u001b[0;34m,\u001b[0m\u001b[0;34m\u001b[0m\u001b[0;34m\u001b[0m\u001b[0m\n",
      "\u001b[0;32m~/opt/anaconda3/lib/python3.8/site-packages/matplotlib/pyplot.py\u001b[0m in \u001b[0;36mfill_between\u001b[0;34m(x, y1, y2, where, interpolate, step, data, **kwargs)\u001b[0m\n\u001b[1;32m   2512\u001b[0m         \u001b[0mx\u001b[0m\u001b[0;34m,\u001b[0m \u001b[0my1\u001b[0m\u001b[0;34m,\u001b[0m \u001b[0my2\u001b[0m\u001b[0;34m=\u001b[0m\u001b[0;36m0\u001b[0m\u001b[0;34m,\u001b[0m \u001b[0mwhere\u001b[0m\u001b[0;34m=\u001b[0m\u001b[0;32mNone\u001b[0m\u001b[0;34m,\u001b[0m \u001b[0minterpolate\u001b[0m\u001b[0;34m=\u001b[0m\u001b[0;32mFalse\u001b[0m\u001b[0;34m,\u001b[0m \u001b[0mstep\u001b[0m\u001b[0;34m=\u001b[0m\u001b[0;32mNone\u001b[0m\u001b[0;34m,\u001b[0m \u001b[0;34m*\u001b[0m\u001b[0;34m,\u001b[0m\u001b[0;34m\u001b[0m\u001b[0;34m\u001b[0m\u001b[0m\n\u001b[1;32m   2513\u001b[0m         data=None, **kwargs):\n\u001b[0;32m-> 2514\u001b[0;31m     return gca().fill_between(\n\u001b[0m\u001b[1;32m   2515\u001b[0m         \u001b[0mx\u001b[0m\u001b[0;34m,\u001b[0m \u001b[0my1\u001b[0m\u001b[0;34m,\u001b[0m \u001b[0my2\u001b[0m\u001b[0;34m=\u001b[0m\u001b[0my2\u001b[0m\u001b[0;34m,\u001b[0m \u001b[0mwhere\u001b[0m\u001b[0;34m=\u001b[0m\u001b[0mwhere\u001b[0m\u001b[0;34m,\u001b[0m \u001b[0minterpolate\u001b[0m\u001b[0;34m=\u001b[0m\u001b[0minterpolate\u001b[0m\u001b[0;34m,\u001b[0m \u001b[0mstep\u001b[0m\u001b[0;34m=\u001b[0m\u001b[0mstep\u001b[0m\u001b[0;34m,\u001b[0m\u001b[0;34m\u001b[0m\u001b[0;34m\u001b[0m\u001b[0m\n\u001b[1;32m   2516\u001b[0m         **({\"data\": data} if data is not None else {}), **kwargs)\n",
      "\u001b[0;32m~/opt/anaconda3/lib/python3.8/site-packages/matplotlib/__init__.py\u001b[0m in \u001b[0;36minner\u001b[0;34m(ax, data, *args, **kwargs)\u001b[0m\n\u001b[1;32m   1421\u001b[0m     \u001b[0;32mdef\u001b[0m \u001b[0minner\u001b[0m\u001b[0;34m(\u001b[0m\u001b[0max\u001b[0m\u001b[0;34m,\u001b[0m \u001b[0;34m*\u001b[0m\u001b[0margs\u001b[0m\u001b[0;34m,\u001b[0m \u001b[0mdata\u001b[0m\u001b[0;34m=\u001b[0m\u001b[0;32mNone\u001b[0m\u001b[0;34m,\u001b[0m \u001b[0;34m**\u001b[0m\u001b[0mkwargs\u001b[0m\u001b[0;34m)\u001b[0m\u001b[0;34m:\u001b[0m\u001b[0;34m\u001b[0m\u001b[0;34m\u001b[0m\u001b[0m\n\u001b[1;32m   1422\u001b[0m         \u001b[0;32mif\u001b[0m \u001b[0mdata\u001b[0m \u001b[0;32mis\u001b[0m \u001b[0;32mNone\u001b[0m\u001b[0;34m:\u001b[0m\u001b[0;34m\u001b[0m\u001b[0;34m\u001b[0m\u001b[0m\n\u001b[0;32m-> 1423\u001b[0;31m             \u001b[0;32mreturn\u001b[0m \u001b[0mfunc\u001b[0m\u001b[0;34m(\u001b[0m\u001b[0max\u001b[0m\u001b[0;34m,\u001b[0m \u001b[0;34m*\u001b[0m\u001b[0mmap\u001b[0m\u001b[0;34m(\u001b[0m\u001b[0msanitize_sequence\u001b[0m\u001b[0;34m,\u001b[0m \u001b[0margs\u001b[0m\u001b[0;34m)\u001b[0m\u001b[0;34m,\u001b[0m \u001b[0;34m**\u001b[0m\u001b[0mkwargs\u001b[0m\u001b[0;34m)\u001b[0m\u001b[0;34m\u001b[0m\u001b[0;34m\u001b[0m\u001b[0m\n\u001b[0m\u001b[1;32m   1424\u001b[0m \u001b[0;34m\u001b[0m\u001b[0m\n\u001b[1;32m   1425\u001b[0m         \u001b[0mbound\u001b[0m \u001b[0;34m=\u001b[0m \u001b[0mnew_sig\u001b[0m\u001b[0;34m.\u001b[0m\u001b[0mbind\u001b[0m\u001b[0;34m(\u001b[0m\u001b[0max\u001b[0m\u001b[0;34m,\u001b[0m \u001b[0;34m*\u001b[0m\u001b[0margs\u001b[0m\u001b[0;34m,\u001b[0m \u001b[0;34m**\u001b[0m\u001b[0mkwargs\u001b[0m\u001b[0;34m)\u001b[0m\u001b[0;34m\u001b[0m\u001b[0;34m\u001b[0m\u001b[0m\n",
      "\u001b[0;32m~/opt/anaconda3/lib/python3.8/site-packages/matplotlib/axes/_axes.py\u001b[0m in \u001b[0;36mfill_between\u001b[0;34m(self, x, y1, y2, where, interpolate, step, **kwargs)\u001b[0m\n\u001b[1;32m   5333\u001b[0m     def fill_between(self, x, y1, y2=0, where=None, interpolate=False,\n\u001b[1;32m   5334\u001b[0m                      step=None, **kwargs):\n\u001b[0;32m-> 5335\u001b[0;31m         return self._fill_between_x_or_y(\n\u001b[0m\u001b[1;32m   5336\u001b[0m             \u001b[0;34m\"x\"\u001b[0m\u001b[0;34m,\u001b[0m \u001b[0mx\u001b[0m\u001b[0;34m,\u001b[0m \u001b[0my1\u001b[0m\u001b[0;34m,\u001b[0m \u001b[0my2\u001b[0m\u001b[0;34m,\u001b[0m\u001b[0;34m\u001b[0m\u001b[0;34m\u001b[0m\u001b[0m\n\u001b[1;32m   5337\u001b[0m             where=where, interpolate=interpolate, step=step, **kwargs)\n",
      "\u001b[0;32m~/opt/anaconda3/lib/python3.8/site-packages/matplotlib/axes/_axes.py\u001b[0m in \u001b[0;36m_fill_between_x_or_y\u001b[0;34m(self, ind_dir, ind, dep1, dep2, where, interpolate, step, **kwargs)\u001b[0m\n\u001b[1;32m   5254\u001b[0m                 raise ValueError(f\"where size ({where.size}) does not match \"\n\u001b[1;32m   5255\u001b[0m                                  f\"{ind_dir} size ({ind.size})\")\n\u001b[0;32m-> 5256\u001b[0;31m         where = where & ~functools.reduce(\n\u001b[0m\u001b[1;32m   5257\u001b[0m             np.logical_or, map(np.ma.getmask, [ind, dep1, dep2]))\n\u001b[1;32m   5258\u001b[0m \u001b[0;34m\u001b[0m\u001b[0m\n",
      "\u001b[0;31mValueError\u001b[0m: operands could not be broadcast together with shapes (220,) (221,) "
     ]
    },
    {
     "data": {
      "image/png": "[encoded data removed]",
      "text/plain": [
       "<Figure size 864x432 with 1 Axes>"
      ]
     },
     "metadata": {
      "needs_background": "light"
     },
     "output_type": "display_data"
    }
   ],
   "source": [
    "import pandas as pd\n",
    "import numpy as np\n",
    "import matplotlib.pyplot as plt\n",
    "from merlion.utils import TimeSeries\n",
    "from merlion.models.forecast.prophet import Prophet, ProphetConfig\n",
    "from merlion.evaluate.forecast import ForecastEvaluator, ForecastEvaluatorConfig\n",
    "\n",
    "# Create some sample data\n",
    "dates = pd.date_range(start='2020-01-01', end='2022-12-31', freq='D')\n",
    "values = np.random.randn(len(dates)).cumsum()  # random walk\n",
    "\n",
    "# Create a DataFrame\n",
    "df = pd.DataFrame({'timestamp': dates, 'value': values})\n",
    "df.set_index('timestamp', inplace=True)\n",
    "\n",
    "# Convert to Merlion TimeSeries\n",
    "ts = TimeSeries.from_pd(df)\n",
    "\n",
    "# Split the data into train and test sets\n",
    "train_data = ts[:int(0.8 * len(ts))]\n",
    "test_data = ts[int(0.8 * len(ts)):]\n",
    "\n",
    "# Initialize a Prophet configuration\n",
    "prophet_config = ProphetConfig()\n",
    "\n",
    "# Initialize a Prophet model with the configuration\n",
    "model = Prophet(prophet_config)\n",
    "\n",
    "# Train the model\n",
    "model.train(train_data)\n",
    "\n",
    "# Get the last timestamp from the training data\n",
    "last_timestamp = train_data.time_stamps[-1]\n",
    "\n",
    "# Create a sequence of future timestamps\n",
    "future_timestamps = np.arange(\n",
    "    last_timestamp + 86400,  # Start from the day after last training timestamp\n",
    "    last_timestamp + 86400 * (len(test_data) + 1),\n",
    "    86400  # Increment by one day (86400 seconds)\n",
    ")\n",
    "\n",
    "# Make predictions\n",
    "forecast_tuple = model.forecast(time_stamps=future_timestamps)\n",
    "forecast = forecast_tuple[0]  # Assuming the first element is the forecast TimeSeries\n",
    "\n",
    "# Create a ForecastEvaluatorConfig\n",
    "eval_config = ForecastEvaluatorConfig()\n",
    "\n",
    "# Initialize the evaluator with the model and config\n",
    "evaluator = ForecastEvaluator(model, eval_config)\n",
    "\n",
    "# Evaluate the model\n",
    "eval_result = evaluator.evaluate(ground_truth=test_data, predict=forecast)\n",
    "\n",
    "print(eval_result)\n",
    "\n",
    "# Plot the original data and forecast\n",
    "plt.figure(figsize=(12, 6))\n",
    "plt.plot(ts.to_pd(), label=\"Actual\", color='blue')\n",
    "plt.plot(forecast.to_pd(), label=\"Forecast\", linestyle=\"--\", color='red')\n",
    "\n",
    "# Calculate a simple confidence interval (you might want to adjust this)\n",
    "confidence_interval = forecast.to_pd().std() * 1.96\n",
    "plt.fill_between(\n",
    "    forecast.to_pd().index,\n",
    "    forecast.to_pd().iloc[:, 0] - confidence_interval,\n",
    "    forecast.to_pd().iloc[:, 0] + confidence_interval,\n",
    "    color=\"gray\",\n",
    "    alpha=0.3,\n",
    "    label=\"Confidence Interval\",\n",
    ")\n",
    "\n",
    "plt.title(\"Time Series Forecast\")\n",
    "plt.xlabel(\"Date\")\n",
    "plt.ylabel(\"Value\")\n",
    "plt.legend()\n",
    "plt.grid(True)\n",
    "plt.tight_layout()\n",
    "plt.show()\n"
   ]
  },
  {
   "cell_type": "code",
   "execution_count": 37,
   "id": "b06eef71",
   "metadata": {},
   "outputs": [
    {
     "ename": "TypeError",
     "evalue": "__init__() got an unexpected keyword argument 'order'",
     "output_type": "error",
     "traceback": [
      "\u001b[0;31m---------------------------------------------------------------------------\u001b[0m",
      "\u001b[0;31mTypeError\u001b[0m                                 Traceback (most recent call last)",
      "\u001b[0;32m<ipython-input-37-a7fa6223319d>\u001b[0m in \u001b[0;36m<module>\u001b[0;34m\u001b[0m\n\u001b[1;32m     33\u001b[0m \u001b[0;34m\u001b[0m\u001b[0m\n\u001b[1;32m     34\u001b[0m \u001b[0;31m# ARIMA model\u001b[0m\u001b[0;34m\u001b[0m\u001b[0;34m\u001b[0m\u001b[0;34m\u001b[0m\u001b[0m\n\u001b[0;32m---> 35\u001b[0;31m \u001b[0marima_model\u001b[0m \u001b[0;34m=\u001b[0m \u001b[0mArima\u001b[0m\u001b[0;34m(\u001b[0m\u001b[0morder\u001b[0m\u001b[0;34m=\u001b[0m\u001b[0;34m(\u001b[0m\u001b[0;36m1\u001b[0m\u001b[0;34m,\u001b[0m \u001b[0;36m1\u001b[0m\u001b[0;34m,\u001b[0m \u001b[0;36m1\u001b[0m\u001b[0;34m)\u001b[0m\u001b[0;34m)\u001b[0m\u001b[0;34m\u001b[0m\u001b[0;34m\u001b[0m\u001b[0m\n\u001b[0m\u001b[1;32m     36\u001b[0m \u001b[0marima_forecast\u001b[0m\u001b[0;34m,\u001b[0m \u001b[0marima_eval\u001b[0m \u001b[0;34m=\u001b[0m \u001b[0mtrain_and_forecast\u001b[0m\u001b[0;34m(\u001b[0m\u001b[0marima_model\u001b[0m\u001b[0;34m,\u001b[0m \u001b[0mtrain_data\u001b[0m\u001b[0;34m,\u001b[0m \u001b[0mtest_data\u001b[0m\u001b[0;34m)\u001b[0m\u001b[0;34m\u001b[0m\u001b[0;34m\u001b[0m\u001b[0m\n\u001b[1;32m     37\u001b[0m \u001b[0;34m\u001b[0m\u001b[0m\n",
      "\u001b[0;31mTypeError\u001b[0m: __init__() got an unexpected keyword argument 'order'"
     ]
    }
   ],
   "source": [
    "import numpy as np\n",
    "import pandas as pd\n",
    "import matplotlib.pyplot as plt\n",
    "from merlion.utils import TimeSeries\n",
    "from merlion.models.forecast.arima import Arima\n",
    "from merlion.models.forecast.prophet import Prophet\n",
    "from merlion.evaluate.forecast import ForecastEvaluator\n",
    "\n",
    "# Create sample data\n",
    "np.random.seed(42)\n",
    "dates = pd.date_range(start='2020-01-01', end='2022-12-31', freq='D')\n",
    "trend = np.linspace(0, 10, len(dates))\n",
    "seasonality = 5 * np.sin(np.arange(len(dates)) * 2 * np.pi / 365)\n",
    "noise = np.random.normal(0, 1, len(dates))\n",
    "values = trend + seasonality + noise\n",
    "\n",
    "# Create a DataFrame and convert to Merlion TimeSeries\n",
    "df = pd.DataFrame({'timestamp': dates, 'value': values})\n",
    "df.set_index('timestamp', inplace=True)\n",
    "ts = TimeSeries.from_pd(df)\n",
    "\n",
    "# Split the data into train and test sets\n",
    "train_data = ts[:-365]\n",
    "test_data = ts[-365:]\n",
    "\n",
    "# Function to train, forecast, and evaluate a model\n",
    "def train_and_forecast(model, train_data, test_data):\n",
    "    model.train(train_data)\n",
    "    forecast = model.forecast(time_stamps=test_data.time_stamps)\n",
    "    evaluator = ForecastEvaluator(model)\n",
    "    eval_result = evaluator.evaluate(ground_truth=test_data, predict=forecast)\n",
    "    return forecast, eval_result\n",
    "\n",
    "# ARIMA model\n",
    "arima_model = Arima(order=(1, 1, 1))\n",
    "arima_forecast, arima_eval = train_and_forecast(arima_model, train_data, test_data)\n",
    "\n",
    "# Prophet model\n",
    "prophet_model = Prophet()\n",
    "prophet_forecast, prophet_eval = train_and_forecast(prophet_model, train_data, test_data)\n",
    "\n",
    "# Visualization\n",
    "plt.figure(figsize=(15, 10))\n",
    "\n",
    "# Plot training data\n",
    "plt.plot(train_data.to_pd(), label='Training Data', color='blue')\n",
    "\n",
    "# Plot test data\n",
    "plt.plot(test_data.to_pd(), label='Test Data', color='green')\n",
    "\n",
    "# Plot ARIMA forecast\n",
    "plt.plot(arima_forecast.to_pd(), label='ARIMA Forecast', color='red', linestyle='--')\n",
    "\n",
    "# Plot Prophet forecast\n",
    "plt.plot(prophet_forecast.to_pd(), label='Prophet Forecast', color='purple', linestyle='--')\n",
    "\n",
    "plt.title('Time Series Forecasting: ARIMA vs Prophet')\n",
    "plt.xlabel('Date')\n",
    "plt.ylabel('Value')\n",
    "plt.legend()\n",
    "plt.grid(True)\n",
    "plt.tight_layout()\n",
    "plt.show()\n",
    "\n",
    "# Print evaluation results\n",
    "print(\"ARIMA Evaluation:\")\n",
    "print(arima_eval)\n",
    "print(\"\\nProphet Evaluation:\")\n",
    "print(prophet_eval)\n"
   ]
  },
  {
   "cell_type": "code",
   "execution_count": 42,
   "id": "65da007a",
   "metadata": {},
   "outputs": [
    {
     "ename": "ModuleNotFoundError",
     "evalue": "No module named 'merlion.ts_datasets'",
     "output_type": "error",
     "traceback": [
      "\u001b[0;31m---------------------------------------------------------------------------\u001b[0m",
      "\u001b[0;31mModuleNotFoundError\u001b[0m                       Traceback (most recent call last)",
      "\u001b[0;32m<ipython-input-42-a0bc581ef8fa>\u001b[0m in \u001b[0;36m<module>\u001b[0;34m\u001b[0m\n\u001b[1;32m      1\u001b[0m \u001b[0;32mfrom\u001b[0m \u001b[0mmerlion\u001b[0m\u001b[0;34m.\u001b[0m\u001b[0mutils\u001b[0m \u001b[0;32mimport\u001b[0m \u001b[0mTimeSeries\u001b[0m\u001b[0;34m\u001b[0m\u001b[0;34m\u001b[0m\u001b[0m\n\u001b[0;32m----> 2\u001b[0;31m \u001b[0;32mfrom\u001b[0m \u001b[0mmerlion\u001b[0m\u001b[0;34m.\u001b[0m\u001b[0mts_datasets\u001b[0m\u001b[0;34m.\u001b[0m\u001b[0mforecast\u001b[0m \u001b[0;32mimport\u001b[0m \u001b[0mM4\u001b[0m\u001b[0;34m\u001b[0m\u001b[0;34m\u001b[0m\u001b[0m\n\u001b[0m\u001b[1;32m      3\u001b[0m \u001b[0;34m\u001b[0m\u001b[0m\n\u001b[1;32m      4\u001b[0m \u001b[0;31m# Data loader returns pandas DataFrames, which we convert to Merlion TimeSeries\u001b[0m\u001b[0;34m\u001b[0m\u001b[0;34m\u001b[0m\u001b[0;34m\u001b[0m\u001b[0m\n\u001b[1;32m      5\u001b[0m \u001b[0mtime_series\u001b[0m\u001b[0;34m,\u001b[0m \u001b[0mmetadata\u001b[0m \u001b[0;34m=\u001b[0m \u001b[0mM4\u001b[0m\u001b[0;34m(\u001b[0m\u001b[0msubset\u001b[0m\u001b[0;34m=\u001b[0m\u001b[0;34m\"Hourly\"\u001b[0m\u001b[0;34m)\u001b[0m\u001b[0;34m[\u001b[0m\u001b[0;36m0\u001b[0m\u001b[0;34m]\u001b[0m\u001b[0;34m\u001b[0m\u001b[0;34m\u001b[0m\u001b[0m\n",
      "\u001b[0;31mModuleNotFoundError\u001b[0m: No module named 'merlion.ts_datasets'"
     ]
    }
   ],
   "source": [
    "from merlion.utils import TimeSeries\n",
    "from merlion.ts_datasets.forecast import M4\n",
    "\n",
    "# Data loader returns pandas DataFrames, which we convert to Merlion TimeSeries\n",
    "time_series, metadata = M4(subset=\"Hourly\")[0]\n",
    "train_data = TimeSeries.from_pd(time_series[metadata.trainval])\n",
    "test_data = TimeSeries.from_pd(time_series[~metadata.trainval])\n",
    "\"\"\"We can then initialize and train Merlion’s DefaultForecaster, which is an forecasting model that balances performance with efficiency. We also obtain its predictions on the test split.\n",
    "\"\"\"\n",
    "from merlion.models.defaults import DefaultForecasterConfig, DefaultForecaster\n",
    "model = DefaultForecaster(DefaultForecasterConfig())\n",
    "model.train(train_data=train_data)\n",
    "test_pred, test_err = model.forecast(time_stamps=test_data.time_stamps)\n",
    "\"\"\"Next, we visualize the model’s predictions.\n",
    "\"\"\"\n",
    "import matplotlib.pyplot as plt\n",
    "fig, ax = model.plot_forecast(time_series=test_data, plot_forecast_uncertainty=True)\n",
    "plt.show()\n",
    "\n",
    "\"\"\"Finally, we quantitatively evaluate the model. sMAPE measures the error of the prediction on a scale of 0 to 100 (lower is better), while MSIS evaluates the quality of the 95% confidence band on a scale of 0 to 100 (lower is better).\n",
    "\"\"\"\n",
    "# Evaluate the model's predictions quantitatively\n",
    "from scipy.stats import norm\n",
    "from merlion.evaluate.forecast import ForecastMetric\n",
    "\n",
    "# Compute the sMAPE of the predictions (0 to 100, smaller is better)\n",
    "smape = ForecastMetric.sMAPE.value(ground_truth=test_data, predict=test_pred)\n",
    "\n",
    "# Compute the MSIS of the model's 95% confidence interval (0 to 100, smaller is better)\n",
    "lb = TimeSeries.from_pd(test_pred.to_pd() + norm.ppf(0.025) * test_err.to_pd().values)\n",
    "ub = TimeSeries.from_pd(test_pred.to_pd() + norm.ppf(0.975) * test_err.to_pd().values)\n",
    "msis = ForecastMetric.MSIS.value(ground_truth=test_data, predict=test_pred,\n",
    "                                 insample=train_data, lb=lb, ub=ub)\n",
    "print(f\"sMAPE: {smape:.4f}, MSIS: {msis:.4f}\")"
   ]
  },
  {
   "cell_type": "code",
   "execution_count": 43,
   "id": "765c1713",
   "metadata": {},
   "outputs": [
    {
     "name": "stdout",
     "output_type": "stream",
     "text": [
      "\u001b[31mERROR: ts_datasets/ is not a valid editable requirement. It should either be a path to a local project or a VCS URL (beginning with bzr+http, bzr+https, bzr+ssh, bzr+sftp, bzr+ftp, bzr+lp, bzr+file, git+http, git+https, git+ssh, git+git, git+file, hg+file, hg+http, hg+https, hg+ssh, hg+static-http, svn+ssh, svn+http, svn+https, svn+svn, svn+file).\u001b[0m\u001b[31m\r\n",
      "\u001b[0m"
     ]
    }
   ],
   "source": [
    "! pip install -e ts_datasets/"
   ]
  },
  {
   "cell_type": "code",
   "execution_count": null,
   "id": "5ed96b40",
   "metadata": {},
   "outputs": [],
   "source": []
  }
 ],
 "metadata": {
  "kernelspec": {
   "display_name": "Python 3",
   "language": "python",
   "name": "python3"
  },
  "language_info": {
   "codemirror_mode": {
    "name": "ipython",
    "version": 3
   },
   "file_extension": ".py",
   "mimetype": "text/x-python",
   "name": "python",
   "nbconvert_exporter": "python",
   "pygments_lexer": "ipython3",
   "version": "3.8.8"
  }
 },
 "nbformat": 4,
 "nbformat_minor": 5
}
