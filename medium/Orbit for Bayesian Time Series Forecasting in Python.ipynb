{
 "cells": [
  {
   "cell_type": "markdown",
   "id": "06876d2e",
   "metadata": {},
   "source": [
    "# Orbit for Bayesian Time Series Forecasting in Python"
   ]
  },
  {
   "cell_type": "code",
   "execution_count": null,
   "id": "0b6f612b",
   "metadata": {},
   "outputs": [
    {
     "name": "stdout",
     "output_type": "stream",
     "text": [
      "Collecting orbit-ml\n",
      "  Using cached orbit-ml-1.1.4.7.tar.gz (447 kB)\n",
      "  Installing build dependencies ... \u001b[?25ldone\n",
      "\u001b[?25h  Getting requirements to build wheel ... \u001b[?25ldone\n",
      "\u001b[?25h  Preparing metadata (pyproject.toml) ... \u001b[?25ldone\n",
      "\u001b[?25hRequirement already satisfied: arviz in /Users/jnesnky/opt/anaconda3/lib/python3.8/site-packages (from orbit-ml) (0.15.1)\n",
      "Collecting cmdstanpy>=1.2.1 (from orbit-ml)\n",
      "  Using cached cmdstanpy-1.2.5-py3-none-any.whl.metadata (4.0 kB)\n",
      "Requirement already satisfied: importlib-resources in /Users/jnesnky/opt/anaconda3/lib/python3.8/site-packages (from orbit-ml) (5.12.0)\n",
      "Requirement already satisfied: matplotlib>=3.3.2 in /Users/jnesnky/opt/anaconda3/lib/python3.8/site-packages (from orbit-ml) (3.6.0)\n",
      "Requirement already satisfied: numpy>=1.18 in /Users/jnesnky/opt/anaconda3/lib/python3.8/site-packages (from orbit-ml) (1.24.4)\n",
      "Requirement already satisfied: pandas>=1.0.3 in /Users/jnesnky/opt/anaconda3/lib/python3.8/site-packages (from orbit-ml) (1.5.3)\n",
      "Collecting pyro-ppl>=1.4.0 (from orbit-ml)\n",
      "  Using cached pyro_ppl-1.9.1-py3-none-any.whl.metadata (7.8 kB)\n",
      "Requirement already satisfied: scipy>=1.4.1 in /Users/jnesnky/opt/anaconda3/lib/python3.8/site-packages (from orbit-ml) (1.10.1)\n",
      "Requirement already satisfied: seaborn>=0.10.0 in /Users/jnesnky/opt/anaconda3/lib/python3.8/site-packages (from orbit-ml) (0.11.1)\n",
      "Requirement already satisfied: statsmodels>=0.11.1 in /Users/jnesnky/opt/anaconda3/lib/python3.8/site-packages (from orbit-ml) (0.14.0)\n",
      "Requirement already satisfied: torch>=1.11.0 in /Users/jnesnky/opt/anaconda3/lib/python3.8/site-packages (from orbit-ml) (2.2.2)\n",
      "Requirement already satisfied: tqdm>=4.36.1 in /Users/jnesnky/opt/anaconda3/lib/python3.8/site-packages (from orbit-ml) (4.67.1)\n",
      "Collecting stanio<2.0.0,>=0.4.0 (from cmdstanpy>=1.2.1->orbit-ml)\n",
      "  Using cached stanio-0.5.1-py3-none-any.whl.metadata (1.6 kB)\n",
      "Requirement already satisfied: contourpy>=1.0.1 in /Users/jnesnky/opt/anaconda3/lib/python3.8/site-packages (from matplotlib>=3.3.2->orbit-ml) (1.1.1)\n",
      "Requirement already satisfied: cycler>=0.10 in /Users/jnesnky/opt/anaconda3/lib/python3.8/site-packages (from matplotlib>=3.3.2->orbit-ml) (0.10.0)\n",
      "Requirement already satisfied: fonttools>=4.22.0 in /Users/jnesnky/opt/anaconda3/lib/python3.8/site-packages (from matplotlib>=3.3.2->orbit-ml) (4.55.0)\n",
      "Requirement already satisfied: kiwisolver>=1.0.1 in /Users/jnesnky/opt/anaconda3/lib/python3.8/site-packages (from matplotlib>=3.3.2->orbit-ml) (1.3.1)\n",
      "Requirement already satisfied: packaging>=20.0 in /Users/jnesnky/opt/anaconda3/lib/python3.8/site-packages (from matplotlib>=3.3.2->orbit-ml) (23.2)\n",
      "Requirement already satisfied: pillow>=6.2.0 in /Users/jnesnky/opt/anaconda3/lib/python3.8/site-packages (from matplotlib>=3.3.2->orbit-ml) (8.2.0)\n",
      "Requirement already satisfied: pyparsing>=2.2.1 in /Users/jnesnky/opt/anaconda3/lib/python3.8/site-packages (from matplotlib>=3.3.2->orbit-ml) (2.4.7)\n",
      "Requirement already satisfied: python-dateutil>=2.7 in /Users/jnesnky/opt/anaconda3/lib/python3.8/site-packages (from matplotlib>=3.3.2->orbit-ml) (2.8.2)\n",
      "Requirement already satisfied: pytz>=2020.1 in /Users/jnesnky/opt/anaconda3/lib/python3.8/site-packages (from pandas>=1.0.3->orbit-ml) (2024.1)\n",
      "Requirement already satisfied: opt-einsum>=2.3.2 in /Users/jnesnky/opt/anaconda3/lib/python3.8/site-packages (from pyro-ppl>=1.4.0->orbit-ml) (3.4.0)\n",
      "Collecting pyro-api>=0.1.1 (from pyro-ppl>=1.4.0->orbit-ml)\n",
      "  Using cached pyro_api-0.1.2-py3-none-any.whl.metadata (2.5 kB)\n",
      "Requirement already satisfied: patsy>=0.5.2 in /Users/jnesnky/opt/anaconda3/lib/python3.8/site-packages (from statsmodels>=0.11.1->orbit-ml) (0.5.4)\n",
      "Requirement already satisfied: filelock in /Users/jnesnky/opt/anaconda3/lib/python3.8/site-packages (from torch>=1.11.0->orbit-ml) (3.13.1)\n",
      "Collecting typing-extensions>=4.8.0 (from torch>=1.11.0->orbit-ml)\n",
      "  Using cached typing_extensions-4.12.2-py3-none-any.whl.metadata (3.0 kB)\n",
      "Requirement already satisfied: sympy in /Users/jnesnky/opt/anaconda3/lib/python3.8/site-packages (from torch>=1.11.0->orbit-ml) (1.8)\n",
      "Requirement already satisfied: networkx in /Users/jnesnky/opt/anaconda3/lib/python3.8/site-packages (from torch>=1.11.0->orbit-ml) (2.5)\n",
      "Requirement already satisfied: jinja2 in /Users/jnesnky/opt/anaconda3/lib/python3.8/site-packages (from torch>=1.11.0->orbit-ml) (3.0.1)\n",
      "Requirement already satisfied: fsspec in /Users/jnesnky/opt/anaconda3/lib/python3.8/site-packages (from torch>=1.11.0->orbit-ml) (2024.12.0)\n",
      "Requirement already satisfied: setuptools>=60.0.0 in /Users/jnesnky/opt/anaconda3/lib/python3.8/site-packages (from arviz->orbit-ml) (75.3.0)\n",
      "Requirement already satisfied: xarray>=0.21.0 in /Users/jnesnky/opt/anaconda3/lib/python3.8/site-packages (from arviz->orbit-ml) (2023.1.0)\n",
      "Requirement already satisfied: h5netcdf>=1.0.2 in /Users/jnesnky/opt/anaconda3/lib/python3.8/site-packages (from arviz->orbit-ml) (1.1.0)\n",
      "Requirement already satisfied: xarray-einstats>=0.3 in /Users/jnesnky/opt/anaconda3/lib/python3.8/site-packages (from arviz->orbit-ml) (0.5.1)\n",
      "Requirement already satisfied: zipp>=3.1.0 in /Users/jnesnky/opt/anaconda3/lib/python3.8/site-packages (from importlib-resources->orbit-ml) (3.20.2)\n",
      "Requirement already satisfied: six in /Users/jnesnky/opt/anaconda3/lib/python3.8/site-packages (from cycler>=0.10->matplotlib>=3.3.2->orbit-ml) (1.14.0)\n",
      "Requirement already satisfied: h5py in /Users/jnesnky/opt/anaconda3/lib/python3.8/site-packages (from h5netcdf>=1.0.2->arviz->orbit-ml) (2.10.0)\n",
      "Requirement already satisfied: MarkupSafe>=2.0 in /Users/jnesnky/opt/anaconda3/lib/python3.8/site-packages (from jinja2->torch>=1.11.0->orbit-ml) (2.0.1)\n",
      "Requirement already satisfied: decorator>=4.3.0 in /Users/jnesnky/opt/anaconda3/lib/python3.8/site-packages (from networkx->torch>=1.11.0->orbit-ml) (5.0.6)\n",
      "Requirement already satisfied: mpmath>=0.19 in /Users/jnesnky/opt/anaconda3/lib/python3.8/site-packages (from sympy->torch>=1.11.0->orbit-ml) (1.2.1)\n",
      "Using cached cmdstanpy-1.2.5-py3-none-any.whl (94 kB)\n",
      "Using cached pyro_ppl-1.9.1-py3-none-any.whl (755 kB)\n",
      "Using cached pyro_api-0.1.2-py3-none-any.whl (11 kB)\n",
      "Using cached stanio-0.5.1-py3-none-any.whl (8.1 kB)\n",
      "Using cached typing_extensions-4.12.2-py3-none-any.whl (37 kB)\n",
      "Building wheels for collected packages: orbit-ml\n",
      "  Building wheel for orbit-ml (pyproject.toml) ... \u001b[?25lerror\n"
     ]
    }
   ],
   "source": [
    "!pip install orbit-ml"
   ]
  },
  {
   "cell_type": "code",
   "execution_count": 4,
   "id": "1f1b91a8",
   "metadata": {},
   "outputs": [
    {
     "ename": "ModuleNotFoundError",
     "evalue": "No module named 'orbit'",
     "output_type": "error",
     "traceback": [
      "\u001b[0;31m---------------------------------------------------------------------------\u001b[0m",
      "\u001b[0;31mModuleNotFoundError\u001b[0m                       Traceback (most recent call last)",
      "\u001b[0;32m<ipython-input-4-66a9ed26ce16>\u001b[0m in \u001b[0;36m<module>\u001b[0;34m\u001b[0m\n\u001b[1;32m      1\u001b[0m \u001b[0;32mimport\u001b[0m \u001b[0mpandas\u001b[0m \u001b[0;32mas\u001b[0m \u001b[0mpd\u001b[0m\u001b[0;34m\u001b[0m\u001b[0;34m\u001b[0m\u001b[0m\n\u001b[0;32m----> 2\u001b[0;31m \u001b[0;32mfrom\u001b[0m \u001b[0morbit\u001b[0m\u001b[0;34m.\u001b[0m\u001b[0mutils\u001b[0m\u001b[0;34m.\u001b[0m\u001b[0mdataset\u001b[0m \u001b[0;32mimport\u001b[0m \u001b[0mload_iclaims\u001b[0m\u001b[0;34m\u001b[0m\u001b[0;34m\u001b[0m\u001b[0m\n\u001b[0m\u001b[1;32m      3\u001b[0m \u001b[0;34m\u001b[0m\u001b[0m\n\u001b[1;32m      4\u001b[0m \u001b[0;31m# Load sample data\u001b[0m\u001b[0;34m\u001b[0m\u001b[0;34m\u001b[0m\u001b[0;34m\u001b[0m\u001b[0m\n\u001b[1;32m      5\u001b[0m \u001b[0mdata\u001b[0m \u001b[0;34m=\u001b[0m \u001b[0mload_iclaims\u001b[0m\u001b[0;34m(\u001b[0m\u001b[0;34m)\u001b[0m\u001b[0;34m\u001b[0m\u001b[0;34m\u001b[0m\u001b[0m\n",
      "\u001b[0;31mModuleNotFoundError\u001b[0m: No module named 'orbit'"
     ]
    }
   ],
   "source": [
    "import pandas as pd\n",
    "from orbit.utils.dataset import load_iclaims\n",
    "\n",
    "# Load sample data\n",
    "data = load_iclaims()\n",
    "data[\"week\"] = pd.to_datetime(data[\"week\"])\n",
    "data = data.rename(columns={\"week\": \"date\", \"claims\": \"value\"})\n",
    "\n",
    "print(data.head())"
   ]
  },
  {
   "cell_type": "code",
   "execution_count": null,
   "id": "97f14b36",
   "metadata": {},
   "outputs": [],
   "source": [
    "from orbit.models import DLT\n",
    "from orbit.diagnostics.plot import plot_predicted_data\n",
    "\n",
    "# Initialize the DLT model\n",
    "model = DLT(\n",
    "    response_col=\"value\",\n",
    "    date_col=\"date\",\n",
    "    seasonality=52,  # Weekly seasonality\n",
    ")\n",
    "\n",
    "# Fit the model\n",
    "model.fit(train_df=data)"
   ]
  },
  {
   "cell_type": "code",
   "execution_count": null,
   "id": "a0319f0d",
   "metadata": {},
   "outputs": [],
   "source": [
    "# Predict future values\n",
    "predictions = model.predict(df=data)\n",
    "\n",
    "# Plot the predicted data\n",
    "plot_predicted_data(data, predictions, date_col=\"date\", actual_col=\"value\", pred_col=\"prediction\")\n",
    "\n"
   ]
  },
  {
   "cell_type": "code",
   "execution_count": null,
   "id": "9bd3058b",
   "metadata": {},
   "outputs": [],
   "source": [
    "# Extract prediction intervals\n",
    "predictions[[\"prediction\", \"prediction_5\", \"prediction_95\"]].head()"
   ]
  },
  {
   "cell_type": "code",
   "execution_count": null,
   "id": "7fbe7117",
   "metadata": {},
   "outputs": [],
   "source": [
    "# Initialize a model with custom parameters\n",
    "model = DLT(\n",
    "    response_col=\"value\",\n",
    "    date_col=\"date\",\n",
    "    seasonality=52,\n",
    "    damped=True,  # Damped trend\n",
    ")\n",
    "model.fit(train_df=data)"
   ]
  },
  {
   "cell_type": "code",
   "execution_count": null,
   "id": "f8597f4e",
   "metadata": {},
   "outputs": [],
   "source": [
    "from orbit.models import KTR\n",
    "\n",
    "# Use Kernel Trend Regression (KTR) with custom priors\n",
    "model = KTR(\n",
    "    response_col=\"value\",\n",
    "    date_col=\"date\",\n",
    "    seasonality=52,\n",
    "    level_knot_prior=0.5,\n",
    ")\n",
    "model.fit(train_df=data)"
   ]
  },
  {
   "cell_type": "code",
   "execution_count": null,
   "id": "7403ae90",
   "metadata": {},
   "outputs": [],
   "source": [
    "from orbit.diagnostics.metrics import smape, rmse\n",
    "\n",
    "# Calculate SMAPE and RMSE\n",
    "true_values = data[\"value\"]\n",
    "predicted_values = predictions[\"prediction\"]\n",
    "print(\"SMAPE:\", smape(true_values, predicted_values))\n",
    "print(\"RMSE:\", rmse(true_values, predicted_values))"
   ]
  },
  {
   "cell_type": "code",
   "execution_count": null,
   "id": "fd9211cd",
   "metadata": {},
   "outputs": [],
   "source": [
    "# Add external regressors (e.g., economic indicators)\n",
    "data[\"recession\"] = [1 if x % 12 < 3 else 0 for x in range(len(data))]  # Simulated example\n",
    "\n",
    "# Initialize the model with regressors\n",
    "model = DLT(\n",
    "    response_col=\"value\",\n",
    "    date_col=\"date\",\n",
    "    seasonality=52,\n",
    "    regressor_col=[\"recession\"]\n",
    ")\n",
    "model.fit(train_df=data)"
   ]
  }
 ],
 "metadata": {
  "kernelspec": {
   "display_name": "Python 3",
   "language": "python",
   "name": "python3"
  },
  "language_info": {
   "codemirror_mode": {
    "name": "ipython",
    "version": 3
   },
   "file_extension": ".py",
   "mimetype": "text/x-python",
   "name": "python",
   "nbconvert_exporter": "python",
   "pygments_lexer": "ipython3",
   "version": "3.8.8"
  }
 },
 "nbformat": 4,
 "nbformat_minor": 5
}
