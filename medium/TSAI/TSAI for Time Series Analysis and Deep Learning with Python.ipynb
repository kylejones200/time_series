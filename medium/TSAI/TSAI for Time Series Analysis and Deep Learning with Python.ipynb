{
 "cells": [
  {
   "cell_type": "markdown",
   "id": "c16e6721",
   "metadata": {},
   "source": [
    "# TSAI for Time Series Analysis and Deep Learning with Python"
   ]
  },
  {
   "cell_type": "code",
   "execution_count": 1,
   "id": "f5a25641",
   "metadata": {},
   "outputs": [
    {
     "name": "stdout",
     "output_type": "stream",
     "text": [
      "Collecting tsai==0.3.7\n",
      "  Downloading tsai-0.3.7-py3-none-any.whl.metadata (16 kB)\n",
      "Collecting fastai>=2.7.12 (from tsai==0.3.7)\n",
      "  Using cached fastai-2.7.18-py3-none-any.whl.metadata (9.1 kB)\n",
      "Collecting pyts>=0.12.0 (from tsai==0.3.7)\n",
      "  Using cached pyts-0.13.0-py3-none-any.whl.metadata (10 kB)\n",
      "Requirement already satisfied: imbalanced-learn>=0.8.0 in /Users/jnesnky/opt/anaconda3/lib/python3.8/site-packages (from tsai==0.3.7) (0.9.1)\n",
      "Requirement already satisfied: psutil>=5.4.8 in /Users/jnesnky/opt/anaconda3/lib/python3.8/site-packages (from tsai==0.3.7) (6.1.1)\n",
      "Collecting scikit-learn<1.3,>=1.2 (from tsai==0.3.7)\n",
      "  Downloading scikit_learn-1.2.2-cp38-cp38-macosx_10_9_x86_64.whl.metadata (11 kB)\n",
      "Collecting torch<2.1,>=1.7 (from tsai==0.3.7)\n",
      "  Downloading torch-2.0.1-cp38-none-macosx_10_9_x86_64.whl.metadata (23 kB)\n",
      "Requirement already satisfied: pip in /Users/jnesnky/opt/anaconda3/lib/python3.8/site-packages (from fastai>=2.7.12->tsai==0.3.7) (21.0.1)\n",
      "Requirement already satisfied: packaging in /Users/jnesnky/opt/anaconda3/lib/python3.8/site-packages (from fastai>=2.7.12->tsai==0.3.7) (23.2)\n",
      "Collecting fastdownload<2,>=0.0.5 (from fastai>=2.7.12->tsai==0.3.7)\n",
      "  Using cached fastdownload-0.0.7-py3-none-any.whl.metadata (5.5 kB)\n",
      "Collecting fastcore<1.8,>=1.5.29 (from fastai>=2.7.12->tsai==0.3.7)\n",
      "  Using cached fastcore-1.7.20-py3-none-any.whl.metadata (3.5 kB)\n",
      "Collecting torchvision>=0.11 (from fastai>=2.7.12->tsai==0.3.7)\n",
      "  Using cached torchvision-0.17.2-cp38-cp38-macosx_10_13_x86_64.whl.metadata (6.6 kB)\n",
      "Requirement already satisfied: matplotlib in /Users/jnesnky/opt/anaconda3/lib/python3.8/site-packages (from fastai>=2.7.12->tsai==0.3.7) (3.6.0)\n",
      "Requirement already satisfied: pandas in /Users/jnesnky/opt/anaconda3/lib/python3.8/site-packages (from fastai>=2.7.12->tsai==0.3.7) (1.5.3)\n",
      "Requirement already satisfied: requests in /Users/jnesnky/opt/anaconda3/lib/python3.8/site-packages (from fastai>=2.7.12->tsai==0.3.7) (2.31.0)\n",
      "Requirement already satisfied: pyyaml in /Users/jnesnky/opt/anaconda3/lib/python3.8/site-packages (from fastai>=2.7.12->tsai==0.3.7) (6.0.2)\n",
      "Requirement already satisfied: fastprogress>=0.2.4 in /Users/jnesnky/opt/anaconda3/lib/python3.8/site-packages (from fastai>=2.7.12->tsai==0.3.7) (1.0.3)\n",
      "Collecting pillow>=9.0.0 (from fastai>=2.7.12->tsai==0.3.7)\n",
      "  Using cached pillow-10.4.0-cp38-cp38-macosx_10_10_x86_64.whl.metadata (9.2 kB)\n",
      "Requirement already satisfied: scipy in /Users/jnesnky/opt/anaconda3/lib/python3.8/site-packages (from fastai>=2.7.12->tsai==0.3.7) (1.10.1)\n",
      "Collecting spacy<4 (from fastai>=2.7.12->tsai==0.3.7)\n",
      "  Using cached spacy-3.8.2.tar.gz (1.3 MB)\n",
      "  Installing build dependencies ... \u001b[?25lerror\n",
      "  \u001b[1;31merror\u001b[0m: \u001b[1msubprocess-exited-with-error\u001b[0m\n",
      "  \n",
      "  \u001b[31m×\u001b[0m \u001b[32mpip subprocess to install build dependencies\u001b[0m did not run successfully.\n",
      "  \u001b[31m│\u001b[0m exit code: \u001b[1;36m1\u001b[0m\n",
      "  \u001b[31m╰─>\u001b[0m \u001b[31m[92 lines of output]\u001b[0m\n",
      "  \u001b[31m   \u001b[0m Ignoring numpy: markers 'python_version >= \"3.9\"' don't match your environment\n",
      "  \u001b[31m   \u001b[0m Collecting setuptools\n",
      "  \u001b[31m   \u001b[0m   Using cached setuptools-75.3.0-py3-none-any.whl.metadata (6.9 kB)\n",
      "  \u001b[31m   \u001b[0m Collecting cython<3.0,>=0.25\n",
      "  \u001b[31m   \u001b[0m   Using cached Cython-0.29.37-py2.py3-none-any.whl.metadata (3.1 kB)\n",
      "  \u001b[31m   \u001b[0m Collecting cymem<2.1.0,>=2.0.2\n",
      "  \u001b[31m   \u001b[0m   Using cached cymem-2.0.10.tar.gz (10 kB)\n",
      "  \u001b[31m   \u001b[0m   Installing build dependencies: started\n",
      "  \u001b[31m   \u001b[0m   Installing build dependencies: finished with status 'done'\n",
      "  \u001b[31m   \u001b[0m   Getting requirements to build wheel: started\n",
      "  \u001b[31m   \u001b[0m   Getting requirements to build wheel: finished with status 'done'\n",
      "  \u001b[31m   \u001b[0m   Preparing metadata (pyproject.toml): started\n",
      "  \u001b[31m   \u001b[0m   Preparing metadata (pyproject.toml): finished with status 'done'\n",
      "  \u001b[31m   \u001b[0m Collecting preshed<3.1.0,>=3.0.2\n",
      "  \u001b[31m   \u001b[0m   Using cached preshed-3.0.9-cp38-cp38-macosx_10_9_x86_64.whl.metadata (2.2 kB)\n",
      "  \u001b[31m   \u001b[0m Collecting murmurhash<1.1.0,>=0.28.0\n",
      "  \u001b[31m   \u001b[0m   Using cached murmurhash-1.0.11.tar.gz (13 kB)\n",
      "  \u001b[31m   \u001b[0m   Installing build dependencies: started\n",
      "  \u001b[31m   \u001b[0m   Installing build dependencies: finished with status 'done'\n",
      "  \u001b[31m   \u001b[0m   Getting requirements to build wheel: started\n",
      "  \u001b[31m   \u001b[0m   Getting requirements to build wheel: finished with status 'done'\n",
      "  \u001b[31m   \u001b[0m   Preparing metadata (pyproject.toml): started\n",
      "  \u001b[31m   \u001b[0m   Preparing metadata (pyproject.toml): finished with status 'done'\n",
      "  \u001b[31m   \u001b[0m Collecting thinc<8.4.0,>=8.3.0\n",
      "  \u001b[31m   \u001b[0m   Using cached thinc-8.3.2.tar.gz (193 kB)\n",
      "  \u001b[31m   \u001b[0m   Installing build dependencies: started\n",
      "  \u001b[31m   \u001b[0m   Installing build dependencies: still running...\n",
      "  \u001b[31m   \u001b[0m   Installing build dependencies: finished with status 'error'\n",
      "  \u001b[31m   \u001b[0m   error: subprocess-exited-with-error\n",
      "  \u001b[31m   \u001b[0m \n",
      "  \u001b[31m   \u001b[0m   × pip subprocess to install build dependencies did not run successfully.\n",
      "  \u001b[31m   \u001b[0m   │ exit code: 1\n",
      "  \u001b[31m   \u001b[0m   ╰─> [49 lines of output]\n",
      "  \u001b[31m   \u001b[0m       Ignoring numpy: markers 'python_version >= \"3.9\"' don't match your environment\n",
      "  \u001b[31m   \u001b[0m       Collecting setuptools\n",
      "  \u001b[31m   \u001b[0m         Using cached setuptools-75.3.0-py3-none-any.whl.metadata (6.9 kB)\n",
      "  \u001b[31m   \u001b[0m       Collecting cython<3.0,>=0.25\n",
      "  \u001b[31m   \u001b[0m         Using cached Cython-0.29.37-py2.py3-none-any.whl.metadata (3.1 kB)\n",
      "  \u001b[31m   \u001b[0m       Collecting murmurhash<1.1.0,>=1.0.2\n",
      "  \u001b[31m   \u001b[0m         Using cached murmurhash-1.0.11.tar.gz (13 kB)\n",
      "  \u001b[31m   \u001b[0m         Installing build dependencies: started\n",
      "  \u001b[31m   \u001b[0m         Installing build dependencies: finished with status 'done'\n",
      "  \u001b[31m   \u001b[0m         Getting requirements to build wheel: started\n",
      "  \u001b[31m   \u001b[0m         Getting requirements to build wheel: finished with status 'done'\n",
      "  \u001b[31m   \u001b[0m         Preparing metadata (pyproject.toml): started\n",
      "  \u001b[31m   \u001b[0m         Preparing metadata (pyproject.toml): finished with status 'done'\n",
      "  \u001b[31m   \u001b[0m       Collecting cymem<2.1.0,>=2.0.2\n",
      "  \u001b[31m   \u001b[0m         Using cached cymem-2.0.10.tar.gz (10 kB)\n",
      "  \u001b[31m   \u001b[0m         Installing build dependencies: started\n",
      "  \u001b[31m   \u001b[0m         Installing build dependencies: finished with status 'done'\n",
      "  \u001b[31m   \u001b[0m         Getting requirements to build wheel: started\n",
      "  \u001b[31m   \u001b[0m         Getting requirements to build wheel: finished with status 'done'\n",
      "  \u001b[31m   \u001b[0m         Preparing metadata (pyproject.toml): started\n",
      "  \u001b[31m   \u001b[0m         Preparing metadata (pyproject.toml): finished with status 'done'\n",
      "  \u001b[31m   \u001b[0m       Collecting preshed<3.1.0,>=3.0.2\n",
      "  \u001b[31m   \u001b[0m         Using cached preshed-3.0.9-cp38-cp38-macosx_10_9_x86_64.whl.metadata (2.2 kB)\n",
      "  \u001b[31m   \u001b[0m       Collecting blis<1.1.0,>=1.0.0\n",
      "  \u001b[31m   \u001b[0m         Using cached blis-1.0.2.tar.gz (3.6 MB)\n",
      "  \u001b[31m   \u001b[0m         Installing build dependencies: started\n",
      "  \u001b[31m   \u001b[0m         Installing build dependencies: finished with status 'error'\n",
      "  \u001b[31m   \u001b[0m         error: subprocess-exited-with-error\n",
      "  \u001b[31m   \u001b[0m \n",
      "  \u001b[31m   \u001b[0m         × pip subprocess to install build dependencies did not run successfully.\n",
      "  \u001b[31m   \u001b[0m         │ exit code: 1\n",
      "  \u001b[31m   \u001b[0m         ╰─> [7 lines of output]\n",
      "  \u001b[31m   \u001b[0m             Collecting setuptools\n",
      "  \u001b[31m   \u001b[0m               Using cached setuptools-75.3.0-py3-none-any.whl.metadata (6.9 kB)\n",
      "  \u001b[31m   \u001b[0m             Collecting cython>=0.25\n",
      "  \u001b[31m   \u001b[0m               Using cached Cython-3.0.11-cp38-cp38-macosx_10_9_x86_64.whl.metadata (3.2 kB)\n",
      "  \u001b[31m   \u001b[0m             ERROR: Ignored the following versions that require a different python version: 1.25.0 Requires-Python >=3.9; 1.25.1 Requires-Python >=3.9; 1.25.2 Requires-Python >=3.9; 1.26.0 Requires-Python <3.13,>=3.9; 1.26.1 Requires-Python <3.13,>=3.9; 1.26.2 Requires-Python >=3.9; 1.26.3 Requires-Python >=3.9; 1.26.4 Requires-Python >=3.9; 2.0.0 Requires-Python >=3.9; 2.0.1 Requires-Python >=3.9; 2.0.2 Requires-Python >=3.9; 2.1.0 Requires-Python >=3.10; 2.1.0rc1 Requires-Python >=3.10; 2.1.1 Requires-Python >=3.10; 2.1.2 Requires-Python >=3.10; 2.1.3 Requires-Python >=3.10; 2.2.0 Requires-Python >=3.10; 2.2.0rc1 Requires-Python >=3.10; 2.2.1 Requires-Python >=3.10; 75.4.0 Requires-Python >=3.9; 75.5.0 Requires-Python >=3.9; 75.6.0 Requires-Python >=3.9; 75.7.0 Requires-Python >=3.9; 75.8.0 Requires-Python >=3.9\n",
      "  \u001b[31m   \u001b[0m             ERROR: Could not find a version that satisfies the requirement numpy<3.0.0,>=2.0.0 (from versions: 1.3.0, 1.4.1, 1.5.0, 1.5.1, 1.6.0, 1.6.1, 1.6.2, 1.7.0, 1.7.1, 1.7.2, 1.8.0, 1.8.1, 1.8.2, 1.9.0, 1.9.1, 1.9.2, 1.9.3, 1.10.0.post2, 1.10.1, 1.10.2, 1.10.4, 1.11.0, 1.11.1, 1.11.2, 1.11.3, 1.12.0, 1.12.1, 1.13.0, 1.13.1, 1.13.3, 1.14.0, 1.14.1, 1.14.2, 1.14.3, 1.14.4, 1.14.5, 1.14.6, 1.15.0, 1.15.1, 1.15.2, 1.15.3, 1.15.4, 1.16.0, 1.16.1, 1.16.2, 1.16.3, 1.16.4, 1.16.5, 1.16.6, 1.17.0, 1.17.1, 1.17.2, 1.17.3, 1.17.4, 1.17.5, 1.18.0, 1.18.1, 1.18.2, 1.18.3, 1.18.4, 1.18.5, 1.19.0, 1.19.1, 1.19.2, 1.19.3, 1.19.4, 1.19.5, 1.20.0, 1.20.1, 1.20.2, 1.20.3, 1.21.0, 1.21.1, 1.21.2, 1.21.3, 1.21.4, 1.21.5, 1.21.6, 1.22.0, 1.22.1, 1.22.2, 1.22.3, 1.22.4, 1.23.0, 1.23.1, 1.23.2, 1.23.3, 1.23.4, 1.23.5, 1.24.0, 1.24.1, 1.24.2, 1.24.3, 1.24.4)\n",
      "  \u001b[31m   \u001b[0m             ERROR: No matching distribution found for numpy<3.0.0,>=2.0.0\n",
      "  \u001b[31m   \u001b[0m             [end of output]\n",
      "  \u001b[31m   \u001b[0m \n",
      "  \u001b[31m   \u001b[0m         note: This error originates from a subprocess, and is likely not a problem with pip.\n",
      "  \u001b[31m   \u001b[0m       error: subprocess-exited-with-error\n",
      "  \u001b[31m   \u001b[0m \n",
      "  \u001b[31m   \u001b[0m       × pip subprocess to install build dependencies did not run successfully.\n",
      "  \u001b[31m   \u001b[0m       │ exit code: 1\n",
      "  \u001b[31m   \u001b[0m       ╰─> See above for output.\n",
      "  \u001b[31m   \u001b[0m \n",
      "  \u001b[31m   \u001b[0m       note: This error originates from a subprocess, and is likely not a problem with pip.\n",
      "  \u001b[31m   \u001b[0m       [end of output]\n",
      "  \u001b[31m   \u001b[0m \n",
      "  \u001b[31m   \u001b[0m   note: This error originates from a subprocess, and is likely not a problem with pip.\n",
      "  \u001b[31m   \u001b[0m error: subprocess-exited-with-error\n",
      "  \u001b[31m   \u001b[0m \n",
      "  \u001b[31m   \u001b[0m × pip subprocess to install build dependencies did not run successfully.\n",
      "  \u001b[31m   \u001b[0m │ exit code: 1\n",
      "  \u001b[31m   \u001b[0m ╰─> See above for output.\n",
      "  \u001b[31m   \u001b[0m \n",
      "  \u001b[31m   \u001b[0m note: This error originates from a subprocess, and is likely not a problem with pip.\n",
      "  \u001b[31m   \u001b[0m \u001b[31m[end of output]\u001b[0m\n",
      "  \n",
      "  \u001b[1;35mnote\u001b[0m: This error originates from a subprocess, and is likely not a problem with pip.\n",
      "\u001b[1;31merror\u001b[0m: \u001b[1msubprocess-exited-with-error\u001b[0m\n",
      "\n",
      "\u001b[31m×\u001b[0m \u001b[32mpip subprocess to install build dependencies\u001b[0m did not run successfully.\n",
      "\u001b[31m│\u001b[0m exit code: \u001b[1;36m1\u001b[0m\n",
      "\u001b[31m╰─>\u001b[0m See above for output.\n",
      "\n",
      "\u001b[1;35mnote\u001b[0m: This error originates from a subprocess, and is likely not a problem with pip.\n"
     ]
    },
    {
     "name": "stdout",
     "output_type": "stream",
     "text": [
      "\u001b[?25h"
     ]
    }
   ],
   "source": [
    "! pip install tsai==0.3.7"
   ]
  },
  {
   "cell_type": "code",
   "execution_count": 2,
   "id": "0d632293",
   "metadata": {},
   "outputs": [
    {
     "ename": "ModuleNotFoundError",
     "evalue": "No module named 'tsai'",
     "output_type": "error",
     "traceback": [
      "\u001b[0;31m---------------------------------------------------------------------------\u001b[0m",
      "\u001b[0;31mModuleNotFoundError\u001b[0m                       Traceback (most recent call last)",
      "\u001b[0;32m<ipython-input-2-1eb9e05db09e>\u001b[0m in \u001b[0;36m<module>\u001b[0;34m\u001b[0m\n\u001b[0;32m----> 1\u001b[0;31m \u001b[0;32mfrom\u001b[0m \u001b[0mtsai\u001b[0m\u001b[0;34m.\u001b[0m\u001b[0mdata\u001b[0m \u001b[0;32mimport\u001b[0m \u001b[0mget_UCR_data\u001b[0m\u001b[0;34m\u001b[0m\u001b[0;34m\u001b[0m\u001b[0m\n\u001b[0m\u001b[1;32m      2\u001b[0m \u001b[0;31m# Download and load the ArrowHead dataset\u001b[0m\u001b[0;34m\u001b[0m\u001b[0;34m\u001b[0m\u001b[0;34m\u001b[0m\u001b[0m\n\u001b[1;32m      3\u001b[0m \u001b[0mX\u001b[0m\u001b[0;34m,\u001b[0m \u001b[0my\u001b[0m\u001b[0;34m,\u001b[0m \u001b[0msplits\u001b[0m \u001b[0;34m=\u001b[0m \u001b[0mget_UCR_data\u001b[0m\u001b[0;34m(\u001b[0m\u001b[0;34m\"ArrowHead\"\u001b[0m\u001b[0;34m,\u001b[0m \u001b[0msplit_data\u001b[0m\u001b[0;34m=\u001b[0m\u001b[0;32mTrue\u001b[0m\u001b[0;34m)\u001b[0m\u001b[0;34m\u001b[0m\u001b[0;34m\u001b[0m\u001b[0m\n\u001b[1;32m      4\u001b[0m \u001b[0mprint\u001b[0m\u001b[0;34m(\u001b[0m\u001b[0mX\u001b[0m\u001b[0;34m.\u001b[0m\u001b[0mshape\u001b[0m\u001b[0;34m,\u001b[0m \u001b[0my\u001b[0m\u001b[0;34m.\u001b[0m\u001b[0mshape\u001b[0m\u001b[0;34m)\u001b[0m  \u001b[0;31m# (Samples, Timesteps, Features)\u001b[0m\u001b[0;34m\u001b[0m\u001b[0;34m\u001b[0m\u001b[0m\n",
      "\u001b[0;31mModuleNotFoundError\u001b[0m: No module named 'tsai'"
     ]
    }
   ],
   "source": [
    "from tsai.data import get_UCR_data\n",
    "# Download and load the ArrowHead dataset\n",
    "X, y, splits = get_UCR_data(\"ArrowHead\", split_data=True)\n",
    "print(X.shape, y.shape)  # (Samples, Timesteps, Features)"
   ]
  },
  {
   "cell_type": "code",
   "execution_count": null,
   "id": "c09da60f",
   "metadata": {},
   "outputs": [],
   "source": [
    "from tsai.data import TSDataLoaders\n",
    "# Create DataLoaders for training and validation\n",
    "dls = TSDataLoaders.from_dsets(X[splits[0]], y[splits[0]], X[splits[1]], y[splits[1]])"
   ]
  },
  {
   "cell_type": "code",
   "execution_count": null,
   "id": "b0a065d9",
   "metadata": {},
   "outputs": [],
   "source": [
    "from tsai.models import InceptionTime\n",
    "from tsai.learner import TSClassifier\n",
    "# Initialize the model and learner\n",
    "model = InceptionTime(dls.vars, dls.c)\n",
    "learn = TSClassifier(dls, model)\n",
    "# Train the model\n",
    "learn.fit_one_cycle(10, 1e-3)"
   ]
  },
  {
   "cell_type": "code",
   "execution_count": null,
   "id": "d52bc318",
   "metadata": {},
   "outputs": [],
   "source": [
    "\n",
    "# Plot training metrics\n",
    "learn.plot_metrics()\n",
    "# Predict on validation set\n",
    "val_preds, val_targets = learn.get_preds()\n",
    "\n"
   ]
  },
  {
   "cell_type": "code",
   "execution_count": null,
   "id": "76914810",
   "metadata": {},
   "outputs": [],
   "source": [
    "import numpy as np\n",
    "from tsai.data import get_synthetic_data\n",
    "# Generate synthetic regression data\n",
    "X, y, splits = get_synthetic_data(n_samples=100, n_timesteps=50, task=\"regression\")\n",
    "Train a Regression Model\n",
    "from tsai.learner import TSRegressor\n",
    "from tsai.models import TST\n",
    "# Create DataLoaders\n",
    "dls = TSDataLoaders.from_dsets(X[splits[0]], y[splits[0]], X[splits[1]], y[splits[1]])\n",
    "# Train a TST model (Transformer for time series)\n",
    "model = TST(dls.vars, dls.c, seq_len=dls.len)\n",
    "learn = TSRegressor(dls, model)\n",
    "learn.fit_one_cycle(10, 1e-3)"
   ]
  },
  {
   "cell_type": "code",
   "execution_count": null,
   "id": "a59f03be",
   "metadata": {},
   "outputs": [],
   "source": [
    "\n",
    "from tsai.data import get_synthetic_data\n",
    "# Generate synthetic forecasting data\n",
    "X, y, splits = get_synthetic_data(n_samples=200, n_timesteps=24, task=\"forecasting\")\n",
    "# Create DataLoaders\n",
    "dls = TSDataLoaders.from_dsets(X[splits[0]], y[splits[0]], X[splits[1]], y[splits[1]])\n",
    "# Train an InceptionTime model\n",
    "model = InceptionTime(dls.vars, dls.c)\n",
    "learn = TSRegressor(dls, model)\n",
    "learn.fit_one_cycle(10, 1e-3)\n"
   ]
  },
  {
   "cell_type": "code",
   "execution_count": null,
   "id": "191caaa9",
   "metadata": {},
   "outputs": [],
   "source": [
    "\n",
    "from tsai.data.transforms import RandomCrop, RandomNoise\n",
    "# Apply random cropping and noise\n",
    "dls.add_tfms([RandomCrop(0.9), RandomNoise(0.05)])\n",
    "learn.fit_one_cycle(10, 1e-3)\n"
   ]
  },
  {
   "cell_type": "code",
   "execution_count": null,
   "id": "57cc21ea",
   "metadata": {},
   "outputs": [],
   "source": [
    "\n",
    "from tsai.interpretation import CAM\n",
    "# Visualize feature importance using Class Activation Mapping\n",
    "cam = CAM(learn)\n",
    "cam.plot(X[splits[1]][0])\n"
   ]
  }
 ],
 "metadata": {
  "kernelspec": {
   "display_name": "Python 3",
   "language": "python",
   "name": "python3"
  },
  "language_info": {
   "codemirror_mode": {
    "name": "ipython",
    "version": 3
   },
   "file_extension": ".py",
   "mimetype": "text/x-python",
   "name": "python",
   "nbconvert_exporter": "python",
   "pygments_lexer": "ipython3",
   "version": "3.8.8"
  }
 },
 "nbformat": 4,
 "nbformat_minor": 5
}
