{
 "cells": [
  {
   "cell_type": "code",
   "execution_count": 1,
   "id": "dc9311d8",
   "metadata": {},
   "outputs": [
    {
     "ename": "ModuleNotFoundError",
     "evalue": "No module named 'merlion.models.automl.seasonality_mixin'",
     "output_type": "error",
     "traceback": [
      "\u001b[0;31m---------------------------------------------------------------------------\u001b[0m",
      "\u001b[0;31mModuleNotFoundError\u001b[0m                       Traceback (most recent call last)",
      "\u001b[0;32m<ipython-input-1-6a49ebd0b2ff>\u001b[0m in \u001b[0;36m<module>\u001b[0;34m\u001b[0m\n\u001b[1;32m      8\u001b[0m \u001b[0;32mfrom\u001b[0m \u001b[0mmerlion\u001b[0m\u001b[0;34m.\u001b[0m\u001b[0mevaluate\u001b[0m\u001b[0;34m.\u001b[0m\u001b[0mforecast\u001b[0m \u001b[0;32mimport\u001b[0m \u001b[0mForecastMetric\u001b[0m\u001b[0;34m\u001b[0m\u001b[0;34m\u001b[0m\u001b[0m\n\u001b[1;32m      9\u001b[0m \u001b[0;32mfrom\u001b[0m \u001b[0mmerlion\u001b[0m\u001b[0;34m.\u001b[0m\u001b[0mmodels\u001b[0m\u001b[0;34m.\u001b[0m\u001b[0mautoml\u001b[0m\u001b[0;34m.\u001b[0m\u001b[0mautosarima\u001b[0m \u001b[0;32mimport\u001b[0m \u001b[0mAutoSarima\u001b[0m\u001b[0;34m,\u001b[0m \u001b[0mAutoSarimaConfig\u001b[0m\u001b[0;34m\u001b[0m\u001b[0;34m\u001b[0m\u001b[0m\n\u001b[0;32m---> 10\u001b[0;31m \u001b[0;32mfrom\u001b[0m \u001b[0mmerlion\u001b[0m\u001b[0;34m.\u001b[0m\u001b[0mmodels\u001b[0m\u001b[0;34m.\u001b[0m\u001b[0mautoml\u001b[0m\u001b[0;34m.\u001b[0m\u001b[0mseasonality_mixin\u001b[0m \u001b[0;32mimport\u001b[0m \u001b[0mSeasonalityLayer\u001b[0m\u001b[0;34m\u001b[0m\u001b[0;34m\u001b[0m\u001b[0m\n\u001b[0m\u001b[1;32m     11\u001b[0m \u001b[0;32mfrom\u001b[0m \u001b[0mmerlion\u001b[0m\u001b[0;34m.\u001b[0m\u001b[0mmodels\u001b[0m\u001b[0;34m.\u001b[0m\u001b[0mforecast\u001b[0m\u001b[0;34m.\u001b[0m\u001b[0msarima\u001b[0m \u001b[0;32mimport\u001b[0m \u001b[0mSarima\u001b[0m\u001b[0;34m\u001b[0m\u001b[0;34m\u001b[0m\u001b[0m\n\u001b[1;32m     12\u001b[0m \u001b[0;34m\u001b[0m\u001b[0m\n",
      "\u001b[0;31mModuleNotFoundError\u001b[0m: No module named 'merlion.models.automl.seasonality_mixin'"
     ]
    }
   ],
   "source": [
    "import matplotlib.pyplot as plt\n",
    "import numpy as np\n",
    "import pandas as pd\n",
    "from scipy.stats import norm\n",
    "import logging\n",
    "\n",
    "from merlion.utils.time_series import TimeSeries\n",
    "from merlion.evaluate.forecast import ForecastMetric\n",
    "from merlion.models.automl.autosarima import AutoSarima, AutoSarimaConfig\n",
    "from merlion.models.automl.seasonality_mixin import SeasonalityLayer\n",
    "from merlion.models.forecast.sarima import Sarima\n",
    "\n",
    "from ts_datasets.forecast import M4\n",
    "\n",
    "logging.basicConfig(level=logging.DEBUG)\n",
    "\n",
    "time_series, metadata = M4(\"Hourly\")[0]\n",
    "train_data = TimeSeries.from_pd(time_series[metadata.trainval])\n",
    "test_data = TimeSeries.from_pd(time_series[~metadata.trainval])\n",
    "\n",
    "# Visualize the time series and draw a dotted line to indicate the train/test split\n",
    "fig = plt.figure(figsize=(10, 6))\n",
    "ax = fig.add_subplot(111)\n",
    "ax.plot(time_series)\n",
    "ax.axvline(metadata[metadata.trainval].index[-1], ls=\"--\", lw=\"2\", c=\"k\")\n",
    "plt.show()\n",
    "\n",
    "# Print the length of training data and test data\n",
    "print(f\"{len(train_data)} points in train split, \"\n",
    "      f\"{len(test_data)} points in test split.\")"
   ]
  },
  {
   "cell_type": "code",
   "execution_count": null,
   "id": "0740323e",
   "metadata": {},
   "outputs": [],
   "source": [
    "merlion.models.automl.seasonality_mixin"
   ]
  }
 ],
 "metadata": {
  "kernelspec": {
   "display_name": "Python 3",
   "language": "python",
   "name": "python3"
  },
  "language_info": {
   "codemirror_mode": {
    "name": "ipython",
    "version": 3
   },
   "file_extension": ".py",
   "mimetype": "text/x-python",
   "name": "python",
   "nbconvert_exporter": "python",
   "pygments_lexer": "ipython3",
   "version": "3.8.8"
  }
 },
 "nbformat": 4,
 "nbformat_minor": 5
}
